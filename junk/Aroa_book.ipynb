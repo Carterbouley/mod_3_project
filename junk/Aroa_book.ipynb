{
 "cells": [
  {
   "cell_type": "code",
   "execution_count": 3,
   "metadata": {},
   "outputs": [],
   "source": [
    "import quandl\n",
    "import pandas as pd\n",
    "import requests\n",
    "import numpy as np\n",
    "import seaborn as sns\n",
    "import matplotlib.pyplot as plt \n",
    "import json\n",
    "import datetime as dt\n",
    "from datetime import datetime\n",
    "import pandas as pd\n",
    "import statsmodels.api as sm\n",
    "from statsmodels.formula.api import ols\n",
    "from statsmodels.stats.weightstats import ttest_ind\n"
   ]
  },
  {
   "cell_type": "markdown",
   "metadata": {},
   "source": [
    "## Data Gathering: Quandl API"
   ]
  },
  {
   "cell_type": "code",
   "execution_count": 4,
   "metadata": {},
   "outputs": [],
   "source": [
    "# Federal Debt: Total Public Debt as Percent of Gross Domestic Product, Quarterly\n",
    "# Units: Percent of GDP, Seasonally Adjusted\n",
    "# Source: FRED (Federal Reserve Bank St. Louis)\n",
    "\n",
    "debt = quandl.get(\"FRED/GFDEGDQ188S\", authtoken=\"ckJvd5G2a2dkK9nun3xS\")"
   ]
  },
  {
   "cell_type": "code",
   "execution_count": 5,
   "metadata": {},
   "outputs": [],
   "source": [
    "# S&P 500 Index Composite, Monthly\n",
    "# Units: Index\n",
    "# Source: Yale University, Online Data Robert Shiller\n",
    "\n",
    "sp = quandl.get(\"YALE/SPCOMP\", authtoken=\"ckJvd5G2a2dkK9nun3xS\")"
   ]
  },
  {
   "cell_type": "code",
   "execution_count": 6,
   "metadata": {},
   "outputs": [],
   "source": [
    "# Unemployment Rate, Monthly\n",
    "# Units: Percent, Seasonally Adjusted\n",
    "# Source: FRED (Federal Reserve Bank St. Louis)\n",
    "\n",
    "u = quandl.get(\"FRED/UNRATENSA\", authtoken=\"ckJvd5G2a2dkK9nun3xS\")"
   ]
  },
  {
   "cell_type": "code",
   "execution_count": 7,
   "metadata": {},
   "outputs": [],
   "source": [
    "# Balance on Current Account, NIPA's, Quarterly\n",
    "# Units: Billions of Dollars Seasonally Adjusted Annual Rate\n",
    "# Source: FRED (Federal Reserve Bank St. Louis)\n",
    "\n",
    "balance = quandl.get(\"FRED/NETFI\", authtoken=\"ckJvd5G2a2dkK9nun3xS\")"
   ]
  },
  {
   "cell_type": "code",
   "execution_count": 8,
   "metadata": {},
   "outputs": [],
   "source": [
    "# US Presidents \n",
    "presidents = pd.read_csv('us_presidents.csv')\n",
    "presidents = pd.DataFrame(presidents)"
   ]
  },
  {
   "cell_type": "markdown",
   "metadata": {},
   "source": [
    "## Data Cleaning: "
   ]
  },
  {
   "cell_type": "markdown",
   "metadata": {},
   "source": [
    "### S&P 500 Monthly Returns"
   ]
  },
  {
   "cell_type": "code",
   "execution_count": 9,
   "metadata": {},
   "outputs": [],
   "source": [
    "# Get the date in a new column to be able to merge tables on Date\n",
    "sp['Date'] = sp.index\n",
    "\n",
    "# Adding a new column with t-1 (lag) values to calculate monthly returns on S&P\n",
    "sp['lag'] = sp['S&P Composite'].shift(1)\n",
    "                                      \n",
    "# As there is no lagged S&P for the first date we delete the first row\n",
    "to_drop = sp.iloc[:1]\n",
    "\n",
    "sp.drop(to_drop.index, axis=0, inplace=True)\n",
    "                                      \n",
    "# The S&P monthly returns is simply the rate of change between months ((t - t-1)/t-1)*100\n",
    "sp['monthly_return_per'] = ((sp['S&P Composite']-sp['lag'])/sp['lag'])*100"
   ]
  },
  {
   "cell_type": "markdown",
   "metadata": {},
   "source": [
    "### US Goverment Debt as Percentage of GDP\n",
    "\n",
    "Taking 1st difference (t - t-1)"
   ]
  },
  {
   "cell_type": "code",
   "execution_count": 12,
   "metadata": {},
   "outputs": [],
   "source": [
    "def create_columns(df):\n",
    "    df.reset_index(inplace = True)\n",
    "    df['lag'] = df.iloc[:,1].shift(1)\n",
    "    to_drop1 = sp.iloc[:,2:10]\n",
    "    df.drop(to_drop1, axis=1, inplace=True)\n",
    "    to_drop = df.iloc[:1]\n",
    "    df.drop(to_drop.index, axis=0, inplace=True)\n",
    "    df['monthly_return_per'] = (((df.iloc[:,1]-df.iloc[:,2])/df.iloc[:,2])*100)\n",
    "    return df"
   ]
  },
  {
   "cell_type": "code",
   "execution_count": null,
   "metadata": {},
   "outputs": [],
   "source": []
  },
  {
   "cell_type": "code",
   "execution_count": 8,
   "metadata": {},
   "outputs": [],
   "source": [
    "debt['Date'] = debt.index\n",
    "debt['lag'] = debt.Value.shift(1)\n",
    "to_drop = debt.iloc[:1]\n",
    "debt.drop(to_drop.index, axis=0, inplace=True)"
   ]
  },
  {
   "cell_type": "code",
   "execution_count": 9,
   "metadata": {},
   "outputs": [
    {
     "data": {
      "text/html": [
       "<div>\n",
       "<style scoped>\n",
       "    .dataframe tbody tr th:only-of-type {\n",
       "        vertical-align: middle;\n",
       "    }\n",
       "\n",
       "    .dataframe tbody tr th {\n",
       "        vertical-align: top;\n",
       "    }\n",
       "\n",
       "    .dataframe thead th {\n",
       "        text-align: right;\n",
       "    }\n",
       "</style>\n",
       "<table border=\"1\" class=\"dataframe\">\n",
       "  <thead>\n",
       "    <tr style=\"text-align: right;\">\n",
       "      <th></th>\n",
       "      <th>Value</th>\n",
       "      <th>Date</th>\n",
       "      <th>lag</th>\n",
       "      <th>diff</th>\n",
       "    </tr>\n",
       "    <tr>\n",
       "      <th>Date</th>\n",
       "      <th></th>\n",
       "      <th></th>\n",
       "      <th></th>\n",
       "      <th></th>\n",
       "    </tr>\n",
       "  </thead>\n",
       "  <tbody>\n",
       "    <tr>\n",
       "      <th>1966-04-01</th>\n",
       "      <td>39.26763</td>\n",
       "      <td>1966-04-01</td>\n",
       "      <td>40.33999</td>\n",
       "      <td>-1.07236</td>\n",
       "    </tr>\n",
       "    <tr>\n",
       "      <th>1966-07-01</th>\n",
       "      <td>39.62091</td>\n",
       "      <td>1966-07-01</td>\n",
       "      <td>39.26763</td>\n",
       "      <td>0.35328</td>\n",
       "    </tr>\n",
       "    <tr>\n",
       "      <th>1966-10-01</th>\n",
       "      <td>39.51977</td>\n",
       "      <td>1966-10-01</td>\n",
       "      <td>39.62091</td>\n",
       "      <td>-0.10114</td>\n",
       "    </tr>\n",
       "    <tr>\n",
       "      <th>1967-01-01</th>\n",
       "      <td>39.20383</td>\n",
       "      <td>1967-01-01</td>\n",
       "      <td>39.51977</td>\n",
       "      <td>-0.31594</td>\n",
       "    </tr>\n",
       "    <tr>\n",
       "      <th>1967-04-01</th>\n",
       "      <td>38.03292</td>\n",
       "      <td>1967-04-01</td>\n",
       "      <td>39.20383</td>\n",
       "      <td>-1.17091</td>\n",
       "    </tr>\n",
       "  </tbody>\n",
       "</table>\n",
       "</div>"
      ],
      "text/plain": [
       "               Value       Date       lag     diff\n",
       "Date                                              \n",
       "1966-04-01  39.26763 1966-04-01  40.33999 -1.07236\n",
       "1966-07-01  39.62091 1966-07-01  39.26763  0.35328\n",
       "1966-10-01  39.51977 1966-10-01  39.62091 -0.10114\n",
       "1967-01-01  39.20383 1967-01-01  39.51977 -0.31594\n",
       "1967-04-01  38.03292 1967-04-01  39.20383 -1.17091"
      ]
     },
     "execution_count": 9,
     "metadata": {},
     "output_type": "execute_result"
    }
   ],
   "source": [
    "debt['diff'] = debt['Value'] - debt['lag']\n",
    "\n",
    "debt.head()"
   ]
  },
  {
   "cell_type": "markdown",
   "metadata": {},
   "source": [
    "### US Unemployment Rate\n",
    "\n",
    "Taking 1st difference (t - t-1)"
   ]
  },
  {
   "cell_type": "code",
   "execution_count": 10,
   "metadata": {},
   "outputs": [],
   "source": [
    "u['Date'] = u.index\n",
    "u['lag'] = u.Value.shift(1)\n",
    "to_drop = u.iloc[:1]\n",
    "u.drop(to_drop.index, axis=0, inplace=True)"
   ]
  },
  {
   "cell_type": "code",
   "execution_count": 11,
   "metadata": {},
   "outputs": [
    {
     "data": {
      "text/html": [
       "<div>\n",
       "<style scoped>\n",
       "    .dataframe tbody tr th:only-of-type {\n",
       "        vertical-align: middle;\n",
       "    }\n",
       "\n",
       "    .dataframe tbody tr th {\n",
       "        vertical-align: top;\n",
       "    }\n",
       "\n",
       "    .dataframe thead th {\n",
       "        text-align: right;\n",
       "    }\n",
       "</style>\n",
       "<table border=\"1\" class=\"dataframe\">\n",
       "  <thead>\n",
       "    <tr style=\"text-align: right;\">\n",
       "      <th></th>\n",
       "      <th>Value</th>\n",
       "      <th>Date</th>\n",
       "      <th>lag</th>\n",
       "      <th>diff</th>\n",
       "    </tr>\n",
       "    <tr>\n",
       "      <th>Date</th>\n",
       "      <th></th>\n",
       "      <th></th>\n",
       "      <th></th>\n",
       "      <th></th>\n",
       "    </tr>\n",
       "  </thead>\n",
       "  <tbody>\n",
       "    <tr>\n",
       "      <th>1948-02-01</th>\n",
       "      <td>4.7</td>\n",
       "      <td>1948-02-01</td>\n",
       "      <td>4.0</td>\n",
       "      <td>0.7</td>\n",
       "    </tr>\n",
       "    <tr>\n",
       "      <th>1948-03-01</th>\n",
       "      <td>4.5</td>\n",
       "      <td>1948-03-01</td>\n",
       "      <td>4.7</td>\n",
       "      <td>-0.2</td>\n",
       "    </tr>\n",
       "    <tr>\n",
       "      <th>1948-04-01</th>\n",
       "      <td>4.0</td>\n",
       "      <td>1948-04-01</td>\n",
       "      <td>4.5</td>\n",
       "      <td>-0.5</td>\n",
       "    </tr>\n",
       "    <tr>\n",
       "      <th>1948-05-01</th>\n",
       "      <td>3.4</td>\n",
       "      <td>1948-05-01</td>\n",
       "      <td>4.0</td>\n",
       "      <td>-0.6</td>\n",
       "    </tr>\n",
       "    <tr>\n",
       "      <th>1948-06-01</th>\n",
       "      <td>3.9</td>\n",
       "      <td>1948-06-01</td>\n",
       "      <td>3.4</td>\n",
       "      <td>0.5</td>\n",
       "    </tr>\n",
       "  </tbody>\n",
       "</table>\n",
       "</div>"
      ],
      "text/plain": [
       "            Value       Date  lag  diff\n",
       "Date                                   \n",
       "1948-02-01    4.7 1948-02-01  4.0   0.7\n",
       "1948-03-01    4.5 1948-03-01  4.7  -0.2\n",
       "1948-04-01    4.0 1948-04-01  4.5  -0.5\n",
       "1948-05-01    3.4 1948-05-01  4.0  -0.6\n",
       "1948-06-01    3.9 1948-06-01  3.4   0.5"
      ]
     },
     "execution_count": 11,
     "metadata": {},
     "output_type": "execute_result"
    }
   ],
   "source": [
    "u['diff'] = u['Value'] - u['lag']\n",
    "\n",
    "u.head()"
   ]
  },
  {
   "cell_type": "markdown",
   "metadata": {},
   "source": [
    "### Merging Presidents data to S&P data"
   ]
  },
  {
   "cell_type": "code",
   "execution_count": 12,
   "metadata": {},
   "outputs": [],
   "source": [
    "date_end_series = list(presidents['end'])"
   ]
  },
  {
   "cell_type": "code",
   "execution_count": 13,
   "metadata": {},
   "outputs": [],
   "source": [
    "#Adding missing end date for Obama and using today's data for Trump as he is still in Office\n",
    "\n",
    "date_end_series[-2] = 'January 20, 2017'\n",
    "date_end_series[-1] = 'November 12, 2019'"
   ]
  },
  {
   "cell_type": "code",
   "execution_count": 14,
   "metadata": {},
   "outputs": [],
   "source": [
    "# Converting presidents final dates in office into a datetime object\n",
    "\n",
    "new_date_end_series = []\n",
    "for row in date_end_series:\n",
    "    date = dt.datetime.strptime(row,'%B %d, %Y').strftime('%Y-%m-%d')\n",
    "    datetime_object = datetime.strptime(date, '%Y-%m-%d')\n",
    "    new_date_end_series.append(datetime_object)"
   ]
  },
  {
   "cell_type": "code",
   "execution_count": 21,
   "metadata": {},
   "outputs": [],
   "source": [
    "# presidents['end_date'] = new_date_end_series\n",
    "\n",
    "presidents['end_date'] = new_date_end_series\n",
    "new_president_df = presidents[['president', 'end_date']].copy()\n"
   ]
  },
  {
   "cell_type": "code",
   "execution_count": 22,
   "metadata": {},
   "outputs": [],
   "source": [
    "# Deleting presidents before S&P Index start date\n",
    "\n",
    "to_drop  = new_president_df[:17].index\n",
    "new_president_df = new_president_df.drop(to_drop, axis = 0)"
   ]
  },
  {
   "cell_type": "code",
   "execution_count": 23,
   "metadata": {},
   "outputs": [],
   "source": [
    "# Indexing each dataframe by year/month\n",
    "\n",
    "presidents['month'] = presidents['end_date'].dt.month\n",
    "presidents['year'] = presidents['end_date'].dt.year\n",
    "presidents['monthyear'] = presidents['year'].map(str) + '/' + presidents['month'].map(str)\n",
    "\n",
    "sp['month'] = sp['Date'].dt.month\n",
    "sp['year'] = sp['Date'].dt.year\n",
    "sp['monthyear'] = sp['year'].map(str) + '/' + sp['month'].map(str)"
   ]
  },
  {
   "cell_type": "code",
   "execution_count": 24,
   "metadata": {},
   "outputs": [
    {
     "name": "stderr",
     "output_type": "stream",
     "text": [
      "/Users/flatironschool/anaconda3/lib/python3.7/site-packages/ipykernel_launcher.py:11: SettingWithCopyWarning: \n",
      "A value is trying to be set on a copy of a slice from a DataFrame.\n",
      "Try using .loc[row_indexer,col_indexer] = value instead\n",
      "\n",
      "See the caveats in the documentation: http://pandas.pydata.org/pandas-docs/stable/indexing.html#indexing-view-versus-copy\n",
      "  # This is added back by InteractiveShellApp.init_path()\n",
      "/Users/flatironschool/anaconda3/lib/python3.7/site-packages/pandas/core/generic.py:6130: SettingWithCopyWarning: \n",
      "A value is trying to be set on a copy of a slice from a DataFrame\n",
      "\n",
      "See the caveats in the documentation: http://pandas.pydata.org/pandas-docs/stable/indexing.html#indexing-view-versus-copy\n",
      "  self._update_inplace(new_data)\n"
     ]
    }
   ],
   "source": [
    "# new dataframe, merged from old dataframes on date\n",
    "\n",
    "df = sp.merge( presidents, on='monthyear', how='left')\n",
    "\n",
    "# Selecting only columns we want\n",
    "\n",
    "sp_p = df[['Date','monthly_return_per', 'president']]\n",
    "\n",
    "# filling in all presidents \n",
    "\n",
    "sp_p['president'] = sp_p['president'].fillna(method='backfill')\n",
    "\n",
    "# filling in Donald trump (as there was no endate)\n",
    "\n",
    "sp_p.president.fillna('Donald Trump', inplace = True)"
   ]
  },
  {
   "cell_type": "code",
   "execution_count": 26,
   "metadata": {},
   "outputs": [],
   "source": [
    "sp_p.to_csv('clean_sp.csv')"
   ]
  },
  {
   "cell_type": "code",
   "execution_count": 27,
   "metadata": {},
   "outputs": [
    {
     "data": {
      "text/html": [
       "<div>\n",
       "<style scoped>\n",
       "    .dataframe tbody tr th:only-of-type {\n",
       "        vertical-align: middle;\n",
       "    }\n",
       "\n",
       "    .dataframe tbody tr th {\n",
       "        vertical-align: top;\n",
       "    }\n",
       "\n",
       "    .dataframe thead th {\n",
       "        text-align: right;\n",
       "    }\n",
       "</style>\n",
       "<table border=\"1\" class=\"dataframe\">\n",
       "  <thead>\n",
       "    <tr style=\"text-align: right;\">\n",
       "      <th></th>\n",
       "      <th>Date</th>\n",
       "      <th>monthly_return_per</th>\n",
       "      <th>president</th>\n",
       "    </tr>\n",
       "  </thead>\n",
       "  <tbody>\n",
       "    <tr>\n",
       "      <th>1778</th>\n",
       "      <td>2019-04-30</td>\n",
       "      <td>3.559940</td>\n",
       "      <td>Donald Trump</td>\n",
       "    </tr>\n",
       "    <tr>\n",
       "      <th>1779</th>\n",
       "      <td>2019-05-31</td>\n",
       "      <td>-1.690543</td>\n",
       "      <td>Donald Trump</td>\n",
       "    </tr>\n",
       "    <tr>\n",
       "      <th>1780</th>\n",
       "      <td>2019-06-30</td>\n",
       "      <td>1.242158</td>\n",
       "      <td>Donald Trump</td>\n",
       "    </tr>\n",
       "    <tr>\n",
       "      <th>1781</th>\n",
       "      <td>2019-07-31</td>\n",
       "      <td>3.665528</td>\n",
       "      <td>Donald Trump</td>\n",
       "    </tr>\n",
       "    <tr>\n",
       "      <th>1782</th>\n",
       "      <td>2019-08-31</td>\n",
       "      <td>-3.742519</td>\n",
       "      <td>Donald Trump</td>\n",
       "    </tr>\n",
       "  </tbody>\n",
       "</table>\n",
       "</div>"
      ],
      "text/plain": [
       "           Date  monthly_return_per     president\n",
       "1778 2019-04-30            3.559940  Donald Trump\n",
       "1779 2019-05-31           -1.690543  Donald Trump\n",
       "1780 2019-06-30            1.242158  Donald Trump\n",
       "1781 2019-07-31            3.665528  Donald Trump\n",
       "1782 2019-08-31           -3.742519  Donald Trump"
      ]
     },
     "execution_count": 27,
     "metadata": {},
     "output_type": "execute_result"
    }
   ],
   "source": [
    "sp_p.tail()"
   ]
  },
  {
   "cell_type": "markdown",
   "metadata": {},
   "source": [
    "### Sampling: Trump Dummy Variable"
   ]
  },
  {
   "cell_type": "code",
   "execution_count": null,
   "metadata": {},
   "outputs": [],
   "source": [
    "sp_p['trump'] =  new_df['president'].get_dummy"
   ]
  },
  {
   "cell_type": "markdown",
   "metadata": {},
   "source": [
    "## Data Visualization"
   ]
  },
  {
   "cell_type": "markdown",
   "metadata": {},
   "source": [
    "### Time Series"
   ]
  },
  {
   "cell_type": "code",
   "execution_count": null,
   "metadata": {},
   "outputs": [],
   "source": [
    "fig, (ax1, ax2, ax3) = plt.subplots(ncols=3, figsize=(20, 5)) \n",
    "\n",
    "sns.lineplot(x= u.index, y=u.Value, ax=ax1, color='steelblue').set_title('Unemployment Rate (Quarterly)')\n",
    "ax1.axvspan('2017', '2019', alpha=0.8, color='pink')\n",
    "sns.lineplot(x=debt.index, y=debt.Value, ax=ax2, color='darkgray').set_title('US Goverment Total Debt in $bn (Quarterly)')\n",
    "ax2.axvspan('2017', '2019', alpha=0.2, color='cyan')\n",
    "sns.lineplot(x= sp.index, y=sp['monthly_return_per'], ax=ax3, color='navy').set_title('S&P 500 Monthly Return')\n",
    "ax3.axvspan('2017', '2019', alpha=0.3, color='grey')\n",
    "\n",
    "plt.show()"
   ]
  },
  {
   "cell_type": "markdown",
   "metadata": {},
   "source": [
    "### Distribution"
   ]
  },
  {
   "cell_type": "code",
   "execution_count": null,
   "metadata": {},
   "outputs": [],
   "source": [
    "fig, (ax1, ax2, ax3) = plt.subplots(ncols=3, figsize=(20, 5)) \n",
    "\n",
    "sns.distplot(u['diff'], ax=ax1, color='steelblue').set_title('Unemployment Rate 1st difference (Quarterly)')\n",
    "sns.distplot(debt['diff'], ax=ax2, color= 'darkgray').set_title('US Goverment Total Debt 1st difference (Quarterly)')\n",
    "sns.distplot(sp['monthly_return_per'], ax=ax3, bins=200, color='navy').set_title('S&P 500 Monthly Return')\n",
    "\n",
    "plt.show()"
   ]
  },
  {
   "cell_type": "markdown",
   "metadata": {},
   "source": [
    "## Hypothesis Testing: T-Test"
   ]
  },
  {
   "cell_type": "markdown",
   "metadata": {},
   "source": [
    "### Hypothesis 1:\n",
    "\n",
    "<blockquote class=\"twitter-tweet\" data-lang=\"en\"><p lang=\"en\" dir=\"ltr\">The S&amp;P just hit an ALL TIME HIGH. This is a big win for jobs, 401-K’s, and, frankly, EVERYONE! Our Country is doing great. Even killed long sought ISIS murderer, Al-Baghdadi. We are stronger than ever before, with GREAT upward potential. Enjoy!</p>&mdash; Donald J. Trump (@realDonaldTrump) <a href=\"https://twitter.com/realDonaldTrump/status/1188813055108374533?ref_src=twsrc%5Etfw\">October 28, 2019</a></blockquote>\n",
    "\n",
    "\n",
    " \n",
    "    h0 = Trump has no effect on the rate of growth of the s&p 500\n",
    "    h1 = Trump is increasing the rate of growth of the s&p 500\n",
    "    \n"
   ]
  },
  {
   "cell_type": "code",
   "execution_count": null,
   "metadata": {},
   "outputs": [],
   "source": [
    "# Trump dummy variable\n",
    "\n"
   ]
  },
  {
   "cell_type": "markdown",
   "metadata": {},
   "source": [
    "### Hypothesis_2:\n",
    "\n",
    "<blockquote class=\"twitter-tweet\" data-lang=\"en\"><p lang=\"en\" dir=\"ltr\">Breaking News: Unemployment Rate, at 3.5%, drops to a 50 YEAR LOW. Wow America, lets impeach your President (even though he did nothing wrong!).</p>&mdash; Donald J. Trump (@realDonaldTrump) <a href=\"https://twitter.com/realDonaldTrump/status/1180102056411095042?ref_src=twsrc%5Etfw\">October 4, 2019</a></blockquote>\n",
    "\n",
    "\n",
    "\n",
    "    h0 = Trump has no effect on the rate of unemployment in the usa\n",
    "    h1 = Trump has reduced the rate of unemployment in the USA\n",
    "\n"
   ]
  },
  {
   "cell_type": "code",
   "execution_count": null,
   "metadata": {},
   "outputs": [],
   "source": []
  },
  {
   "cell_type": "code",
   "execution_count": null,
   "metadata": {},
   "outputs": [],
   "source": []
  },
  {
   "cell_type": "markdown",
   "metadata": {},
   "source": [
    "### Hypothesis_3: \n",
    "\n",
    "<blockquote class=\"twitter-tweet\" data-lang=\"en\"><p lang=\"en\" dir=\"ltr\">The media has not reported that the National Debt in my first month went down by $12 billion vs a $200 billion increase in Obama first mo.</p>&mdash; Donald J. Trump (@realDonaldTrump) <a href=\"https://twitter.com/realDonaldTrump/status/835479283699224576?ref_src=twsrc%5Etfw\">February 25, 2017</a></blockquote>\n",
    "\n",
    "\n",
    "\n",
    "    h0 = Trump has no effect on the level of debt in the USA\n",
    "    h1 = Trump had reduced the level of national debt in the USA\n",
    "    \n",
    "   \n",
    "\n"
   ]
  },
  {
   "cell_type": "code",
   "execution_count": null,
   "metadata": {},
   "outputs": [],
   "source": [
    "# Population mean (μ)\n",
    "debt.Value.mean()\n",
    "\n",
    "# Sample mean (x̄) using NumPy mean()\n",
    "\n",
    "\n",
    "# trump_mean = trump.mean()"
   ]
  },
  {
   "cell_type": "code",
   "execution_count": null,
   "metadata": {},
   "outputs": [],
   "source": []
  },
  {
   "cell_type": "markdown",
   "metadata": {},
   "source": [
    "### Hypothesis_4: \n",
    "\n",
    "<blockquote class=\"twitter-tweet\" data-lang=\"en\"><p lang=\"en\" dir=\"ltr\">The trade deficit rose to a 7yr high thanks to horrible trade policies Clinton supports. I will fix it fast- JOBS! <a href=\"https://t.co/jaGeN4u50U\">https://t.co/jaGeN4u50U</a></p>&mdash; Donald J. Trump (@realDonaldTrump) <a href=\"https://twitter.com/realDonaldTrump/status/743486962670141440?ref_src=twsrc%5Etfw\">June 16, 2016</a></blockquote>\n",
    "\n",
    "\n",
    "    h0 = Trump has no effect on the trade balance of the USA\n",
    "    h1 = Trump is reducing the trade balance of the USA\n"
   ]
  },
  {
   "cell_type": "code",
   "execution_count": null,
   "metadata": {},
   "outputs": [],
   "source": []
  },
  {
   "cell_type": "code",
   "execution_count": null,
   "metadata": {},
   "outputs": [],
   "source": []
  }
 ],
 "metadata": {
  "kernelspec": {
   "display_name": "Python 3",
   "language": "python",
   "name": "python3"
  },
  "language_info": {
   "codemirror_mode": {
    "name": "ipython",
    "version": 3
   },
   "file_extension": ".py",
   "mimetype": "text/x-python",
   "name": "python",
   "nbconvert_exporter": "python",
   "pygments_lexer": "ipython3",
   "version": "3.7.3"
  }
 },
 "nbformat": 4,
 "nbformat_minor": 4
}
