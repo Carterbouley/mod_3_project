{
 "cells": [
  {
   "cell_type": "markdown",
   "metadata": {},
   "source": [
    "autocorrelacion test"
   ]
  },
  {
   "cell_type": "code",
   "execution_count": 41,
   "metadata": {},
   "outputs": [],
   "source": [
    "import quandl\n",
    "import pandas as pd\n",
    "import requests\n",
    "import numpy as np\n",
    "import seaborn as sns\n",
    "import matplotlib.pyplot as plt \n",
    "import json\n",
    "import datetime as dt\n",
    "from datetime import datetime\n",
    "import pandas as pd\n",
    "import statsmodels.api as sm\n",
    "from statsmodels.formula.api import ols\n"
   ]
  },
  {
   "cell_type": "code",
   "execution_count": 8,
   "metadata": {},
   "outputs": [],
   "source": [
    "# Federal Debt: Total Public Debt as Percent of Gross Domestic Product, Quarterly\n",
    "# Units: Percent of GDP, Seasonally Adjusted\n",
    "# Source: FRED (Federal Reserve Bank St. Louis)\n",
    "\n",
    "debt = quandl.get(\"FRED/GFDEGDQ188S\", authtoken=\"ckJvd5G2a2dkK9nun3xS\")"
   ]
  },
  {
   "cell_type": "code",
   "execution_count": 5,
   "metadata": {},
   "outputs": [],
   "source": [
    "# S&P 500 Index Composite, Monthly\n",
    "# Units: Index\n",
    "# Source: Yale University, Online Data Robert Shiller\n",
    "\n",
    "sp500 = quandl.get(\"YALE/SPCOMP\", authtoken=\"ckJvd5G2a2dkK9nun3xS\")"
   ]
  },
  {
   "cell_type": "code",
   "execution_count": 6,
   "metadata": {},
   "outputs": [],
   "source": [
    "# Unemployment Rate, Monthly\n",
    "# Units: Percent, Seasonally Adjusted\n",
    "# Source: FRED (Federal Reserve Bank St. Louis)\n",
    "\n",
    "u = quandl.get(\"FRED/M0892AUSM156SNBR\", authtoken=\"ckJvd5G2a2dkK9nun3xS\")"
   ]
  },
  {
   "cell_type": "code",
   "execution_count": 7,
   "metadata": {},
   "outputs": [],
   "source": [
    "# Balance on Current Account, NIPA's, Quarterly\n",
    "# Units: Billions of Dollars Seasonally Adjusted Annual Rate\n",
    "# Source: FRED (Federal Reserve Bank St. Louis)\n",
    "\n",
    "balance = quandl.get(\"FRED/NETFI\", authtoken=\"ckJvd5G2a2dkK9nun3xS\")"
   ]
  },
  {
   "cell_type": "code",
   "execution_count": 3,
   "metadata": {},
   "outputs": [],
   "source": [
    "# US Presidents \n",
    "\n",
    "presidents = pd.read_csv('us_presidents.csv')"
   ]
  },
  {
   "cell_type": "code",
   "execution_count": 4,
   "metadata": {},
   "outputs": [],
   "source": [
    "presidents = pd.DataFrame(presidents)"
   ]
  },
  {
   "cell_type": "code",
   "execution_count": 12,
   "metadata": {},
   "outputs": [
    {
     "data": {
      "text/html": [
       "<div>\n",
       "<style scoped>\n",
       "    .dataframe tbody tr th:only-of-type {\n",
       "        vertical-align: middle;\n",
       "    }\n",
       "\n",
       "    .dataframe tbody tr th {\n",
       "        vertical-align: top;\n",
       "    }\n",
       "\n",
       "    .dataframe thead th {\n",
       "        text-align: right;\n",
       "    }\n",
       "</style>\n",
       "<table border=\"1\" class=\"dataframe\">\n",
       "  <thead>\n",
       "    <tr style=\"text-align: right;\">\n",
       "      <th></th>\n",
       "      <th>Unnamed: 0</th>\n",
       "      <th>S.No.</th>\n",
       "      <th>start</th>\n",
       "      <th>end</th>\n",
       "      <th>president</th>\n",
       "      <th>prior</th>\n",
       "      <th>party</th>\n",
       "      <th>vice</th>\n",
       "    </tr>\n",
       "  </thead>\n",
       "  <tbody>\n",
       "    <tr>\n",
       "      <th>0</th>\n",
       "      <td>0</td>\n",
       "      <td>1</td>\n",
       "      <td>April 30, 1789</td>\n",
       "      <td>March 4, 1797</td>\n",
       "      <td>George Washington</td>\n",
       "      <td>Commander-in-Chief  of the  Continental Army  ...</td>\n",
       "      <td>Nonpartisan   [13]</td>\n",
       "      <td>John Adams</td>\n",
       "    </tr>\n",
       "  </tbody>\n",
       "</table>\n",
       "</div>"
      ],
      "text/plain": [
       "   Unnamed: 0  S.No.           start            end          president  \\\n",
       "0           0      1  April 30, 1789  March 4, 1797  George Washington   \n",
       "\n",
       "                                               prior               party  \\\n",
       "0  Commander-in-Chief  of the  Continental Army  ...  Nonpartisan   [13]   \n",
       "\n",
       "         vice  \n",
       "0  John Adams  "
      ]
     },
     "execution_count": 12,
     "metadata": {},
     "output_type": "execute_result"
    }
   ],
   "source": [
    "presidents.head(1)"
   ]
  },
  {
   "cell_type": "code",
   "execution_count": 93,
   "metadata": {},
   "outputs": [
    {
     "name": "stdout",
     "output_type": "stream",
     "text": [
      "<class 'pandas.core.frame.DataFrame'>\n",
      "RangeIndex: 45 entries, 0 to 44\n",
      "Data columns (total 8 columns):\n",
      "Unnamed: 0    45 non-null int64\n",
      "S.No.         45 non-null int64\n",
      "start         45 non-null object\n",
      "end           45 non-null object\n",
      "president     45 non-null object\n",
      "prior         45 non-null object\n",
      "party         45 non-null object\n",
      "vice          45 non-null object\n",
      "dtypes: int64(2), object(6)\n",
      "memory usage: 2.9+ KB\n",
      "None\n"
     ]
    }
   ],
   "source": [
    "presidents['start'] = presidents['start'].astype('str')\n",
    "print(presidents.info())\n",
    "#dt.datetime.strptime(presidents['end'], '%B %d, %Y')"
   ]
  },
  {
   "cell_type": "code",
   "execution_count": 89,
   "metadata": {},
   "outputs": [
    {
     "data": {
      "text/html": [
       "<div>\n",
       "<style scoped>\n",
       "    .dataframe tbody tr th:only-of-type {\n",
       "        vertical-align: middle;\n",
       "    }\n",
       "\n",
       "    .dataframe tbody tr th {\n",
       "        vertical-align: top;\n",
       "    }\n",
       "\n",
       "    .dataframe thead th {\n",
       "        text-align: right;\n",
       "    }\n",
       "</style>\n",
       "<table border=\"1\" class=\"dataframe\">\n",
       "  <thead>\n",
       "    <tr style=\"text-align: right;\">\n",
       "      <th></th>\n",
       "      <th>Unnamed: 0</th>\n",
       "      <th>S.No.</th>\n",
       "      <th>start</th>\n",
       "      <th>end</th>\n",
       "      <th>president</th>\n",
       "      <th>prior</th>\n",
       "      <th>party</th>\n",
       "      <th>vice</th>\n",
       "    </tr>\n",
       "  </thead>\n",
       "  <tbody>\n",
       "    <tr>\n",
       "      <th>40</th>\n",
       "      <td>40</td>\n",
       "      <td>41</td>\n",
       "      <td>January 20, 1989</td>\n",
       "      <td>January 20, 1993</td>\n",
       "      <td>George H. W. Bush</td>\n",
       "      <td>43rd  Vice President of the United States</td>\n",
       "      <td>Republican</td>\n",
       "      <td>Dan Quayle</td>\n",
       "    </tr>\n",
       "    <tr>\n",
       "      <th>41</th>\n",
       "      <td>41</td>\n",
       "      <td>42</td>\n",
       "      <td>January 20, 1993</td>\n",
       "      <td>January 20, 2001</td>\n",
       "      <td>Bill Clinton</td>\n",
       "      <td>40th &amp; 42nd  Governor of Arkansas   (1979–1981...</td>\n",
       "      <td>Democratic</td>\n",
       "      <td>Al Gore</td>\n",
       "    </tr>\n",
       "    <tr>\n",
       "      <th>42</th>\n",
       "      <td>42</td>\n",
       "      <td>43</td>\n",
       "      <td>January 20, 2001</td>\n",
       "      <td>January 20, 2009</td>\n",
       "      <td>George W. Bush</td>\n",
       "      <td>46th  Governor of Texas   ( 1995–2000 )</td>\n",
       "      <td>Republican</td>\n",
       "      <td>Dick Cheney</td>\n",
       "    </tr>\n",
       "    <tr>\n",
       "      <th>43</th>\n",
       "      <td>43</td>\n",
       "      <td>44</td>\n",
       "      <td>January 20, 2009</td>\n",
       "      <td>nan</td>\n",
       "      <td>Barack Obama</td>\n",
       "      <td>U.S. Senator   ( Class 3 )   from  Illinois   ...</td>\n",
       "      <td>Democratic</td>\n",
       "      <td>Joe Biden</td>\n",
       "    </tr>\n",
       "    <tr>\n",
       "      <th>44</th>\n",
       "      <td>44</td>\n",
       "      <td>45</td>\n",
       "      <td>January 20, 2017</td>\n",
       "      <td>--</td>\n",
       "      <td>Donald Trump</td>\n",
       "      <td>Chairman of   The Trump Organization   ( 1971–...</td>\n",
       "      <td>Republican</td>\n",
       "      <td>Mike Pence</td>\n",
       "    </tr>\n",
       "  </tbody>\n",
       "</table>\n",
       "</div>"
      ],
      "text/plain": [
       "    Unnamed: 0  S.No.             start               end          president  \\\n",
       "40          40     41  January 20, 1989  January 20, 1993  George H. W. Bush   \n",
       "41          41     42  January 20, 1993  January 20, 2001       Bill Clinton   \n",
       "42          42     43  January 20, 2001  January 20, 2009     George W. Bush   \n",
       "43          43     44  January 20, 2009               nan       Barack Obama   \n",
       "44          44     45  January 20, 2017                --       Donald Trump   \n",
       "\n",
       "                                                prior       party         vice  \n",
       "40          43rd  Vice President of the United States  Republican   Dan Quayle  \n",
       "41  40th & 42nd  Governor of Arkansas   (1979–1981...  Democratic      Al Gore  \n",
       "42            46th  Governor of Texas   ( 1995–2000 )  Republican  Dick Cheney  \n",
       "43  U.S. Senator   ( Class 3 )   from  Illinois   ...  Democratic    Joe Biden  \n",
       "44  Chairman of   The Trump Organization   ( 1971–...  Republican   Mike Pence  "
      ]
     },
     "execution_count": 89,
     "metadata": {},
     "output_type": "execute_result"
    }
   ],
   "source": [
    "presidents"
   ]
  },
  {
   "cell_type": "code",
   "execution_count": 44,
   "metadata": {},
   "outputs": [],
   "source": [
    "date = 'March 4, 1797'"
   ]
  },
  {
   "cell_type": "code",
   "execution_count": 48,
   "metadata": {},
   "outputs": [],
   "source": [
    "date_2 = dt.datetime.strptime(date, '%B %d, %Y').strftime('%d-%m-%Y')"
   ]
  },
  {
   "cell_type": "code",
   "execution_count": 90,
   "metadata": {},
   "outputs": [],
   "source": [
    "date_series = list(presidents['start'])"
   ]
  },
  {
   "cell_type": "code",
   "execution_count": 96,
   "metadata": {},
   "outputs": [
    {
     "data": {
      "text/plain": [
       "['April 30, 1789',\n",
       " 'March 4, 1797',\n",
       " 'March 4, 1801',\n",
       " 'March 4, 1809',\n",
       " 'March 4, 1817',\n",
       " 'March 4, 1825',\n",
       " 'March 4, 1829',\n",
       " 'March 4, 1837',\n",
       " 'March 4, 1841',\n",
       " 'April 4, 1841',\n",
       " 'March 4, 1845',\n",
       " 'March 4, 1849',\n",
       " 'July 9, 1850',\n",
       " 'March 4, 1853',\n",
       " 'March 4, 1857',\n",
       " 'March 4, 1861',\n",
       " 'April 15, 1865',\n",
       " 'March 4, 1869',\n",
       " 'March 4, 1877',\n",
       " 'March 4, 1881',\n",
       " 'September 19, 1881',\n",
       " 'March 4, 1885',\n",
       " 'March 4, 1889',\n",
       " 'March 4, 1893',\n",
       " 'March 4, 1897',\n",
       " 'September 14, 1901',\n",
       " 'March 4, 1909',\n",
       " 'March 4, 1913',\n",
       " 'March 4, 1921',\n",
       " 'August 2, 1923',\n",
       " 'March 4, 1929',\n",
       " 'March 4, 1933',\n",
       " 'April 12, 1945',\n",
       " 'January 20, 1953',\n",
       " 'January 20, 1961',\n",
       " 'November 22, 1963',\n",
       " 'January 20, 1969',\n",
       " 'August 9, 1974',\n",
       " 'January 20, 1977',\n",
       " 'January 20, 1981',\n",
       " 'January 20, 1989',\n",
       " 'January 20, 1993',\n",
       " 'January 20, 2001',\n",
       " 'January 20, 2009',\n",
       " 'January 20, 2017']"
      ]
     },
     "execution_count": 96,
     "metadata": {},
     "output_type": "execute_result"
    }
   ],
   "source": []
  },
  {
   "cell_type": "code",
   "execution_count": 117,
   "metadata": {},
   "outputs": [],
   "source": [
    "\n",
    "new_series = []\n",
    "for row in date_series:\n",
    "    date = dt.datetime.strptime(row,'%B %d, %Y').strftime('%d-%m-%Y')\n",
    "    new_series.append(date)\n"
   ]
  },
  {
   "cell_type": "code",
   "execution_count": 118,
   "metadata": {},
   "outputs": [
    {
     "data": {
      "text/plain": [
       "['30-04-1789',\n",
       " '04-03-1797',\n",
       " '04-03-1801',\n",
       " '04-03-1809',\n",
       " '04-03-1817',\n",
       " '04-03-1825',\n",
       " '04-03-1829',\n",
       " '04-03-1837',\n",
       " '04-03-1841',\n",
       " '04-04-1841',\n",
       " '04-03-1845',\n",
       " '04-03-1849',\n",
       " '09-07-1850',\n",
       " '04-03-1853',\n",
       " '04-03-1857',\n",
       " '04-03-1861',\n",
       " '15-04-1865',\n",
       " '04-03-1869',\n",
       " '04-03-1877',\n",
       " '04-03-1881',\n",
       " '19-09-1881',\n",
       " '04-03-1885',\n",
       " '04-03-1889',\n",
       " '04-03-1893',\n",
       " '04-03-1897',\n",
       " '14-09-1901',\n",
       " '04-03-1909',\n",
       " '04-03-1913',\n",
       " '04-03-1921',\n",
       " '02-08-1923',\n",
       " '04-03-1929',\n",
       " '04-03-1933',\n",
       " '12-04-1945',\n",
       " '20-01-1953',\n",
       " '20-01-1961',\n",
       " '22-11-1963',\n",
       " '20-01-1969',\n",
       " '09-08-1974',\n",
       " '20-01-1977',\n",
       " '20-01-1981',\n",
       " '20-01-1989',\n",
       " '20-01-1993',\n",
       " '20-01-2001',\n",
       " '20-01-2009',\n",
       " '20-01-2017']"
      ]
     },
     "execution_count": 118,
     "metadata": {},
     "output_type": "execute_result"
    }
   ],
   "source": [
    "new_series"
   ]
  },
  {
   "cell_type": "code",
   "execution_count": 112,
   "metadata": {},
   "outputs": [],
   "source": [
    "date_format(date_series)"
   ]
  },
  {
   "cell_type": "code",
   "execution_count": 8,
   "metadata": {},
   "outputs": [],
   "source": [
    "sp = sp500.iloc[:,:1]"
   ]
  },
  {
   "cell_type": "code",
   "execution_count": 9,
   "metadata": {},
   "outputs": [
    {
     "name": "stderr",
     "output_type": "stream",
     "text": [
      "/Users/flatironschool/anaconda3/lib/python3.7/site-packages/ipykernel_launcher.py:2: SettingWithCopyWarning: \n",
      "A value is trying to be set on a copy of a slice from a DataFrame.\n",
      "Try using .loc[row_indexer,col_indexer] = value instead\n",
      "\n",
      "See the caveats in the documentation: http://pandas.pydata.org/pandas-docs/stable/indexing.html#indexing-view-versus-copy\n",
      "  \n"
     ]
    }
   ],
   "source": [
    "# Get the date in a new column to be able to merge tables on Date\n",
    "sp['Date'] = sp.index"
   ]
  },
  {
   "cell_type": "code",
   "execution_count": 10,
   "metadata": {},
   "outputs": [
    {
     "name": "stderr",
     "output_type": "stream",
     "text": [
      "/Users/flatironschool/anaconda3/lib/python3.7/site-packages/ipykernel_launcher.py:2: SettingWithCopyWarning: \n",
      "A value is trying to be set on a copy of a slice from a DataFrame.\n",
      "Try using .loc[row_indexer,col_indexer] = value instead\n",
      "\n",
      "See the caveats in the documentation: http://pandas.pydata.org/pandas-docs/stable/indexing.html#indexing-view-versus-copy\n",
      "  \n"
     ]
    }
   ],
   "source": [
    "# Adding a new column with t-1 (lag) values to calculate monthly returns on S&P\n",
    "sp['lag'] = sp['S&P Composite'].shift(1)"
   ]
  },
  {
   "cell_type": "code",
   "execution_count": 11,
   "metadata": {},
   "outputs": [
    {
     "name": "stderr",
     "output_type": "stream",
     "text": [
      "/Users/flatironschool/anaconda3/lib/python3.7/site-packages/pandas/core/frame.py:3940: SettingWithCopyWarning: \n",
      "A value is trying to be set on a copy of a slice from a DataFrame\n",
      "\n",
      "See the caveats in the documentation: http://pandas.pydata.org/pandas-docs/stable/indexing.html#indexing-view-versus-copy\n",
      "  errors=errors)\n"
     ]
    }
   ],
   "source": [
    "# As there is no lagged S&P for the first date we delete the first row \n",
    "\n",
    "to_drop = sp.iloc[:1]\n",
    "sp.drop(to_drop.index, axis=0, inplace=True)"
   ]
  },
  {
   "cell_type": "code",
   "execution_count": 12,
   "metadata": {},
   "outputs": [
    {
     "name": "stderr",
     "output_type": "stream",
     "text": [
      "/Users/flatironschool/anaconda3/lib/python3.7/site-packages/ipykernel_launcher.py:3: SettingWithCopyWarning: \n",
      "A value is trying to be set on a copy of a slice from a DataFrame.\n",
      "Try using .loc[row_indexer,col_indexer] = value instead\n",
      "\n",
      "See the caveats in the documentation: http://pandas.pydata.org/pandas-docs/stable/indexing.html#indexing-view-versus-copy\n",
      "  This is separate from the ipykernel package so we can avoid doing imports until\n"
     ]
    }
   ],
   "source": [
    "# The S&P monthly returns is simply the rate of change between months ((t - t-1)/t-1)*100\n",
    "\n",
    "sp['monthly_return_per'] = ((sp['S&P Composite']-sp['lag'])/sp['lag'])*100"
   ]
  },
  {
   "cell_type": "code",
   "execution_count": 13,
   "metadata": {},
   "outputs": [
    {
     "data": {
      "text/html": [
       "<div>\n",
       "<style scoped>\n",
       "    .dataframe tbody tr th:only-of-type {\n",
       "        vertical-align: middle;\n",
       "    }\n",
       "\n",
       "    .dataframe tbody tr th {\n",
       "        vertical-align: top;\n",
       "    }\n",
       "\n",
       "    .dataframe thead th {\n",
       "        text-align: right;\n",
       "    }\n",
       "</style>\n",
       "<table border=\"1\" class=\"dataframe\">\n",
       "  <thead>\n",
       "    <tr style=\"text-align: right;\">\n",
       "      <th></th>\n",
       "      <th>S&amp;P Composite</th>\n",
       "      <th>Date</th>\n",
       "      <th>lag</th>\n",
       "      <th>monthly_return_per</th>\n",
       "    </tr>\n",
       "    <tr>\n",
       "      <th>Year</th>\n",
       "      <th></th>\n",
       "      <th></th>\n",
       "      <th></th>\n",
       "      <th></th>\n",
       "    </tr>\n",
       "  </thead>\n",
       "  <tbody>\n",
       "    <tr>\n",
       "      <th>1871-02-28</th>\n",
       "      <td>4.50</td>\n",
       "      <td>1871-02-28</td>\n",
       "      <td>4.44</td>\n",
       "      <td>1.351351</td>\n",
       "    </tr>\n",
       "    <tr>\n",
       "      <th>1871-03-31</th>\n",
       "      <td>4.61</td>\n",
       "      <td>1871-03-31</td>\n",
       "      <td>4.50</td>\n",
       "      <td>2.444444</td>\n",
       "    </tr>\n",
       "    <tr>\n",
       "      <th>1871-04-30</th>\n",
       "      <td>4.74</td>\n",
       "      <td>1871-04-30</td>\n",
       "      <td>4.61</td>\n",
       "      <td>2.819957</td>\n",
       "    </tr>\n",
       "    <tr>\n",
       "      <th>1871-05-31</th>\n",
       "      <td>4.86</td>\n",
       "      <td>1871-05-31</td>\n",
       "      <td>4.74</td>\n",
       "      <td>2.531646</td>\n",
       "    </tr>\n",
       "    <tr>\n",
       "      <th>1871-06-30</th>\n",
       "      <td>4.82</td>\n",
       "      <td>1871-06-30</td>\n",
       "      <td>4.86</td>\n",
       "      <td>-0.823045</td>\n",
       "    </tr>\n",
       "  </tbody>\n",
       "</table>\n",
       "</div>"
      ],
      "text/plain": [
       "            S&P Composite       Date   lag  monthly_return_per\n",
       "Year                                                          \n",
       "1871-02-28           4.50 1871-02-28  4.44            1.351351\n",
       "1871-03-31           4.61 1871-03-31  4.50            2.444444\n",
       "1871-04-30           4.74 1871-04-30  4.61            2.819957\n",
       "1871-05-31           4.86 1871-05-31  4.74            2.531646\n",
       "1871-06-30           4.82 1871-06-30  4.86           -0.823045"
      ]
     },
     "execution_count": 13,
     "metadata": {},
     "output_type": "execute_result"
    }
   ],
   "source": [
    "sp.head()"
   ]
  },
  {
   "cell_type": "code",
   "execution_count": 181,
   "metadata": {},
   "outputs": [
    {
     "data": {
      "text/plain": [
       "<matplotlib.axes._subplots.AxesSubplot at 0x1a26e22da0>"
      ]
     },
     "execution_count": 181,
     "metadata": {},
     "output_type": "execute_result"
    },
    {
     "data": {
      "image/png": "[encoded data removed]",
      "text/plain": [
       "<Figure size 432x288 with 1 Axes>"
      ]
     },
     "metadata": {
      "needs_background": "light"
     },
     "output_type": "display_data"
    }
   ],
   "source": [
    "u.boxplot()"
   ]
  },
  {
   "cell_type": "code",
   "execution_count": 183,
   "metadata": {},
   "outputs": [
    {
     "data": {
      "text/plain": [
       "<matplotlib.axes._subplots.AxesSubplot at 0x1a2708e860>"
      ]
     },
     "execution_count": 183,
     "metadata": {},
     "output_type": "execute_result"
    },
    {
     "data": {
      "image/png": "[encoded data removed]",
      "text/plain": [
       "<Figure size 432x288 with 1 Axes>"
      ]
     },
     "metadata": {
      "needs_background": "light"
     },
     "output_type": "display_data"
    }
   ],
   "source": [
    "sp['monthly_return_per'].hist(bins=200)"
   ]
  },
  {
   "cell_type": "code",
   "execution_count": 9,
   "metadata": {},
   "outputs": [
    {
     "data": {
      "text/plain": [
       "<matplotlib.axes._subplots.AxesSubplot at 0x1c23add7b8>"
      ]
     },
     "execution_count": 9,
     "metadata": {},
     "output_type": "execute_result"
    },
    {
     "data": {
      "image/png": "[encoded data removed]",
      "text/plain": [
       "<Figure size 432x288 with 1 Axes>"
      ]
     },
     "metadata": {
      "needs_background": "light"
     },
     "output_type": "display_data"
    }
   ],
   "source": [
    "debt.plot()"
   ]
  },
  {
   "cell_type": "code",
   "execution_count": 23,
   "metadata": {},
   "outputs": [],
   "source": [
    "balance['lag'] = balance['Value'].shift(1)"
   ]
  },
  {
   "cell_type": "code",
   "execution_count": 6,
   "metadata": {},
   "outputs": [],
   "source": [
    "formula_sp = 'c + c(president) + e'"
   ]
  },
  {
   "cell_type": "code",
   "execution_count": null,
   "metadata": {},
   "outputs": [],
   "source": []
  }
 ],
 "metadata": {
  "kernelspec": {
   "display_name": "Python 3",
   "language": "python",
   "name": "python3"
  },
  "language_info": {
   "codemirror_mode": {
    "name": "ipython",
    "version": 3
   },
   "file_extension": ".py",
   "mimetype": "text/x-python",
   "name": "python",
   "nbconvert_exporter": "python",
   "pygments_lexer": "ipython3",
   "version": "3.6.9"
  }
 },
 "nbformat": 4,
 "nbformat_minor": 4
}
