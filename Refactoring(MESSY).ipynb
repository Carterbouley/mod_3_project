{
 "cells": [
  {
   "cell_type": "code",
   "execution_count": 1,
   "metadata": {},
   "outputs": [],
   "source": [
    "import quandl\n",
    "import pandas as pd\n",
    "import requests\n",
    "import numpy as np\n",
    "import seaborn as sns\n",
    "import matplotlib.pyplot as plt \n",
    "import json\n",
    "import datetime as dt\n",
    "import json\n",
    "import pandas as pd\n",
    "import math\n",
    "from datetime import datetime"
   ]
  },
  {
   "cell_type": "code",
   "execution_count": 95,
   "metadata": {},
   "outputs": [],
   "source": [
    "sp500 = quandl.get(\"YALE/SPCOMP\", authtoken=\"ckJvd5G2a2dkK9nun3xS\")"
   ]
  },
  {
   "cell_type": "code",
   "execution_count": 96,
   "metadata": {},
   "outputs": [],
   "source": [
    "u = quandl.get(\"FRED/UNRATENSA\", authtoken=\"ckJvd5G2a2dkK9nun3xS\")"
   ]
  },
  {
   "cell_type": "code",
   "execution_count": 99,
   "metadata": {},
   "outputs": [],
   "source": [
    "def create_columns_rlchange(df):\n",
    "    df.reset_index(inplace = True)\n",
    "    df['lag'] = df.iloc[:,1].shift(1)\n",
    "    to_drop = df.iloc[:1]\n",
    "    df.drop(to_drop.index, axis=0, inplace=True)\n",
    "    df['real_change'] = ((df.iloc[:,1]-df.iloc[:,2]))\n",
    "    df['monthly_return_per'] = (((df.iloc[:,1]-df.iloc[:,2])/df.iloc[:,2])*100)\n",
    "    df['month'] = df.iloc[:, 0].dt.month\n",
    "    df['year'] = df.iloc[: ,0].dt.year\n",
    "    df['monthyear'] = df['year'].map(str) + '/' + df['month'].map(str)\n",
    "    return df"
   ]
  },
  {
   "cell_type": "code",
   "execution_count": 68,
   "metadata": {},
   "outputs": [],
   "source": [
    "sp500 = quandl.get(\"YALE/SPCOMP\", authtoken=\"ckJvd5G2a2dkK9nun3xS\")"
   ]
  },
  {
   "cell_type": "code",
   "execution_count": 100,
   "metadata": {},
   "outputs": [],
   "source": [
    "def create_columns_prcntchange(df):\n",
    "    df.reset_index(inplace = True)\n",
    "    df['lag'] = df.iloc[:,1].shift(1)\n",
    "    to_drop1 = sp500.iloc[:,2:10]\n",
    "    df.drop(to_drop1, axis=1, inplace=True)\n",
    "    to_drop = df.iloc[:1]\n",
    "    df.drop(to_drop.index, axis=0, inplace=True)\n",
    "    df['monthly_return_per'] = (((df.iloc[:,1]-df.iloc[:,2])/df.iloc[:,2])*100)\n",
    "    df['month'] = df.iloc[:, 0].dt.month\n",
    "    df['year'] = df.iloc[: ,0].dt.year\n",
    "    df['monthyear'] = df['year'].map(str) + '/' + df['month'].map(str)\n",
    "    return df"
   ]
  },
  {
   "cell_type": "code",
   "execution_count": null,
   "metadata": {},
   "outputs": [],
   "source": [
    "def add_presidents(df):\n",
    "    presidents = pd.read_csv('us_presidents.csv')\n",
    "    presidents = pd.DataFrame(presidents)\n",
    "    date_start_series = list(presidents['start'])\n",
    "    date_end_series = list(presidents['end'])\n",
    "    date_end_series[-2] = 'January 20, 2017'\n",
    "    date_end_series[-1] = 'November 12, 2019'\n",
    "    "
   ]
  },
  {
   "cell_type": "code",
   "execution_count": null,
   "metadata": {},
   "outputs": [],
   "source": []
  }
 ],
 "metadata": {
  "kernelspec": {
   "display_name": "learn-env",
   "language": "python",
   "name": "learn-env"
  },
  "language_info": {
   "codemirror_mode": {
    "name": "ipython",
    "version": 3
   },
   "file_extension": ".py",
   "mimetype": "text/x-python",
   "name": "python",
   "nbconvert_exporter": "python",
   "pygments_lexer": "ipython3",
   "version": "3.6.9"
  }
 },
 "nbformat": 4,
 "nbformat_minor": 2
}
