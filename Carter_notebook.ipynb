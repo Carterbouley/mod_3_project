{
 "cells": [
  {
   "cell_type": "code",
   "execution_count": 127,
   "metadata": {},
   "outputs": [],
   "source": [
    "import quandl\n",
    "import pandas as pd\n",
    "import requests\n",
    "import numpy as np\n",
    "import seaborn as sns\n",
    "import matplotlib.pyplot as plt \n",
    "import json\n",
    "import datetime as dt\n",
    "import json\n",
    "import pandas as pd\n",
    "from datetime import datetime"
   ]
  },
  {
   "cell_type": "code",
   "execution_count": 125,
   "metadata": {},
   "outputs": [],
   "source": [
    "test = requests.get(\"http://www.quandl.com/api/v3/datasets/YALE/SPCOMP?start_date=2018-12-20&end_date=2018-12-31&api_key=KZv99Dx6pP9M_zVY9SzW\")"
   ]
  },
  {
   "cell_type": "code",
   "execution_count": 5,
   "metadata": {},
   "outputs": [],
   "source": [
    "# Federal Debt: Total Public Debt as Percent of Gross Domestic Product, Quarterly\n",
    "# Units: Percent of GDP, Seasonally Adjusted\n",
    "# Source: FRED (Federal Reserve Bank St. Louis)\n",
    "\n",
    "debt = quandl.get(\"FRED/GFDEGDQ188S\", authtoken=\"ckJvd5G2a2dkK9nun3xS\")"
   ]
  },
  {
   "cell_type": "code",
   "execution_count": 6,
   "metadata": {},
   "outputs": [],
   "source": [
    "# S&P 500 Index Composite, Monthly\n",
    "# Units: Index\n",
    "# Source: Yale University, Online Data Robert Shiller\n",
    "\n",
    "sp500 = quandl.get(\"YALE/SPCOMP\", authtoken=\"ckJvd5G2a2dkK9nun3xS\")"
   ]
  },
  {
   "cell_type": "code",
   "execution_count": 7,
   "metadata": {},
   "outputs": [],
   "source": [
    "# Unemployment Rate, Monthly\n",
    "# Units: Percent, Seasonally Adjusted\n",
    "# Source: FRED (Federal Reserve Bank St. Louis)\n",
    "\n",
    "u = quandl.get(\"FRED/M0892AUSM156SNBR\", authtoken=\"ckJvd5G2a2dkK9nun3xS\")"
   ]
  },
  {
   "cell_type": "code",
   "execution_count": 8,
   "metadata": {},
   "outputs": [],
   "source": [
    "# Balance on Current Account, NIPA's, Quarterly\n",
    "# Units: Billions of Dollars Seasonally Adjusted Annual Rate\n",
    "# Source: FRED (Federal Reserve Bank St. Louis)\n",
    "\n",
    "balance = quandl.get(\"FRED/NETFI\", authtoken=\"ckJvd5G2a2dkK9nun3xS\")"
   ]
  },
  {
   "cell_type": "code",
   "execution_count": 9,
   "metadata": {},
   "outputs": [],
   "source": [
    "presidents = pd.read_csv('us_presidents.csv')\n"
   ]
  },
  {
   "cell_type": "code",
   "execution_count": 14,
   "metadata": {},
   "outputs": [],
   "source": [
    "date_start_series = list(presidents['start'])"
   ]
  },
  {
   "cell_type": "code",
   "execution_count": 161,
   "metadata": {},
   "outputs": [],
   "source": [
    "# Converting presidents first dates in office into a datetime object\n",
    "\n",
    "new_date_start_series = []\n",
    "for row in date_start_series:\n",
    "    date = dt.datetime.strptime(row,'%B %d, %Y').strftime('%Y-%m-%d')\n",
    "    datetime_object = datetime.strptime(date, '%Y-%m-%d')\n",
    "    new_date_start_series.append(datetime_object)"
   ]
  },
  {
   "cell_type": "code",
   "execution_count": 18,
   "metadata": {},
   "outputs": [],
   "source": [
    "date_end_series = list(presidents['end'])"
   ]
  },
  {
   "cell_type": "code",
   "execution_count": 25,
   "metadata": {},
   "outputs": [],
   "source": [
    "date_end_series[-2] = 'January 20, 2017'"
   ]
  },
  {
   "cell_type": "code",
   "execution_count": 26,
   "metadata": {},
   "outputs": [],
   "source": [
    "date_end_series[-1] = 'November 12, 2019'"
   ]
  },
  {
   "cell_type": "code",
   "execution_count": 156,
   "metadata": {},
   "outputs": [],
   "source": [
    "# Converting presidents final dates in office into a datetime object\n",
    "\n",
    "new_date_end_series = []\n",
    "for row in date_end_series:\n",
    "    date = dt.datetime.strptime(row,'%B %d, %Y').strftime('%Y-%m-%d')\n",
    "    datetime_object = datetime.strptime(date, '%Y-%m-%d')\n",
    "    new_date_end_series.append(datetime_object)"
   ]
  },
  {
   "cell_type": "code",
   "execution_count": 131,
   "metadata": {},
   "outputs": [],
   "source": [
    "datetime_object = datetime.strptime(new_date_end_series[0], '%Y-%m-%d')"
   ]
  },
  {
   "cell_type": "code",
   "execution_count": 72,
   "metadata": {},
   "outputs": [],
   "source": [
    "presidents['start_date'] = new_date_start_series "
   ]
  },
  {
   "cell_type": "code",
   "execution_count": 73,
   "metadata": {},
   "outputs": [],
   "source": [
    "presidents['end_date'] = new_date_end_series"
   ]
  },
  {
   "cell_type": "code",
   "execution_count": 75,
   "metadata": {},
   "outputs": [],
   "source": [
    "new_president_df = presidents[['president', 'start_date', 'end_date']].copy()"
   ]
  },
  {
   "cell_type": "code",
   "execution_count": 76,
   "metadata": {},
   "outputs": [
    {
     "data": {
      "text/html": [
       "<div>\n",
       "<style scoped>\n",
       "    .dataframe tbody tr th:only-of-type {\n",
       "        vertical-align: middle;\n",
       "    }\n",
       "\n",
       "    .dataframe tbody tr th {\n",
       "        vertical-align: top;\n",
       "    }\n",
       "\n",
       "    .dataframe thead th {\n",
       "        text-align: right;\n",
       "    }\n",
       "</style>\n",
       "<table border=\"1\" class=\"dataframe\">\n",
       "  <thead>\n",
       "    <tr style=\"text-align: right;\">\n",
       "      <th></th>\n",
       "      <th>president</th>\n",
       "      <th>start_date</th>\n",
       "      <th>end_date</th>\n",
       "    </tr>\n",
       "  </thead>\n",
       "  <tbody>\n",
       "    <tr>\n",
       "      <td>0</td>\n",
       "      <td>George Washington</td>\n",
       "      <td>1789-04-30</td>\n",
       "      <td>1797-03-04</td>\n",
       "    </tr>\n",
       "    <tr>\n",
       "      <td>1</td>\n",
       "      <td>John Adams</td>\n",
       "      <td>1797-03-04</td>\n",
       "      <td>1801-03-04</td>\n",
       "    </tr>\n",
       "    <tr>\n",
       "      <td>2</td>\n",
       "      <td>Thomas Jefferson</td>\n",
       "      <td>1801-03-04</td>\n",
       "      <td>1809-03-04</td>\n",
       "    </tr>\n",
       "    <tr>\n",
       "      <td>3</td>\n",
       "      <td>James Madison</td>\n",
       "      <td>1809-03-04</td>\n",
       "      <td>1817-03-04</td>\n",
       "    </tr>\n",
       "    <tr>\n",
       "      <td>4</td>\n",
       "      <td>James Monroe</td>\n",
       "      <td>1817-03-04</td>\n",
       "      <td>1825-03-04</td>\n",
       "    </tr>\n",
       "  </tbody>\n",
       "</table>\n",
       "</div>"
      ],
      "text/plain": [
       "           president  start_date    end_date\n",
       "0  George Washington  1789-04-30  1797-03-04\n",
       "1         John Adams  1797-03-04  1801-03-04\n",
       "2   Thomas Jefferson  1801-03-04  1809-03-04\n",
       "3      James Madison  1809-03-04  1817-03-04\n",
       "4       James Monroe  1817-03-04  1825-03-04"
      ]
     },
     "execution_count": 76,
     "metadata": {},
     "output_type": "execute_result"
    }
   ],
   "source": [
    "new_president_df.head()"
   ]
  },
  {
   "cell_type": "code",
   "execution_count": 71,
   "metadata": {},
   "outputs": [
    {
     "data": {
      "text/html": [
       "<div>\n",
       "<style scoped>\n",
       "    .dataframe tbody tr th:only-of-type {\n",
       "        vertical-align: middle;\n",
       "    }\n",
       "\n",
       "    .dataframe tbody tr th {\n",
       "        vertical-align: top;\n",
       "    }\n",
       "\n",
       "    .dataframe thead th {\n",
       "        text-align: right;\n",
       "    }\n",
       "</style>\n",
       "<table border=\"1\" class=\"dataframe\">\n",
       "  <thead>\n",
       "    <tr style=\"text-align: right;\">\n",
       "      <th></th>\n",
       "      <th>S&amp;P Composite</th>\n",
       "      <th>Dividend</th>\n",
       "      <th>Earnings</th>\n",
       "      <th>CPI</th>\n",
       "      <th>Long Interest Rate</th>\n",
       "      <th>Real Price</th>\n",
       "      <th>Real Dividend</th>\n",
       "      <th>Real Earnings</th>\n",
       "      <th>Cyclically Adjusted PE Ratio</th>\n",
       "    </tr>\n",
       "    <tr>\n",
       "      <th>Year</th>\n",
       "      <th></th>\n",
       "      <th></th>\n",
       "      <th></th>\n",
       "      <th></th>\n",
       "      <th></th>\n",
       "      <th></th>\n",
       "      <th></th>\n",
       "      <th></th>\n",
       "      <th></th>\n",
       "    </tr>\n",
       "  </thead>\n",
       "  <tbody>\n",
       "    <tr>\n",
       "      <td>1871-01-31</td>\n",
       "      <td>4.44</td>\n",
       "      <td>0.26</td>\n",
       "      <td>0.4</td>\n",
       "      <td>12.464061</td>\n",
       "      <td>5.320000</td>\n",
       "      <td>91.257956</td>\n",
       "      <td>5.343934</td>\n",
       "      <td>8.221438</td>\n",
       "      <td>NaN</td>\n",
       "    </tr>\n",
       "    <tr>\n",
       "      <td>1871-02-28</td>\n",
       "      <td>4.50</td>\n",
       "      <td>0.26</td>\n",
       "      <td>0.4</td>\n",
       "      <td>12.844641</td>\n",
       "      <td>5.323333</td>\n",
       "      <td>89.750706</td>\n",
       "      <td>5.185596</td>\n",
       "      <td>7.977841</td>\n",
       "      <td>NaN</td>\n",
       "    </tr>\n",
       "    <tr>\n",
       "      <td>1871-03-31</td>\n",
       "      <td>4.61</td>\n",
       "      <td>0.26</td>\n",
       "      <td>0.4</td>\n",
       "      <td>13.034972</td>\n",
       "      <td>5.326667</td>\n",
       "      <td>90.602080</td>\n",
       "      <td>5.109879</td>\n",
       "      <td>7.861352</td>\n",
       "      <td>NaN</td>\n",
       "    </tr>\n",
       "    <tr>\n",
       "      <td>1871-04-30</td>\n",
       "      <td>4.74</td>\n",
       "      <td>0.26</td>\n",
       "      <td>0.4</td>\n",
       "      <td>12.559226</td>\n",
       "      <td>5.330000</td>\n",
       "      <td>96.685821</td>\n",
       "      <td>5.303442</td>\n",
       "      <td>8.159141</td>\n",
       "      <td>NaN</td>\n",
       "    </tr>\n",
       "    <tr>\n",
       "      <td>1871-05-31</td>\n",
       "      <td>4.86</td>\n",
       "      <td>0.26</td>\n",
       "      <td>0.4</td>\n",
       "      <td>12.273812</td>\n",
       "      <td>5.333333</td>\n",
       "      <td>101.438813</td>\n",
       "      <td>5.426768</td>\n",
       "      <td>8.348873</td>\n",
       "      <td>NaN</td>\n",
       "    </tr>\n",
       "  </tbody>\n",
       "</table>\n",
       "</div>"
      ],
      "text/plain": [
       "            S&P Composite  Dividend  Earnings        CPI  Long Interest Rate  \\\n",
       "Year                                                                           \n",
       "1871-01-31           4.44      0.26       0.4  12.464061            5.320000   \n",
       "1871-02-28           4.50      0.26       0.4  12.844641            5.323333   \n",
       "1871-03-31           4.61      0.26       0.4  13.034972            5.326667   \n",
       "1871-04-30           4.74      0.26       0.4  12.559226            5.330000   \n",
       "1871-05-31           4.86      0.26       0.4  12.273812            5.333333   \n",
       "\n",
       "            Real Price  Real Dividend  Real Earnings  \\\n",
       "Year                                                   \n",
       "1871-01-31   91.257956       5.343934       8.221438   \n",
       "1871-02-28   89.750706       5.185596       7.977841   \n",
       "1871-03-31   90.602080       5.109879       7.861352   \n",
       "1871-04-30   96.685821       5.303442       8.159141   \n",
       "1871-05-31  101.438813       5.426768       8.348873   \n",
       "\n",
       "            Cyclically Adjusted PE Ratio  \n",
       "Year                                      \n",
       "1871-01-31                           NaN  \n",
       "1871-02-28                           NaN  \n",
       "1871-03-31                           NaN  \n",
       "1871-04-30                           NaN  \n",
       "1871-05-31                           NaN  "
      ]
     },
     "execution_count": 71,
     "metadata": {},
     "output_type": "execute_result"
    }
   ],
   "source": [
    "sp500.head()"
   ]
  },
  {
   "cell_type": "code",
   "execution_count": 107,
   "metadata": {},
   "outputs": [],
   "source": [
    "sp = sp500.iloc[:,:1]"
   ]
  },
  {
   "cell_type": "code",
   "execution_count": 108,
   "metadata": {},
   "outputs": [
    {
     "name": "stderr",
     "output_type": "stream",
     "text": [
      "/Users/carterbouley/anaconda3/envs/learn-env/lib/python3.6/site-packages/ipykernel_launcher.py:2: SettingWithCopyWarning: \n",
      "A value is trying to be set on a copy of a slice from a DataFrame.\n",
      "Try using .loc[row_indexer,col_indexer] = value instead\n",
      "\n",
      "See the caveats in the documentation: http://pandas.pydata.org/pandas-docs/stable/user_guide/indexing.html#returning-a-view-versus-a-copy\n",
      "  \n"
     ]
    }
   ],
   "source": [
    "# Get the date in a new column to be able to merge tables on Date\n",
    "sp['Date'] = sp.index"
   ]
  },
  {
   "cell_type": "code",
   "execution_count": 109,
   "metadata": {},
   "outputs": [
    {
     "name": "stderr",
     "output_type": "stream",
     "text": [
      "/Users/carterbouley/anaconda3/envs/learn-env/lib/python3.6/site-packages/ipykernel_launcher.py:2: SettingWithCopyWarning: \n",
      "A value is trying to be set on a copy of a slice from a DataFrame.\n",
      "Try using .loc[row_indexer,col_indexer] = value instead\n",
      "\n",
      "See the caveats in the documentation: http://pandas.pydata.org/pandas-docs/stable/user_guide/indexing.html#returning-a-view-versus-a-copy\n",
      "  \n"
     ]
    }
   ],
   "source": [
    "# Adding a new column with t-1 (lag) values to calculate monthly returns on S&P\n",
    "sp['lag'] = sp['S&P Composite'].shift(1)"
   ]
  },
  {
   "cell_type": "code",
   "execution_count": 110,
   "metadata": {},
   "outputs": [
    {
     "name": "stderr",
     "output_type": "stream",
     "text": [
      "/Users/carterbouley/anaconda3/envs/learn-env/lib/python3.6/site-packages/pandas/core/frame.py:4102: SettingWithCopyWarning: \n",
      "A value is trying to be set on a copy of a slice from a DataFrame\n",
      "\n",
      "See the caveats in the documentation: http://pandas.pydata.org/pandas-docs/stable/user_guide/indexing.html#returning-a-view-versus-a-copy\n",
      "  errors=errors,\n"
     ]
    }
   ],
   "source": [
    "to_drop = sp.iloc[:1]\n",
    "sp.drop(to_drop.index, axis=0, inplace=True)"
   ]
  },
  {
   "cell_type": "code",
   "execution_count": 111,
   "metadata": {},
   "outputs": [
    {
     "name": "stderr",
     "output_type": "stream",
     "text": [
      "/Users/carterbouley/anaconda3/envs/learn-env/lib/python3.6/site-packages/ipykernel_launcher.py:3: SettingWithCopyWarning: \n",
      "A value is trying to be set on a copy of a slice from a DataFrame.\n",
      "Try using .loc[row_indexer,col_indexer] = value instead\n",
      "\n",
      "See the caveats in the documentation: http://pandas.pydata.org/pandas-docs/stable/user_guide/indexing.html#returning-a-view-versus-a-copy\n",
      "  This is separate from the ipykernel package so we can avoid doing imports until\n"
     ]
    }
   ],
   "source": [
    "# The S&P monthly returns is simply the rate of change between months ((t - t-1)/t-1)*100\n",
    "\n",
    "sp['monthly_return_per'] = ((sp['S&P Composite']-sp['lag'])/sp['lag'])*100"
   ]
  },
  {
   "cell_type": "code",
   "execution_count": 115,
   "metadata": {},
   "outputs": [
    {
     "data": {
      "text/plain": [
       "pandas._libs.tslibs.timestamps.Timestamp"
      ]
     },
     "execution_count": 115,
     "metadata": {},
     "output_type": "execute_result"
    }
   ],
   "source": [
    "sp.head()\n",
    "type(sp['Date'][0]"
   ]
  },
  {
   "cell_type": "code",
   "execution_count": 90,
   "metadata": {},
   "outputs": [],
   "source": [
    "to_drop  = new_president_df[:17].index"
   ]
  },
  {
   "cell_type": "code",
   "execution_count": 92,
   "metadata": {},
   "outputs": [],
   "source": [
    "new_president_df = new_president_df.drop(to_drop, axis = 0)"
   ]
  },
  {
   "cell_type": "code",
   "execution_count": 97,
   "metadata": {},
   "outputs": [
    {
     "data": {
      "text/plain": [
       "str"
      ]
     },
     "execution_count": 97,
     "metadata": {},
     "output_type": "execute_result"
    }
   ],
   "source": [
    "type(new_president_df.iloc[0].start_date)"
   ]
  },
  {
   "cell_type": "code",
   "execution_count": 162,
   "metadata": {},
   "outputs": [],
   "source": [
    "presidents['start_datetime'] = new_date_start_series"
   ]
  },
  {
   "cell_type": "code",
   "execution_count": 163,
   "metadata": {},
   "outputs": [],
   "source": [
    "presidents['end_datetime'] = new_date_end_series"
   ]
  },
  {
   "cell_type": "code",
   "execution_count": 164,
   "metadata": {},
   "outputs": [
    {
     "data": {
      "text/html": [
       "<div>\n",
       "<style scoped>\n",
       "    .dataframe tbody tr th:only-of-type {\n",
       "        vertical-align: middle;\n",
       "    }\n",
       "\n",
       "    .dataframe tbody tr th {\n",
       "        vertical-align: top;\n",
       "    }\n",
       "\n",
       "    .dataframe thead th {\n",
       "        text-align: right;\n",
       "    }\n",
       "</style>\n",
       "<table border=\"1\" class=\"dataframe\">\n",
       "  <thead>\n",
       "    <tr style=\"text-align: right;\">\n",
       "      <th></th>\n",
       "      <th>Unnamed: 0</th>\n",
       "      <th>S.No.</th>\n",
       "      <th>start</th>\n",
       "      <th>end</th>\n",
       "      <th>president</th>\n",
       "      <th>prior</th>\n",
       "      <th>party</th>\n",
       "      <th>vice</th>\n",
       "      <th>start_date</th>\n",
       "      <th>end_date</th>\n",
       "      <th>start_datetime</th>\n",
       "      <th>end_datetime</th>\n",
       "    </tr>\n",
       "  </thead>\n",
       "  <tbody>\n",
       "    <tr>\n",
       "      <td>0</td>\n",
       "      <td>0</td>\n",
       "      <td>1</td>\n",
       "      <td>April 30, 1789</td>\n",
       "      <td>March 4, 1797</td>\n",
       "      <td>George Washington</td>\n",
       "      <td>Commander-in-Chief  of the  Continental Army  ...</td>\n",
       "      <td>Nonpartisan   [13]</td>\n",
       "      <td>John Adams</td>\n",
       "      <td>1789-04-30</td>\n",
       "      <td>1797-03-04</td>\n",
       "      <td>1789-04-30</td>\n",
       "      <td>1797-03-04</td>\n",
       "    </tr>\n",
       "    <tr>\n",
       "      <td>1</td>\n",
       "      <td>1</td>\n",
       "      <td>2</td>\n",
       "      <td>March 4, 1797</td>\n",
       "      <td>March 4, 1801</td>\n",
       "      <td>John Adams</td>\n",
       "      <td>1st  Vice President of the United States</td>\n",
       "      <td>Federalist</td>\n",
       "      <td>Thomas Jefferson</td>\n",
       "      <td>1797-03-04</td>\n",
       "      <td>1801-03-04</td>\n",
       "      <td>1797-03-04</td>\n",
       "      <td>1801-03-04</td>\n",
       "    </tr>\n",
       "    <tr>\n",
       "      <td>2</td>\n",
       "      <td>2</td>\n",
       "      <td>3</td>\n",
       "      <td>March 4, 1801</td>\n",
       "      <td>March 4, 1809</td>\n",
       "      <td>Thomas Jefferson</td>\n",
       "      <td>2nd  Vice President of the United States</td>\n",
       "      <td>Democratic-  Republican</td>\n",
       "      <td>Aaron Burr</td>\n",
       "      <td>1801-03-04</td>\n",
       "      <td>1809-03-04</td>\n",
       "      <td>1801-03-04</td>\n",
       "      <td>1809-03-04</td>\n",
       "    </tr>\n",
       "    <tr>\n",
       "      <td>3</td>\n",
       "      <td>3</td>\n",
       "      <td>4</td>\n",
       "      <td>March 4, 1809</td>\n",
       "      <td>March 4, 1817</td>\n",
       "      <td>James Madison</td>\n",
       "      <td>5th  United States Secretary of State   (1801–...</td>\n",
       "      <td>Democratic-  Republican</td>\n",
       "      <td>George Clinton</td>\n",
       "      <td>1809-03-04</td>\n",
       "      <td>1817-03-04</td>\n",
       "      <td>1809-03-04</td>\n",
       "      <td>1817-03-04</td>\n",
       "    </tr>\n",
       "    <tr>\n",
       "      <td>4</td>\n",
       "      <td>4</td>\n",
       "      <td>5</td>\n",
       "      <td>March 4, 1817</td>\n",
       "      <td>March 4, 1825</td>\n",
       "      <td>James Monroe</td>\n",
       "      <td>7th  United States Secretary of State   (1811–...</td>\n",
       "      <td>Democratic-  Republican</td>\n",
       "      <td>Daniel D. Tompkins</td>\n",
       "      <td>1817-03-04</td>\n",
       "      <td>1825-03-04</td>\n",
       "      <td>1817-03-04</td>\n",
       "      <td>1825-03-04</td>\n",
       "    </tr>\n",
       "  </tbody>\n",
       "</table>\n",
       "</div>"
      ],
      "text/plain": [
       "   Unnamed: 0  S.No.           start            end          president  \\\n",
       "0           0      1  April 30, 1789  March 4, 1797  George Washington   \n",
       "1           1      2   March 4, 1797  March 4, 1801         John Adams   \n",
       "2           2      3   March 4, 1801  March 4, 1809   Thomas Jefferson   \n",
       "3           3      4   March 4, 1809  March 4, 1817      James Madison   \n",
       "4           4      5   March 4, 1817  March 4, 1825       James Monroe   \n",
       "\n",
       "                                               prior                    party  \\\n",
       "0  Commander-in-Chief  of the  Continental Army  ...       Nonpartisan   [13]   \n",
       "1           1st  Vice President of the United States               Federalist   \n",
       "2           2nd  Vice President of the United States  Democratic-  Republican   \n",
       "3  5th  United States Secretary of State   (1801–...  Democratic-  Republican   \n",
       "4  7th  United States Secretary of State   (1811–...  Democratic-  Republican   \n",
       "\n",
       "                 vice  start_date    end_date start_datetime end_datetime  \n",
       "0          John Adams  1789-04-30  1797-03-04     1789-04-30   1797-03-04  \n",
       "1    Thomas Jefferson  1797-03-04  1801-03-04     1797-03-04   1801-03-04  \n",
       "2          Aaron Burr  1801-03-04  1809-03-04     1801-03-04   1809-03-04  \n",
       "3      George Clinton  1809-03-04  1817-03-04     1809-03-04   1817-03-04  \n",
       "4  Daniel D. Tompkins  1817-03-04  1825-03-04     1817-03-04   1825-03-04  "
      ]
     },
     "execution_count": 164,
     "metadata": {},
     "output_type": "execute_result"
    }
   ],
   "source": [
    "presidents.head()"
   ]
  },
  {
   "cell_type": "code",
   "execution_count": 169,
   "metadata": {},
   "outputs": [
    {
     "data": {
      "text/html": [
       "<div>\n",
       "<style scoped>\n",
       "    .dataframe tbody tr th:only-of-type {\n",
       "        vertical-align: middle;\n",
       "    }\n",
       "\n",
       "    .dataframe tbody tr th {\n",
       "        vertical-align: top;\n",
       "    }\n",
       "\n",
       "    .dataframe thead th {\n",
       "        text-align: right;\n",
       "    }\n",
       "</style>\n",
       "<table border=\"1\" class=\"dataframe\">\n",
       "  <thead>\n",
       "    <tr style=\"text-align: right;\">\n",
       "      <th></th>\n",
       "      <th>S&amp;P Composite</th>\n",
       "      <th>Date</th>\n",
       "      <th>lag</th>\n",
       "      <th>monthly_return_per</th>\n",
       "    </tr>\n",
       "    <tr>\n",
       "      <th>Year</th>\n",
       "      <th></th>\n",
       "      <th></th>\n",
       "      <th></th>\n",
       "      <th></th>\n",
       "    </tr>\n",
       "  </thead>\n",
       "  <tbody>\n",
       "    <tr>\n",
       "      <td>1871-02-28</td>\n",
       "      <td>4.50</td>\n",
       "      <td>1871-02-28</td>\n",
       "      <td>4.44</td>\n",
       "      <td>1.351351</td>\n",
       "    </tr>\n",
       "    <tr>\n",
       "      <td>1871-03-31</td>\n",
       "      <td>4.61</td>\n",
       "      <td>1871-03-31</td>\n",
       "      <td>4.50</td>\n",
       "      <td>2.444444</td>\n",
       "    </tr>\n",
       "    <tr>\n",
       "      <td>1871-04-30</td>\n",
       "      <td>4.74</td>\n",
       "      <td>1871-04-30</td>\n",
       "      <td>4.61</td>\n",
       "      <td>2.819957</td>\n",
       "    </tr>\n",
       "    <tr>\n",
       "      <td>1871-05-31</td>\n",
       "      <td>4.86</td>\n",
       "      <td>1871-05-31</td>\n",
       "      <td>4.74</td>\n",
       "      <td>2.531646</td>\n",
       "    </tr>\n",
       "    <tr>\n",
       "      <td>1871-06-30</td>\n",
       "      <td>4.82</td>\n",
       "      <td>1871-06-30</td>\n",
       "      <td>4.86</td>\n",
       "      <td>-0.823045</td>\n",
       "    </tr>\n",
       "  </tbody>\n",
       "</table>\n",
       "</div>"
      ],
      "text/plain": [
       "            S&P Composite       Date   lag  monthly_return_per\n",
       "Year                                                          \n",
       "1871-02-28           4.50 1871-02-28  4.44            1.351351\n",
       "1871-03-31           4.61 1871-03-31  4.50            2.444444\n",
       "1871-04-30           4.74 1871-04-30  4.61            2.819957\n",
       "1871-05-31           4.86 1871-05-31  4.74            2.531646\n",
       "1871-06-30           4.82 1871-06-30  4.86           -0.823045"
      ]
     },
     "execution_count": 169,
     "metadata": {},
     "output_type": "execute_result"
    }
   ],
   "source": [
    "sp.head()"
   ]
  },
  {
   "cell_type": "code",
   "execution_count": 260,
   "metadata": {},
   "outputs": [],
   "source": [
    "# Indexing each dataframe by year/month\n",
    "\n",
    "\n",
    "presidents['month'] = presidents['end_datetime'].dt.month\n",
    "presidents['year'] = presidents['end_datetime'].dt.year\n",
    "presidents['monthyear'] = presidents['year'].map(str) + '/' + presidents['month'].map(str)\n",
    "\n",
    "sp['month'] = sp['Date'].dt.month\n",
    "sp['year'] = sp['Date'].dt.year\n",
    "sp['monthyear'] = sp['year'].map(str) + '/' + sp['month'].map(str)"
   ]
  },
  {
   "cell_type": "code",
   "execution_count": 239,
   "metadata": {},
   "outputs": [],
   "source": [
    "# new dataframe, merged from old dataframes on date\n",
    "\n",
    "df = sp1.merge( p1, on='monthyear', how='left')"
   ]
  },
  {
   "cell_type": "code",
   "execution_count": 241,
   "metadata": {},
   "outputs": [],
   "source": [
    "# Selecting only columns we want\n",
    "\n",
    "new_df = df[['Date','monthly_return_per', 'president_y']]"
   ]
  },
  {
   "cell_type": "code",
   "execution_count": 246,
   "metadata": {},
   "outputs": [
    {
     "name": "stderr",
     "output_type": "stream",
     "text": [
      "/Users/carterbouley/anaconda3/envs/learn-env/lib/python3.6/site-packages/ipykernel_launcher.py:1: SettingWithCopyWarning: \n",
      "A value is trying to be set on a copy of a slice from a DataFrame.\n",
      "Try using .loc[row_indexer,col_indexer] = value instead\n",
      "\n",
      "See the caveats in the documentation: http://pandas.pydata.org/pandas-docs/stable/user_guide/indexing.html#returning-a-view-versus-a-copy\n",
      "  \"\"\"Entry point for launching an IPython kernel.\n"
     ]
    }
   ],
   "source": [
    "# filling in all presidents \n",
    "\n",
    "new_df['president'] = new_df['president_y'].fillna(method='backfill')"
   ]
  },
  {
   "cell_type": "code",
   "execution_count": 257,
   "metadata": {},
   "outputs": [
    {
     "name": "stderr",
     "output_type": "stream",
     "text": [
      "/Users/carterbouley/anaconda3/envs/learn-env/lib/python3.6/site-packages/pandas/core/generic.py:6287: SettingWithCopyWarning: \n",
      "A value is trying to be set on a copy of a slice from a DataFrame\n",
      "\n",
      "See the caveats in the documentation: http://pandas.pydata.org/pandas-docs/stable/user_guide/indexing.html#returning-a-view-versus-a-copy\n",
      "  self._update_inplace(new_data)\n"
     ]
    }
   ],
   "source": [
    "# filling in Donald trump (as there was no endate)\n",
    "\n",
    "new_df.president.fillna('Donald Trump', inplace = True)"
   ]
  },
  {
   "cell_type": "code",
   "execution_count": 268,
   "metadata": {},
   "outputs": [
    {
     "data": {
      "text/html": [
       "<div>\n",
       "<style scoped>\n",
       "    .dataframe tbody tr th:only-of-type {\n",
       "        vertical-align: middle;\n",
       "    }\n",
       "\n",
       "    .dataframe tbody tr th {\n",
       "        vertical-align: top;\n",
       "    }\n",
       "\n",
       "    .dataframe thead th {\n",
       "        text-align: right;\n",
       "    }\n",
       "</style>\n",
       "<table border=\"1\" class=\"dataframe\">\n",
       "  <thead>\n",
       "    <tr style=\"text-align: right;\">\n",
       "      <th></th>\n",
       "      <th>monthly_return_per</th>\n",
       "    </tr>\n",
       "    <tr>\n",
       "      <th>president</th>\n",
       "      <th></th>\n",
       "    </tr>\n",
       "  </thead>\n",
       "  <tbody>\n",
       "    <tr>\n",
       "      <td>Barack Obama</td>\n",
       "      <td>1.064475</td>\n",
       "    </tr>\n",
       "    <tr>\n",
       "      <td>Benjamin Harrison</td>\n",
       "      <td>0.080491</td>\n",
       "    </tr>\n",
       "    <tr>\n",
       "      <td>Bill Clinton</td>\n",
       "      <td>1.217110</td>\n",
       "    </tr>\n",
       "    <tr>\n",
       "      <td>Calvin Coolidge</td>\n",
       "      <td>1.760395</td>\n",
       "    </tr>\n",
       "    <tr>\n",
       "      <td>Chester A. Arthur</td>\n",
       "      <td>-0.805555</td>\n",
       "    </tr>\n",
       "    <tr>\n",
       "      <td>Donald Trump</td>\n",
       "      <td>0.800276</td>\n",
       "    </tr>\n",
       "    <tr>\n",
       "      <td>Dwight D. Eisenhower</td>\n",
       "      <td>0.905926</td>\n",
       "    </tr>\n",
       "    <tr>\n",
       "      <td>Franklin D. Roosevelt</td>\n",
       "      <td>0.772067</td>\n",
       "    </tr>\n",
       "    <tr>\n",
       "      <td>George H. W. Bush</td>\n",
       "      <td>0.926910</td>\n",
       "    </tr>\n",
       "    <tr>\n",
       "      <td>George W. Bush</td>\n",
       "      <td>-0.358863</td>\n",
       "    </tr>\n",
       "    <tr>\n",
       "      <td>Gerald Ford</td>\n",
       "      <td>1.180797</td>\n",
       "    </tr>\n",
       "    <tr>\n",
       "      <td>Grover Cleveland</td>\n",
       "      <td>-0.021003</td>\n",
       "    </tr>\n",
       "    <tr>\n",
       "      <td>Harry S. Truman</td>\n",
       "      <td>0.692552</td>\n",
       "    </tr>\n",
       "    <tr>\n",
       "      <td>Herbert Hoover</td>\n",
       "      <td>-2.275635</td>\n",
       "    </tr>\n",
       "    <tr>\n",
       "      <td>James A. Garfield</td>\n",
       "      <td>0.060112</td>\n",
       "    </tr>\n",
       "    <tr>\n",
       "      <td>Jimmy Carter</td>\n",
       "      <td>0.569204</td>\n",
       "    </tr>\n",
       "    <tr>\n",
       "      <td>John F. Kennedy</td>\n",
       "      <td>0.641562</td>\n",
       "    </tr>\n",
       "    <tr>\n",
       "      <td>Lyndon B. Johnson</td>\n",
       "      <td>0.582890</td>\n",
       "    </tr>\n",
       "    <tr>\n",
       "      <td>Richard Nixon</td>\n",
       "      <td>-0.367243</td>\n",
       "    </tr>\n",
       "    <tr>\n",
       "      <td>Ronald Reagan</td>\n",
       "      <td>0.872484</td>\n",
       "    </tr>\n",
       "    <tr>\n",
       "      <td>Rutherford B. Hayes</td>\n",
       "      <td>1.481689</td>\n",
       "    </tr>\n",
       "    <tr>\n",
       "      <td>Theodore Roosevelt</td>\n",
       "      <td>0.185912</td>\n",
       "    </tr>\n",
       "    <tr>\n",
       "      <td>Ulysses S. Grant</td>\n",
       "      <td>-0.415319</td>\n",
       "    </tr>\n",
       "    <tr>\n",
       "      <td>Warren G. Harding</td>\n",
       "      <td>0.620154</td>\n",
       "    </tr>\n",
       "    <tr>\n",
       "      <td>William Howard Taft</td>\n",
       "      <td>0.003642</td>\n",
       "    </tr>\n",
       "    <tr>\n",
       "      <td>William McKinley</td>\n",
       "      <td>1.278910</td>\n",
       "    </tr>\n",
       "    <tr>\n",
       "      <td>Woodrow Wilson</td>\n",
       "      <td>-0.195688</td>\n",
       "    </tr>\n",
       "  </tbody>\n",
       "</table>\n",
       "</div>"
      ],
      "text/plain": [
       "                       monthly_return_per\n",
       "president                                \n",
       "Barack Obama                     1.064475\n",
       "Benjamin Harrison                0.080491\n",
       "Bill Clinton                     1.217110\n",
       "Calvin Coolidge                  1.760395\n",
       "Chester A. Arthur               -0.805555\n",
       "Donald Trump                     0.800276\n",
       "Dwight D. Eisenhower             0.905926\n",
       "Franklin D. Roosevelt            0.772067\n",
       "George H. W. Bush                0.926910\n",
       "George W. Bush                  -0.358863\n",
       "Gerald Ford                      1.180797\n",
       "Grover Cleveland                -0.021003\n",
       "Harry S. Truman                  0.692552\n",
       "Herbert Hoover                  -2.275635\n",
       "James A. Garfield                0.060112\n",
       "Jimmy Carter                     0.569204\n",
       "John F. Kennedy                  0.641562\n",
       "Lyndon B. Johnson                0.582890\n",
       "Richard Nixon                   -0.367243\n",
       "Ronald Reagan                    0.872484\n",
       "Rutherford B. Hayes              1.481689\n",
       "Theodore Roosevelt               0.185912\n",
       "Ulysses S. Grant                -0.415319\n",
       "Warren G. Harding                0.620154\n",
       "William Howard Taft              0.003642\n",
       "William McKinley                 1.278910\n",
       "Woodrow Wilson                  -0.195688"
      ]
     },
     "execution_count": 268,
     "metadata": {},
     "output_type": "execute_result"
    }
   ],
   "source": [
    "new_df.groupby('president').mean()"
   ]
  },
  {
   "cell_type": "code",
   "execution_count": 270,
   "metadata": {},
   "outputs": [
    {
     "data": {
      "text/html": [
       "<div>\n",
       "<style scoped>\n",
       "    .dataframe tbody tr th:only-of-type {\n",
       "        vertical-align: middle;\n",
       "    }\n",
       "\n",
       "    .dataframe tbody tr th {\n",
       "        vertical-align: top;\n",
       "    }\n",
       "\n",
       "    .dataframe thead th {\n",
       "        text-align: right;\n",
       "    }\n",
       "</style>\n",
       "<table border=\"1\" class=\"dataframe\">\n",
       "  <thead>\n",
       "    <tr style=\"text-align: right;\">\n",
       "      <th></th>\n",
       "      <th>Date</th>\n",
       "      <th>monthly_return_per</th>\n",
       "      <th>president_y</th>\n",
       "      <th>president</th>\n",
       "    </tr>\n",
       "  </thead>\n",
       "  <tbody>\n",
       "    <tr>\n",
       "      <td>1778</td>\n",
       "      <td>2019-04-30</td>\n",
       "      <td>3.559940</td>\n",
       "      <td>NaN</td>\n",
       "      <td>Donald Trump</td>\n",
       "    </tr>\n",
       "    <tr>\n",
       "      <td>1779</td>\n",
       "      <td>2019-05-31</td>\n",
       "      <td>-1.690543</td>\n",
       "      <td>NaN</td>\n",
       "      <td>Donald Trump</td>\n",
       "    </tr>\n",
       "    <tr>\n",
       "      <td>1780</td>\n",
       "      <td>2019-06-30</td>\n",
       "      <td>1.242158</td>\n",
       "      <td>NaN</td>\n",
       "      <td>Donald Trump</td>\n",
       "    </tr>\n",
       "    <tr>\n",
       "      <td>1781</td>\n",
       "      <td>2019-07-31</td>\n",
       "      <td>3.665528</td>\n",
       "      <td>NaN</td>\n",
       "      <td>Donald Trump</td>\n",
       "    </tr>\n",
       "    <tr>\n",
       "      <td>1782</td>\n",
       "      <td>2019-08-31</td>\n",
       "      <td>-3.742519</td>\n",
       "      <td>NaN</td>\n",
       "      <td>Donald Trump</td>\n",
       "    </tr>\n",
       "  </tbody>\n",
       "</table>\n",
       "</div>"
      ],
      "text/plain": [
       "           Date  monthly_return_per president_y     president\n",
       "1778 2019-04-30            3.559940         NaN  Donald Trump\n",
       "1779 2019-05-31           -1.690543         NaN  Donald Trump\n",
       "1780 2019-06-30            1.242158         NaN  Donald Trump\n",
       "1781 2019-07-31            3.665528         NaN  Donald Trump\n",
       "1782 2019-08-31           -3.742519         NaN  Donald Trump"
      ]
     },
     "execution_count": 270,
     "metadata": {},
     "output_type": "execute_result"
    }
   ],
   "source": [
    "new_df.tail()"
   ]
  },
  {
   "cell_type": "code",
   "execution_count": null,
   "metadata": {},
   "outputs": [],
   "source": []
  }
 ],
 "metadata": {
  "kernelspec": {
   "display_name": "learn-env",
   "language": "python",
   "name": "learn-env"
  },
  "language_info": {
   "codemirror_mode": {
    "name": "ipython",
    "version": 3
   },
   "file_extension": ".py",
   "mimetype": "text/x-python",
   "name": "python",
   "nbconvert_exporter": "python",
   "pygments_lexer": "ipython3",
   "version": "3.6.9"
  }
 },
 "nbformat": 4,
 "nbformat_minor": 2
}
