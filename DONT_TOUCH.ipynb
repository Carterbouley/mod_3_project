{
 "cells": [
  {
   "cell_type": "code",
   "execution_count": 3,
   "metadata": {},
   "outputs": [],
   "source": [
    "import quandl\n",
    "import pandas as pd\n",
    "import requests\n",
    "import numpy as np\n",
    "import seaborn as sns\n",
    "import matplotlib.pyplot as plt \n",
    "import json\n",
    "import datetime as dt\n",
    "from datetime import datetime\n",
    "import pandas as pd\n",
    "import statsmodels.api as sm\n",
    "from statsmodels.formula.api import ols\n"
   ]
  },
  {
   "cell_type": "markdown",
   "metadata": {},
   "source": [
    "## Data Gathering: Quandl API"
   ]
  },
  {
   "cell_type": "code",
   "execution_count": 4,
   "metadata": {},
   "outputs": [],
   "source": [
    "# Federal Debt: Total Public Debt as Percent of Gross Domestic Product, Quarterly\n",
    "# Units: Percent of GDP, Seasonally Adjusted\n",
    "# Source: FRED (Federal Reserve Bank St. Louis)\n",
    "\n",
    "debt = quandl.get(\"FRED/GFDEGDQ188S\", authtoken=\"ckJvd5G2a2dkK9nun3xS\")"
   ]
  },
  {
   "cell_type": "code",
   "execution_count": 10,
   "metadata": {},
   "outputs": [],
   "source": [
    "# S&P 500 Index Composite, Monthly\n",
    "# Units: Index\n",
    "# Source: Yale University, Online Data Robert Shiller\n",
    "\n",
    "sp = quandl.get(\"YALE/SPCOMP\", authtoken=\"ckJvd5G2a2dkK9nun3xS\")"
   ]
  },
  {
   "cell_type": "code",
   "execution_count": 53,
   "metadata": {},
   "outputs": [],
   "source": [
    "# Unemployment Rate, Monthly\n",
    "# Units: Percent, Seasonally Adjusted\n",
    "# Source: FRED (Federal Reserve Bank St. Louis)\n",
    "\n",
    "u = quandl.get(\"FRED/UNRATENSA\", authtoken=\"ckJvd5G2a2dkK9nun3xS\")"
   ]
  },
  {
   "cell_type": "code",
   "execution_count": 7,
   "metadata": {},
   "outputs": [],
   "source": [
    "# Balance on Current Account, NIPA's, Quarterly\n",
    "# Units: Billions of Dollars Seasonally Adjusted Annual Rate\n",
    "# Source: FRED (Federal Reserve Bank St. Louis)\n",
    "\n",
    "balance = quandl.get(\"FRED/NETFI\", authtoken=\"ckJvd5G2a2dkK9nun3xS\")"
   ]
  },
  {
   "cell_type": "code",
   "execution_count": 8,
   "metadata": {},
   "outputs": [],
   "source": [
    "# US Presidents \n",
    "presidents = pd.read_csv('us_presidents.csv')\n",
    "presidents = pd.DataFrame(presidents)"
   ]
  },
  {
   "cell_type": "markdown",
   "metadata": {},
   "source": [
    "## Data Cleaning: "
   ]
  },
  {
   "cell_type": "markdown",
   "metadata": {},
   "source": [
    "### S&P 500 Monthly Returns"
   ]
  },
  {
   "cell_type": "code",
   "execution_count": 11,
   "metadata": {},
   "outputs": [],
   "source": [
    "# Get the date in a new column to be able to merge tables on Date\n",
    "sp['Date'] = sp.index\n",
    "\n",
    "# Adding a new column with t-1 (lag) values to calculate monthly returns on S&P\n",
    "sp['lag'] = sp['S&P Composite'].shift(1)\n",
    "                                      \n",
    "# As there is no lagged S&P for the first date we delete the first row\n",
    "to_drop = sp.iloc[:1]\n",
    "\n",
    "sp.drop(to_drop.index, axis=0, inplace=True)\n",
    "                                      \n",
    "# The S&P monthly returns is simply the rate of change between months ((t - t-1)/t-1)*100\n",
    "sp['monthly_return_per'] = ((sp['S&P Composite']-sp['lag'])/sp['lag'])*100"
   ]
  },
  {
   "cell_type": "markdown",
   "metadata": {},
   "source": [
    "### Merging Presidents data to S&P data"
   ]
  },
  {
   "cell_type": "code",
   "execution_count": 36,
   "metadata": {},
   "outputs": [],
   "source": [
    "date_start_series = list(presidents['start'])"
   ]
  },
  {
   "cell_type": "code",
   "execution_count": 37,
   "metadata": {},
   "outputs": [],
   "source": [
    "#Adding missing end date for Obama and using today's data for Trump as he is still in Office\n",
    "\n",
    "date_end_series[-2] = 'January 20, 2017'\n",
    "date_end_series[-1] = 'November 12, 2019'"
   ]
  },
  {
   "cell_type": "code",
   "execution_count": 38,
   "metadata": {},
   "outputs": [],
   "source": [
    "# Converting presidents final dates in office into a datetime object\n",
    "\n",
    "\n",
    "new_date_end_series = []\n",
    "for row in date_end_series:\n",
    "    date = dt.datetime.strptime(row,'%B %d, %Y').strftime('%Y-%m-%d')\n",
    "    datetime_object = datetime.strptime(date, '%Y-%m-%d')\n",
    "    new_date_end_series.append(datetime_object)"
   ]
  },
  {
   "cell_type": "code",
   "execution_count": 39,
   "metadata": {},
   "outputs": [],
   "source": [
    "presidents['end_date'] = new_date_end_series\n",
    "new_president_df = presidents[['president', 'end_date']].copy()"
   ]
  },
  {
   "cell_type": "code",
   "execution_count": 40,
   "metadata": {},
   "outputs": [],
   "source": [
    "# Deleting presidents before S&P Index start date\n",
    "\n",
    "to_drop  = new_president_df[:17].index\n",
    "new_president_df = new_president_df.drop(to_drop, axis = 0)"
   ]
  },
  {
   "cell_type": "code",
   "execution_count": 41,
   "metadata": {},
   "outputs": [],
   "source": [
    "# Indexing each dataframe by year/month\n",
    "\n",
    "presidents['month'] = presidents['end_date'].dt.month\n",
    "presidents['year'] = presidents['end_date'].dt.year\n",
    "presidents['monthyear'] = presidents['year'].map(str) + '/' + presidents['month'].map(str)\n",
    "\n",
    "sp['month'] = sp['Date'].dt.month\n",
    "sp['year'] = sp['Date'].dt.year\n",
    "sp['monthyear'] = sp['year'].map(str) + '/' + sp['month'].map(str)"
   ]
  },
  {
   "cell_type": "code",
   "execution_count": 42,
   "metadata": {},
   "outputs": [
    {
     "name": "stderr",
     "output_type": "stream",
     "text": [
      "/Users/flatironschool/anaconda3/lib/python3.7/site-packages/ipykernel_launcher.py:11: SettingWithCopyWarning: \n",
      "A value is trying to be set on a copy of a slice from a DataFrame.\n",
      "Try using .loc[row_indexer,col_indexer] = value instead\n",
      "\n",
      "See the caveats in the documentation: http://pandas.pydata.org/pandas-docs/stable/indexing.html#indexing-view-versus-copy\n",
      "  # This is added back by InteractiveShellApp.init_path()\n"
     ]
    }
   ],
   "source": [
    "# new dataframe, merged from old dataframes on date\n",
    "\n",
    "df = sp.merge( presidents, on='monthyear', how='left')\n",
    "\n",
    "# Selecting only columns we want\n",
    "\n",
    "new_df = df[['Date','monthly_return_per', 'president']]\n",
    "\n",
    "# filling in all presidents \n",
    "\n",
    "new_df['president'] = new_df['president'].fillna(method='backfill')\n",
    "\n",
    "# filling in Donald trump (as there was no endate)\n",
    "\n",
    "new_df.president.fillna('Donald Trump', inplace = True)"
   ]
  },
  {
   "cell_type": "code",
   "execution_count": 43,
   "metadata": {},
   "outputs": [
    {
     "data": {
      "text/html": [
       "<div>\n",
       "<style scoped>\n",
       "    .dataframe tbody tr th:only-of-type {\n",
       "        vertical-align: middle;\n",
       "    }\n",
       "\n",
       "    .dataframe tbody tr th {\n",
       "        vertical-align: top;\n",
       "    }\n",
       "\n",
       "    .dataframe thead th {\n",
       "        text-align: right;\n",
       "    }\n",
       "</style>\n",
       "<table border=\"1\" class=\"dataframe\">\n",
       "  <thead>\n",
       "    <tr style=\"text-align: right;\">\n",
       "      <th></th>\n",
       "      <th>Date</th>\n",
       "      <th>monthly_return_per</th>\n",
       "      <th>president</th>\n",
       "    </tr>\n",
       "  </thead>\n",
       "  <tbody>\n",
       "    <tr>\n",
       "      <th>1778</th>\n",
       "      <td>2019-04-30</td>\n",
       "      <td>3.559940</td>\n",
       "      <td>Donald Trump</td>\n",
       "    </tr>\n",
       "    <tr>\n",
       "      <th>1779</th>\n",
       "      <td>2019-05-31</td>\n",
       "      <td>-1.690543</td>\n",
       "      <td>Donald Trump</td>\n",
       "    </tr>\n",
       "    <tr>\n",
       "      <th>1780</th>\n",
       "      <td>2019-06-30</td>\n",
       "      <td>1.242158</td>\n",
       "      <td>Donald Trump</td>\n",
       "    </tr>\n",
       "    <tr>\n",
       "      <th>1781</th>\n",
       "      <td>2019-07-31</td>\n",
       "      <td>3.665528</td>\n",
       "      <td>Donald Trump</td>\n",
       "    </tr>\n",
       "    <tr>\n",
       "      <th>1782</th>\n",
       "      <td>2019-08-31</td>\n",
       "      <td>-3.742519</td>\n",
       "      <td>Donald Trump</td>\n",
       "    </tr>\n",
       "  </tbody>\n",
       "</table>\n",
       "</div>"
      ],
      "text/plain": [
       "           Date  monthly_return_per     president\n",
       "1778 2019-04-30            3.559940  Donald Trump\n",
       "1779 2019-05-31           -1.690543  Donald Trump\n",
       "1780 2019-06-30            1.242158  Donald Trump\n",
       "1781 2019-07-31            3.665528  Donald Trump\n",
       "1782 2019-08-31           -3.742519  Donald Trump"
      ]
     },
     "execution_count": 43,
     "metadata": {},
     "output_type": "execute_result"
    }
   ],
   "source": [
    "new_df.tail()"
   ]
  },
  {
   "cell_type": "markdown",
   "metadata": {},
   "source": [
    "### Data Visualization"
   ]
  },
  {
   "cell_type": "code",
   "execution_count": 54,
   "metadata": {},
   "outputs": [
    {
     "data": {
      "text/plain": [
       "<matplotlib.axes._subplots.AxesSubplot at 0x1c26f8e128>"
      ]
     },
     "execution_count": 54,
     "metadata": {},
     "output_type": "execute_result"
    },
    {
     "data": {
      "image/png": "[encoded data removed]",
      "text/plain": [
       "<Figure size 432x288 with 1 Axes>"
      ]
     },
     "metadata": {
      "needs_background": "light"
     },
     "output_type": "display_data"
    }
   ],
   "source": [
    "u.plot()"
   ]
  },
  {
   "cell_type": "code",
   "execution_count": 55,
   "metadata": {},
   "outputs": [
    {
     "data": {
      "text/plain": [
       "<matplotlib.axes._subplots.AxesSubplot at 0x1c27526d68>"
      ]
     },
     "execution_count": 55,
     "metadata": {},
     "output_type": "execute_result"
    },
    {
     "data": {
      "image/png": "[encoded data removed]",
      "text/plain": [
       "<Figure size 432x288 with 1 Axes>"
      ]
     },
     "metadata": {
      "needs_background": "light"
     },
     "output_type": "display_data"
    }
   ],
   "source": [
    "sp['monthly_return_per'].hist(bins=200)"
   ]
  },
  {
   "cell_type": "code",
   "execution_count": 52,
   "metadata": {},
   "outputs": [
    {
     "data": {
      "text/plain": [
       "<matplotlib.axes._subplots.AxesSubplot at 0x1c26cd72e8>"
      ]
     },
     "execution_count": 52,
     "metadata": {},
     "output_type": "execute_result"
    },
    {
     "data": {
      "image/png": "[encoded data removed]",
      "text/plain": [
       "<Figure size 432x288 with 1 Axes>"
      ]
     },
     "metadata": {
      "needs_background": "light"
     },
     "output_type": "display_data"
    }
   ],
   "source": [
    "sp['monthly_return_per'].plot()"
   ]
  },
  {
   "cell_type": "code",
   "execution_count": 9,
   "metadata": {},
   "outputs": [
    {
     "data": {
      "text/plain": [
       "<matplotlib.axes._subplots.AxesSubplot at 0x1c23add7b8>"
      ]
     },
     "execution_count": 9,
     "metadata": {},
     "output_type": "execute_result"
    },
    {
     "data": {
      "image/png": "[encoded data removed]",
      "text/plain": [
       "<Figure size 432x288 with 1 Axes>"
      ]
     },
     "metadata": {
      "needs_background": "light"
     },
     "output_type": "display_data"
    }
   ],
   "source": [
    "debt.plot()"
   ]
  },
  {
   "cell_type": "code",
   "execution_count": 23,
   "metadata": {},
   "outputs": [],
   "source": [
    "balance['lag'] = balance['Value'].shift(1)"
   ]
  },
  {
   "cell_type": "code",
   "execution_count": 6,
   "metadata": {},
   "outputs": [],
   "source": [
    "formula_sp = 'c + c(president) + e'"
   ]
  },
  {
   "cell_type": "markdown",
   "metadata": {},
   "source": [
    "## Hypothesis Testing: T-Test"
   ]
  },
  {
   "cell_type": "markdown",
   "metadata": {},
   "source": [
    "### Hypothesis 1:\n",
    "\n",
    "<blockquote class=\"twitter-tweet\" data-lang=\"en\"><p lang=\"en\" dir=\"ltr\">The S&amp;P just hit an ALL TIME HIGH. This is a big win for jobs, 401-K’s, and, frankly, EVERYONE! Our Country is doing great. Even killed long sought ISIS murderer, Al-Baghdadi. We are stronger than ever before, with GREAT upward potential. Enjoy!</p>&mdash; Donald J. Trump (@realDonaldTrump) <a href=\"https://twitter.com/realDonaldTrump/status/1188813055108374533?ref_src=twsrc%5Etfw\">October 28, 2019</a></blockquote>\n",
    "\n",
    "\n",
    " \n",
    "    h0 = Trump has no effect on the rate of growth of the s&p 500\n",
    "    h1 = Trump is increasing the rate of growth of the s&p 500\n",
    "    \n"
   ]
  },
  {
   "cell_type": "code",
   "execution_count": null,
   "metadata": {},
   "outputs": [],
   "source": []
  },
  {
   "cell_type": "markdown",
   "metadata": {},
   "source": [
    "### Hypothesis_2:\n",
    "\n",
    "<blockquote class=\"twitter-tweet\" data-lang=\"en\"><p lang=\"en\" dir=\"ltr\">Breaking News: Unemployment Rate, at 3.5%, drops to a 50 YEAR LOW. Wow America, lets impeach your President (even though he did nothing wrong!).</p>&mdash; Donald J. Trump (@realDonaldTrump) <a href=\"https://twitter.com/realDonaldTrump/status/1180102056411095042?ref_src=twsrc%5Etfw\">October 4, 2019</a></blockquote>\n",
    "\n",
    "\n",
    "\n",
    "    h0 = Trump has no effect on the rate of unemployment in the usa\n",
    "    h1 = Trump has reduced the rate of unemployment in the USA\n",
    "\n"
   ]
  },
  {
   "cell_type": "code",
   "execution_count": null,
   "metadata": {},
   "outputs": [],
   "source": []
  },
  {
   "cell_type": "code",
   "execution_count": null,
   "metadata": {},
   "outputs": [],
   "source": []
  },
  {
   "cell_type": "markdown",
   "metadata": {},
   "source": [
    "### Hypothesis_3: \n",
    "\n",
    "<blockquote class=\"twitter-tweet\" data-lang=\"en\"><p lang=\"en\" dir=\"ltr\">The media has not reported that the National Debt in my first month went down by $12 billion vs a $200 billion increase in Obama first mo.</p>&mdash; Donald J. Trump (@realDonaldTrump) <a href=\"https://twitter.com/realDonaldTrump/status/835479283699224576?ref_src=twsrc%5Etfw\">February 25, 2017</a></blockquote>\n",
    "\n",
    "\n",
    "\n",
    "    h0 = Trump has no effect on the level of debt in the USA\n",
    "    h1 = Trump had reduced the level of national debt in the USA\n",
    "    \n",
    "   \n",
    "\n"
   ]
  },
  {
   "cell_type": "code",
   "execution_count": null,
   "metadata": {},
   "outputs": [],
   "source": []
  },
  {
   "cell_type": "code",
   "execution_count": null,
   "metadata": {},
   "outputs": [],
   "source": []
  },
  {
   "cell_type": "markdown",
   "metadata": {},
   "source": [
    "### Hypothesis_4: \n",
    "\n",
    "<blockquote class=\"twitter-tweet\" data-lang=\"en\"><p lang=\"en\" dir=\"ltr\">The trade deficit rose to a 7yr high thanks to horrible trade policies Clinton supports. I will fix it fast- JOBS! <a href=\"https://t.co/jaGeN4u50U\">https://t.co/jaGeN4u50U</a></p>&mdash; Donald J. Trump (@realDonaldTrump) <a href=\"https://twitter.com/realDonaldTrump/status/743486962670141440?ref_src=twsrc%5Etfw\">June 16, 2016</a></blockquote>\n",
    "\n",
    "\n",
    "    h0 = Trump has no effect on the trade balance of the USA\n",
    "    h1 = Trump is reducing the trade balance of the USA\n"
   ]
  },
  {
   "cell_type": "code",
   "execution_count": null,
   "metadata": {},
   "outputs": [],
   "source": []
  },
  {
   "cell_type": "code",
   "execution_count": null,
   "metadata": {},
   "outputs": [],
   "source": []
  }
 ],
 "metadata": {
  "kernelspec": {
   "display_name": "Python 3",
   "language": "python",
   "name": "python3"
  },
  "language_info": {
   "codemirror_mode": {
    "name": "ipython",
    "version": 3
   },
   "file_extension": ".py",
   "mimetype": "text/x-python",
   "name": "python",
   "nbconvert_exporter": "python",
   "pygments_lexer": "ipython3",
   "version": "3.7.3"
  }
 },
 "nbformat": 4,
 "nbformat_minor": 4
}
