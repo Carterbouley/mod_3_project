{
 "cells": [
  {
   "cell_type": "code",
   "execution_count": 1,
   "metadata": {},
   "outputs": [
    {
     "name": "stdout",
     "output_type": "stream",
     "text": [
      "Requirement already satisfied: quandl in /Users/flatironschool/opt/anaconda3/envs/learn-env/lib/python3.6/site-packages (3.4.8)\n",
      "Requirement already satisfied: requests>=2.7.0 in /Users/flatironschool/opt/anaconda3/envs/learn-env/lib/python3.6/site-packages (from quandl) (2.19.1)\n",
      "Requirement already satisfied: six in /Users/flatironschool/opt/anaconda3/envs/learn-env/lib/python3.6/site-packages (from quandl) (1.11.0)\n",
      "Requirement already satisfied: numpy>=1.8 in /Users/flatironschool/opt/anaconda3/envs/learn-env/lib/python3.6/site-packages (from quandl) (1.17.2)\n",
      "Requirement already satisfied: pandas>=0.14 in /Users/flatironschool/opt/anaconda3/envs/learn-env/lib/python3.6/site-packages (from quandl) (0.23.4)\n",
      "Requirement already satisfied: ndg-httpsclient in /Users/flatironschool/opt/anaconda3/envs/learn-env/lib/python3.6/site-packages (from quandl) (0.5.1)\n",
      "Requirement already satisfied: more-itertools<=5.0.0 in /Users/flatironschool/opt/anaconda3/envs/learn-env/lib/python3.6/site-packages (from quandl) (5.0.0)\n",
      "Requirement already satisfied: pyasn1 in /Users/flatironschool/opt/anaconda3/envs/learn-env/lib/python3.6/site-packages (from quandl) (0.4.7)\n",
      "Requirement already satisfied: python-dateutil in /Users/flatironschool/opt/anaconda3/envs/learn-env/lib/python3.6/site-packages (from quandl) (2.8.0)\n",
      "Requirement already satisfied: pyOpenSSL in /Users/flatironschool/opt/anaconda3/envs/learn-env/lib/python3.6/site-packages (from quandl) (18.0.0)\n",
      "Requirement already satisfied: inflection>=0.3.1 in /Users/flatironschool/opt/anaconda3/envs/learn-env/lib/python3.6/site-packages (from quandl) (0.3.1)\n",
      "Requirement already satisfied: certifi>=2017.4.17 in /Users/flatironschool/opt/anaconda3/envs/learn-env/lib/python3.6/site-packages (from requests>=2.7.0->quandl) (2018.8.13)\n",
      "Requirement already satisfied: urllib3<1.24,>=1.21.1 in /Users/flatironschool/opt/anaconda3/envs/learn-env/lib/python3.6/site-packages (from requests>=2.7.0->quandl) (1.23)\n",
      "Requirement already satisfied: chardet<3.1.0,>=3.0.2 in /Users/flatironschool/opt/anaconda3/envs/learn-env/lib/python3.6/site-packages (from requests>=2.7.0->quandl) (3.0.4)\n",
      "Requirement already satisfied: idna<2.8,>=2.5 in /Users/flatironschool/opt/anaconda3/envs/learn-env/lib/python3.6/site-packages (from requests>=2.7.0->quandl) (2.7)\n",
      "Requirement already satisfied: pytz>=2011k in /Users/flatironschool/opt/anaconda3/envs/learn-env/lib/python3.6/site-packages (from pandas>=0.14->quandl) (2018.5)\n",
      "Requirement already satisfied: cryptography>=2.2.1 in /Users/flatironschool/opt/anaconda3/envs/learn-env/lib/python3.6/site-packages (from pyOpenSSL->quandl) (2.3.1)\n",
      "Requirement already satisfied: asn1crypto>=0.21.0 in /Users/flatironschool/opt/anaconda3/envs/learn-env/lib/python3.6/site-packages (from cryptography>=2.2.1->pyOpenSSL->quandl) (0.24.0)\n",
      "Requirement already satisfied: cffi!=1.11.3,>=1.7 in /Users/flatironschool/opt/anaconda3/envs/learn-env/lib/python3.6/site-packages (from cryptography>=2.2.1->pyOpenSSL->quandl) (1.11.5)\n",
      "Requirement already satisfied: pycparser in /Users/flatironschool/opt/anaconda3/envs/learn-env/lib/python3.6/site-packages (from cffi!=1.11.3,>=1.7->cryptography>=2.2.1->pyOpenSSL->quandl) (2.18)\n",
      "\u001b[33mYou are using pip version 10.0.1, however version 19.3.1 is available.\n",
      "You should consider upgrading via the 'pip install --upgrade pip' command.\u001b[0m\n"
     ]
    }
   ],
   "source": [
    "!pip install quandl\n",
    "import requests\n",
    "import pandas as pd\n",
    "import numpy as np\n",
    "import seaborn as sns\n",
    "import matplotlib.pyplot as plt \n",
    "import json\n",
    "\n",
    "\n",
    "import quandl\n",
    "import pandas as pd\n",
    "import numpy as np\n",
    "import seaborn as sns\n",
    "import matplotlib.pyplot as plt\n",
    "%matplotlib inline\n",
    "import datetime as dt\n",
    "import seaborn as sns\n",
    "\n",
    "from bs4 import BeautifulSoup\n",
    "import os\n",
    "import codecs\n",
    "from scipy import stats"
   ]
  },
  {
   "cell_type": "code",
   "execution_count": 2,
   "metadata": {},
   "outputs": [],
   "source": [
    "import warnings;\n",
    "warnings.simplefilter('ignore')\n",
    "import statsmodels.api as sm\n",
    "from statsmodels.stats.weightstats import ttest_ind"
   ]
  },
  {
   "cell_type": "code",
   "execution_count": 3,
   "metadata": {},
   "outputs": [],
   "source": [
    "# Federal Debt: Total Public Debt as Percent of Gross Domestic Product, Quarterly\n",
    "# Units: Percent of GDP, Seasonally Adjusted\n",
    "# Source: FRED (Federal Reserve Bank St. Louis)\n",
    "\n",
    "debt = quandl.get(\"FRED/GFDEGDQ188S\", authtoken=\"ckJvd5G2a2dkK9nun3xS\")"
   ]
  },
  {
   "cell_type": "code",
   "execution_count": 4,
   "metadata": {},
   "outputs": [
    {
     "data": {
      "text/plain": [
       "Index(['Value'], dtype='object')"
      ]
     },
     "execution_count": 4,
     "metadata": {},
     "output_type": "execute_result"
    }
   ],
   "source": [
    "debt.columns"
   ]
  },
  {
   "cell_type": "code",
   "execution_count": 5,
   "metadata": {},
   "outputs": [
    {
     "data": {
      "text/html": [
       "<div>\n",
       "<style scoped>\n",
       "    .dataframe tbody tr th:only-of-type {\n",
       "        vertical-align: middle;\n",
       "    }\n",
       "\n",
       "    .dataframe tbody tr th {\n",
       "        vertical-align: top;\n",
       "    }\n",
       "\n",
       "    .dataframe thead th {\n",
       "        text-align: right;\n",
       "    }\n",
       "</style>\n",
       "<table border=\"1\" class=\"dataframe\">\n",
       "  <thead>\n",
       "    <tr style=\"text-align: right;\">\n",
       "      <th></th>\n",
       "      <th>Value</th>\n",
       "      <th>lag</th>\n",
       "    </tr>\n",
       "    <tr>\n",
       "      <th>Date</th>\n",
       "      <th></th>\n",
       "      <th></th>\n",
       "    </tr>\n",
       "  </thead>\n",
       "  <tbody>\n",
       "    <tr>\n",
       "      <th>1966-01-01</th>\n",
       "      <td>40.33999</td>\n",
       "      <td>NaN</td>\n",
       "    </tr>\n",
       "    <tr>\n",
       "      <th>1966-04-01</th>\n",
       "      <td>39.26763</td>\n",
       "      <td>40.33999</td>\n",
       "    </tr>\n",
       "    <tr>\n",
       "      <th>1966-07-01</th>\n",
       "      <td>39.62091</td>\n",
       "      <td>39.26763</td>\n",
       "    </tr>\n",
       "    <tr>\n",
       "      <th>1966-10-01</th>\n",
       "      <td>39.51977</td>\n",
       "      <td>39.62091</td>\n",
       "    </tr>\n",
       "    <tr>\n",
       "      <th>1967-01-01</th>\n",
       "      <td>39.20383</td>\n",
       "      <td>39.51977</td>\n",
       "    </tr>\n",
       "  </tbody>\n",
       "</table>\n",
       "</div>"
      ],
      "text/plain": [
       "               Value       lag\n",
       "Date                          \n",
       "1966-01-01  40.33999       NaN\n",
       "1966-04-01  39.26763  40.33999\n",
       "1966-07-01  39.62091  39.26763\n",
       "1966-10-01  39.51977  39.62091\n",
       "1967-01-01  39.20383  39.51977"
      ]
     },
     "execution_count": 5,
     "metadata": {},
     "output_type": "execute_result"
    }
   ],
   "source": [
    "debt['lag'] = debt['Value'].shift(1)\n",
    "debt.head()"
   ]
  },
  {
   "cell_type": "code",
   "execution_count": 6,
   "metadata": {},
   "outputs": [],
   "source": [
    "# Get the date in a new column to be able to merge tables on Date\n",
    "debt['Date'] = debt.index\n",
    "\n",
    "debt['lag'] = debt.Value.shift(1)"
   ]
  },
  {
   "cell_type": "code",
   "execution_count": 7,
   "metadata": {},
   "outputs": [],
   "source": [
    "# As there is no lagged Debt for the first date we delete the first row \n",
    "\n",
    "to_drop = debt.iloc[:1]\n",
    "debt.drop(to_drop.index, axis=0, inplace=True)"
   ]
  },
  {
   "cell_type": "code",
   "execution_count": 8,
   "metadata": {},
   "outputs": [],
   "source": [
    "# The  monthly Debt returns is simply the rate of change between months ((t - t-1)/t-1)*100\n",
    "\n",
    "debt['diff'] = (debt['Value']-debt['lag'])"
   ]
  },
  {
   "cell_type": "code",
   "execution_count": 9,
   "metadata": {},
   "outputs": [
    {
     "data": {
      "text/html": [
       "<div>\n",
       "<style scoped>\n",
       "    .dataframe tbody tr th:only-of-type {\n",
       "        vertical-align: middle;\n",
       "    }\n",
       "\n",
       "    .dataframe tbody tr th {\n",
       "        vertical-align: top;\n",
       "    }\n",
       "\n",
       "    .dataframe thead th {\n",
       "        text-align: right;\n",
       "    }\n",
       "</style>\n",
       "<table border=\"1\" class=\"dataframe\">\n",
       "  <thead>\n",
       "    <tr style=\"text-align: right;\">\n",
       "      <th></th>\n",
       "      <th>Value</th>\n",
       "      <th>lag</th>\n",
       "      <th>Date</th>\n",
       "      <th>diff</th>\n",
       "    </tr>\n",
       "    <tr>\n",
       "      <th>Date</th>\n",
       "      <th></th>\n",
       "      <th></th>\n",
       "      <th></th>\n",
       "      <th></th>\n",
       "    </tr>\n",
       "  </thead>\n",
       "  <tbody>\n",
       "    <tr>\n",
       "      <th>1966-04-01</th>\n",
       "      <td>39.26763</td>\n",
       "      <td>40.33999</td>\n",
       "      <td>1966-04-01</td>\n",
       "      <td>-1.07236</td>\n",
       "    </tr>\n",
       "    <tr>\n",
       "      <th>1966-07-01</th>\n",
       "      <td>39.62091</td>\n",
       "      <td>39.26763</td>\n",
       "      <td>1966-07-01</td>\n",
       "      <td>0.35328</td>\n",
       "    </tr>\n",
       "    <tr>\n",
       "      <th>1966-10-01</th>\n",
       "      <td>39.51977</td>\n",
       "      <td>39.62091</td>\n",
       "      <td>1966-10-01</td>\n",
       "      <td>-0.10114</td>\n",
       "    </tr>\n",
       "    <tr>\n",
       "      <th>1967-01-01</th>\n",
       "      <td>39.20383</td>\n",
       "      <td>39.51977</td>\n",
       "      <td>1967-01-01</td>\n",
       "      <td>-0.31594</td>\n",
       "    </tr>\n",
       "    <tr>\n",
       "      <th>1967-04-01</th>\n",
       "      <td>38.03292</td>\n",
       "      <td>39.20383</td>\n",
       "      <td>1967-04-01</td>\n",
       "      <td>-1.17091</td>\n",
       "    </tr>\n",
       "  </tbody>\n",
       "</table>\n",
       "</div>"
      ],
      "text/plain": [
       "               Value       lag       Date     diff\n",
       "Date                                              \n",
       "1966-04-01  39.26763  40.33999 1966-04-01 -1.07236\n",
       "1966-07-01  39.62091  39.26763 1966-07-01  0.35328\n",
       "1966-10-01  39.51977  39.62091 1966-10-01 -0.10114\n",
       "1967-01-01  39.20383  39.51977 1967-01-01 -0.31594\n",
       "1967-04-01  38.03292  39.20383 1967-04-01 -1.17091"
      ]
     },
     "execution_count": 9,
     "metadata": {},
     "output_type": "execute_result"
    }
   ],
   "source": [
    "debt.head()"
   ]
  },
  {
   "cell_type": "code",
   "execution_count": 10,
   "metadata": {},
   "outputs": [
    {
     "data": {
      "text/html": [
       "<div>\n",
       "<style scoped>\n",
       "    .dataframe tbody tr th:only-of-type {\n",
       "        vertical-align: middle;\n",
       "    }\n",
       "\n",
       "    .dataframe tbody tr th {\n",
       "        vertical-align: top;\n",
       "    }\n",
       "\n",
       "    .dataframe thead th {\n",
       "        text-align: right;\n",
       "    }\n",
       "</style>\n",
       "<table border=\"1\" class=\"dataframe\">\n",
       "  <thead>\n",
       "    <tr style=\"text-align: right;\">\n",
       "      <th></th>\n",
       "      <th>Unnamed: 0</th>\n",
       "      <th>Date</th>\n",
       "      <th>monthly_return_per</th>\n",
       "      <th>president</th>\n",
       "    </tr>\n",
       "  </thead>\n",
       "  <tbody>\n",
       "    <tr>\n",
       "      <th>0</th>\n",
       "      <td>0</td>\n",
       "      <td>1871-02-28</td>\n",
       "      <td>1.351351</td>\n",
       "      <td>Ulysses S. Grant</td>\n",
       "    </tr>\n",
       "    <tr>\n",
       "      <th>1</th>\n",
       "      <td>1</td>\n",
       "      <td>1871-03-31</td>\n",
       "      <td>2.444444</td>\n",
       "      <td>Ulysses S. Grant</td>\n",
       "    </tr>\n",
       "    <tr>\n",
       "      <th>2</th>\n",
       "      <td>2</td>\n",
       "      <td>1871-04-30</td>\n",
       "      <td>2.819957</td>\n",
       "      <td>Ulysses S. Grant</td>\n",
       "    </tr>\n",
       "    <tr>\n",
       "      <th>3</th>\n",
       "      <td>3</td>\n",
       "      <td>1871-05-31</td>\n",
       "      <td>2.531646</td>\n",
       "      <td>Ulysses S. Grant</td>\n",
       "    </tr>\n",
       "    <tr>\n",
       "      <th>4</th>\n",
       "      <td>4</td>\n",
       "      <td>1871-06-30</td>\n",
       "      <td>-0.823045</td>\n",
       "      <td>Ulysses S. Grant</td>\n",
       "    </tr>\n",
       "  </tbody>\n",
       "</table>\n",
       "</div>"
      ],
      "text/plain": [
       "   Unnamed: 0       Date  monthly_return_per         president\n",
       "0           0 1871-02-28            1.351351  Ulysses S. Grant\n",
       "1           1 1871-03-31            2.444444  Ulysses S. Grant\n",
       "2           2 1871-04-30            2.819957  Ulysses S. Grant\n",
       "3           3 1871-05-31            2.531646  Ulysses S. Grant\n",
       "4           4 1871-06-30           -0.823045  Ulysses S. Grant"
      ]
     },
     "execution_count": 10,
     "metadata": {},
     "output_type": "execute_result"
    }
   ],
   "source": [
    "date = ['Date']\n",
    "presidents1 = pd.read_csv('clean_sp.csv', parse_dates=date)\n",
    "presidents1.head()"
   ]
  },
  {
   "cell_type": "code",
   "execution_count": 11,
   "metadata": {},
   "outputs": [],
   "source": [
    "# presidents1['Date'] = presidents1.index"
   ]
  },
  {
   "cell_type": "code",
   "execution_count": 12,
   "metadata": {},
   "outputs": [
    {
     "data": {
      "text/plain": [
       "Timestamp('1871-06-30 00:00:00')"
      ]
     },
     "execution_count": 12,
     "metadata": {},
     "output_type": "execute_result"
    }
   ],
   "source": [
    "presidents1['Date'][4]"
   ]
  },
  {
   "cell_type": "code",
   "execution_count": 13,
   "metadata": {},
   "outputs": [],
   "source": [
    "presidents1['month'] = presidents1['Date'].dt.month\n",
    "presidents1['year'] = presidents1['Date'].dt.year\n",
    "presidents1['monthyear'] = presidents1['year'].map(str) + '/' + presidents1['month'].map(str)"
   ]
  },
  {
   "cell_type": "code",
   "execution_count": 14,
   "metadata": {},
   "outputs": [
    {
     "data": {
      "text/plain": [
       "pandas.core.series.Series"
      ]
     },
     "execution_count": 14,
     "metadata": {},
     "output_type": "execute_result"
    }
   ],
   "source": [
    "type(debt.Date)"
   ]
  },
  {
   "cell_type": "code",
   "execution_count": 18,
   "metadata": {},
   "outputs": [],
   "source": [
    "debt['Date'] = debt.index"
   ]
  },
  {
   "cell_type": "code",
   "execution_count": 16,
   "metadata": {},
   "outputs": [],
   "source": [
    "debt['month'] = debt['Date'].dt.month\n",
    "debt['year'] = debt['Date'].dt.year\n",
    "debt['monthyear'] = debt['year'].map(str) + '/' + debt['month'].map(str)"
   ]
  },
  {
   "cell_type": "code",
   "execution_count": 17,
   "metadata": {},
   "outputs": [
    {
     "ename": "NameError",
     "evalue": "name 'd' is not defined",
     "output_type": "error",
     "traceback": [
      "\u001b[0;31m---------------------------------------------------------------------------\u001b[0m",
      "\u001b[0;31mNameError\u001b[0m                                 Traceback (most recent call last)",
      "\u001b[0;32m<ipython-input-17-e983f374794d>\u001b[0m in \u001b[0;36m<module>\u001b[0;34m()\u001b[0m\n\u001b[0;32m----> 1\u001b[0;31m \u001b[0md\u001b[0m\u001b[0;34m\u001b[0m\u001b[0m\n\u001b[0m",
      "\u001b[0;31mNameError\u001b[0m: name 'd' is not defined"
     ]
    }
   ],
   "source": []
  },
  {
   "cell_type": "code",
   "execution_count": 20,
   "metadata": {},
   "outputs": [
    {
     "data": {
      "text/html": [
       "<div>\n",
       "<style scoped>\n",
       "    .dataframe tbody tr th:only-of-type {\n",
       "        vertical-align: middle;\n",
       "    }\n",
       "\n",
       "    .dataframe tbody tr th {\n",
       "        vertical-align: top;\n",
       "    }\n",
       "\n",
       "    .dataframe thead th {\n",
       "        text-align: right;\n",
       "    }\n",
       "</style>\n",
       "<table border=\"1\" class=\"dataframe\">\n",
       "  <thead>\n",
       "    <tr style=\"text-align: right;\">\n",
       "      <th></th>\n",
       "      <th>Value</th>\n",
       "      <th>lag</th>\n",
       "      <th>Date</th>\n",
       "      <th>diff</th>\n",
       "      <th>month</th>\n",
       "      <th>year</th>\n",
       "      <th>monthyear</th>\n",
       "    </tr>\n",
       "    <tr>\n",
       "      <th>Date</th>\n",
       "      <th></th>\n",
       "      <th></th>\n",
       "      <th></th>\n",
       "      <th></th>\n",
       "      <th></th>\n",
       "      <th></th>\n",
       "      <th></th>\n",
       "    </tr>\n",
       "  </thead>\n",
       "  <tbody>\n",
       "    <tr>\n",
       "      <th>1966-04-01</th>\n",
       "      <td>39.26763</td>\n",
       "      <td>40.33999</td>\n",
       "      <td>1966-04-01</td>\n",
       "      <td>-1.07236</td>\n",
       "      <td>4</td>\n",
       "      <td>1966</td>\n",
       "      <td>1966/4</td>\n",
       "    </tr>\n",
       "    <tr>\n",
       "      <th>1966-07-01</th>\n",
       "      <td>39.62091</td>\n",
       "      <td>39.26763</td>\n",
       "      <td>1966-07-01</td>\n",
       "      <td>0.35328</td>\n",
       "      <td>7</td>\n",
       "      <td>1966</td>\n",
       "      <td>1966/7</td>\n",
       "    </tr>\n",
       "    <tr>\n",
       "      <th>1966-10-01</th>\n",
       "      <td>39.51977</td>\n",
       "      <td>39.62091</td>\n",
       "      <td>1966-10-01</td>\n",
       "      <td>-0.10114</td>\n",
       "      <td>10</td>\n",
       "      <td>1966</td>\n",
       "      <td>1966/10</td>\n",
       "    </tr>\n",
       "    <tr>\n",
       "      <th>1967-01-01</th>\n",
       "      <td>39.20383</td>\n",
       "      <td>39.51977</td>\n",
       "      <td>1967-01-01</td>\n",
       "      <td>-0.31594</td>\n",
       "      <td>1</td>\n",
       "      <td>1967</td>\n",
       "      <td>1967/1</td>\n",
       "    </tr>\n",
       "    <tr>\n",
       "      <th>1967-04-01</th>\n",
       "      <td>38.03292</td>\n",
       "      <td>39.20383</td>\n",
       "      <td>1967-04-01</td>\n",
       "      <td>-1.17091</td>\n",
       "      <td>4</td>\n",
       "      <td>1967</td>\n",
       "      <td>1967/4</td>\n",
       "    </tr>\n",
       "    <tr>\n",
       "      <th>1967-07-01</th>\n",
       "      <td>38.82145</td>\n",
       "      <td>38.03292</td>\n",
       "      <td>1967-07-01</td>\n",
       "      <td>0.78853</td>\n",
       "      <td>7</td>\n",
       "      <td>1967</td>\n",
       "      <td>1967/7</td>\n",
       "    </tr>\n",
       "    <tr>\n",
       "      <th>1967-10-01</th>\n",
       "      <td>39.10231</td>\n",
       "      <td>38.82145</td>\n",
       "      <td>1967-10-01</td>\n",
       "      <td>0.28086</td>\n",
       "      <td>10</td>\n",
       "      <td>1967</td>\n",
       "      <td>1967/10</td>\n",
       "    </tr>\n",
       "    <tr>\n",
       "      <th>1968-01-01</th>\n",
       "      <td>38.42951</td>\n",
       "      <td>39.10231</td>\n",
       "      <td>1968-01-01</td>\n",
       "      <td>-0.67280</td>\n",
       "      <td>1</td>\n",
       "      <td>1968</td>\n",
       "      <td>1968/1</td>\n",
       "    </tr>\n",
       "    <tr>\n",
       "      <th>1968-04-01</th>\n",
       "      <td>36.96379</td>\n",
       "      <td>38.42951</td>\n",
       "      <td>1968-04-01</td>\n",
       "      <td>-1.46572</td>\n",
       "      <td>4</td>\n",
       "      <td>1968</td>\n",
       "      <td>1968/4</td>\n",
       "    </tr>\n",
       "    <tr>\n",
       "      <th>1968-07-01</th>\n",
       "      <td>37.30897</td>\n",
       "      <td>36.96379</td>\n",
       "      <td>1968-07-01</td>\n",
       "      <td>0.34518</td>\n",
       "      <td>7</td>\n",
       "      <td>1968</td>\n",
       "      <td>1968/7</td>\n",
       "    </tr>\n",
       "    <tr>\n",
       "      <th>1968-10-01</th>\n",
       "      <td>36.98532</td>\n",
       "      <td>37.30897</td>\n",
       "      <td>1968-10-01</td>\n",
       "      <td>-0.32365</td>\n",
       "      <td>10</td>\n",
       "      <td>1968</td>\n",
       "      <td>1968/10</td>\n",
       "    </tr>\n",
       "    <tr>\n",
       "      <th>1969-01-01</th>\n",
       "      <td>36.19577</td>\n",
       "      <td>36.98532</td>\n",
       "      <td>1969-01-01</td>\n",
       "      <td>-0.78955</td>\n",
       "      <td>1</td>\n",
       "      <td>1969</td>\n",
       "      <td>1969/1</td>\n",
       "    </tr>\n",
       "    <tr>\n",
       "      <th>1969-04-01</th>\n",
       "      <td>34.97403</td>\n",
       "      <td>36.19577</td>\n",
       "      <td>1969-04-01</td>\n",
       "      <td>-1.22174</td>\n",
       "      <td>4</td>\n",
       "      <td>1969</td>\n",
       "      <td>1969/4</td>\n",
       "    </tr>\n",
       "    <tr>\n",
       "      <th>1969-07-01</th>\n",
       "      <td>35.01946</td>\n",
       "      <td>34.97403</td>\n",
       "      <td>1969-07-01</td>\n",
       "      <td>0.04543</td>\n",
       "      <td>7</td>\n",
       "      <td>1969</td>\n",
       "      <td>1969/7</td>\n",
       "    </tr>\n",
       "    <tr>\n",
       "      <th>1969-10-01</th>\n",
       "      <td>35.46954</td>\n",
       "      <td>35.01946</td>\n",
       "      <td>1969-10-01</td>\n",
       "      <td>0.45008</td>\n",
       "      <td>10</td>\n",
       "      <td>1969</td>\n",
       "      <td>1969/10</td>\n",
       "    </tr>\n",
       "    <tr>\n",
       "      <th>1970-01-01</th>\n",
       "      <td>35.38879</td>\n",
       "      <td>35.46954</td>\n",
       "      <td>1970-01-01</td>\n",
       "      <td>-0.08075</td>\n",
       "      <td>1</td>\n",
       "      <td>1970</td>\n",
       "      <td>1970/1</td>\n",
       "    </tr>\n",
       "    <tr>\n",
       "      <th>1970-04-01</th>\n",
       "      <td>34.67329</td>\n",
       "      <td>35.38879</td>\n",
       "      <td>1970-04-01</td>\n",
       "      <td>-0.71550</td>\n",
       "      <td>4</td>\n",
       "      <td>1970</td>\n",
       "      <td>1970/4</td>\n",
       "    </tr>\n",
       "    <tr>\n",
       "      <th>1970-07-01</th>\n",
       "      <td>34.86717</td>\n",
       "      <td>34.67329</td>\n",
       "      <td>1970-07-01</td>\n",
       "      <td>0.19388</td>\n",
       "      <td>7</td>\n",
       "      <td>1970</td>\n",
       "      <td>1970/7</td>\n",
       "    </tr>\n",
       "    <tr>\n",
       "      <th>1970-10-01</th>\n",
       "      <td>35.74822</td>\n",
       "      <td>34.86717</td>\n",
       "      <td>1970-10-01</td>\n",
       "      <td>0.88105</td>\n",
       "      <td>10</td>\n",
       "      <td>1970</td>\n",
       "      <td>1970/10</td>\n",
       "    </tr>\n",
       "    <tr>\n",
       "      <th>1971-01-01</th>\n",
       "      <td>34.50345</td>\n",
       "      <td>35.74822</td>\n",
       "      <td>1971-01-01</td>\n",
       "      <td>-1.24477</td>\n",
       "      <td>1</td>\n",
       "      <td>1971</td>\n",
       "      <td>1971/1</td>\n",
       "    </tr>\n",
       "    <tr>\n",
       "      <th>1971-04-01</th>\n",
       "      <td>34.36089</td>\n",
       "      <td>34.50345</td>\n",
       "      <td>1971-04-01</td>\n",
       "      <td>-0.14256</td>\n",
       "      <td>4</td>\n",
       "      <td>1971</td>\n",
       "      <td>1971/4</td>\n",
       "    </tr>\n",
       "    <tr>\n",
       "      <th>1971-07-01</th>\n",
       "      <td>35.00694</td>\n",
       "      <td>34.36089</td>\n",
       "      <td>1971-07-01</td>\n",
       "      <td>0.64605</td>\n",
       "      <td>7</td>\n",
       "      <td>1971</td>\n",
       "      <td>1971/7</td>\n",
       "    </tr>\n",
       "    <tr>\n",
       "      <th>1971-10-01</th>\n",
       "      <td>35.63237</td>\n",
       "      <td>35.00694</td>\n",
       "      <td>1971-10-01</td>\n",
       "      <td>0.62543</td>\n",
       "      <td>10</td>\n",
       "      <td>1971</td>\n",
       "      <td>1971/10</td>\n",
       "    </tr>\n",
       "    <tr>\n",
       "      <th>1972-01-01</th>\n",
       "      <td>34.72622</td>\n",
       "      <td>35.63237</td>\n",
       "      <td>1972-01-01</td>\n",
       "      <td>-0.90615</td>\n",
       "      <td>1</td>\n",
       "      <td>1972</td>\n",
       "      <td>1972/1</td>\n",
       "    </tr>\n",
       "    <tr>\n",
       "      <th>1972-04-01</th>\n",
       "      <td>33.67383</td>\n",
       "      <td>34.72622</td>\n",
       "      <td>1972-04-01</td>\n",
       "      <td>-1.05239</td>\n",
       "      <td>4</td>\n",
       "      <td>1972</td>\n",
       "      <td>1972/4</td>\n",
       "    </tr>\n",
       "    <tr>\n",
       "      <th>1972-07-01</th>\n",
       "      <td>33.62447</td>\n",
       "      <td>33.67383</td>\n",
       "      <td>1972-07-01</td>\n",
       "      <td>-0.04936</td>\n",
       "      <td>7</td>\n",
       "      <td>1972</td>\n",
       "      <td>1972/7</td>\n",
       "    </tr>\n",
       "    <tr>\n",
       "      <th>1972-10-01</th>\n",
       "      <td>33.74758</td>\n",
       "      <td>33.62447</td>\n",
       "      <td>1972-10-01</td>\n",
       "      <td>0.12311</td>\n",
       "      <td>10</td>\n",
       "      <td>1972</td>\n",
       "      <td>1972/10</td>\n",
       "    </tr>\n",
       "    <tr>\n",
       "      <th>1973-01-01</th>\n",
       "      <td>33.29287</td>\n",
       "      <td>33.74758</td>\n",
       "      <td>1973-01-01</td>\n",
       "      <td>-0.45471</td>\n",
       "      <td>1</td>\n",
       "      <td>1973</td>\n",
       "      <td>1973/1</td>\n",
       "    </tr>\n",
       "    <tr>\n",
       "      <th>1973-04-01</th>\n",
       "      <td>32.34466</td>\n",
       "      <td>33.29287</td>\n",
       "      <td>1973-04-01</td>\n",
       "      <td>-0.94821</td>\n",
       "      <td>4</td>\n",
       "      <td>1973</td>\n",
       "      <td>1973/4</td>\n",
       "    </tr>\n",
       "    <tr>\n",
       "      <th>1973-07-01</th>\n",
       "      <td>32.12455</td>\n",
       "      <td>32.34466</td>\n",
       "      <td>1973-07-01</td>\n",
       "      <td>-0.22011</td>\n",
       "      <td>7</td>\n",
       "      <td>1973</td>\n",
       "      <td>1973/7</td>\n",
       "    </tr>\n",
       "    <tr>\n",
       "      <th>...</th>\n",
       "      <td>...</td>\n",
       "      <td>...</td>\n",
       "      <td>...</td>\n",
       "      <td>...</td>\n",
       "      <td>...</td>\n",
       "      <td>...</td>\n",
       "      <td>...</td>\n",
       "    </tr>\n",
       "    <tr>\n",
       "      <th>2012-01-01</th>\n",
       "      <td>97.42044</td>\n",
       "      <td>96.36931</td>\n",
       "      <td>2012-01-01</td>\n",
       "      <td>1.05113</td>\n",
       "      <td>1</td>\n",
       "      <td>2012</td>\n",
       "      <td>2012/1</td>\n",
       "    </tr>\n",
       "    <tr>\n",
       "      <th>2012-04-01</th>\n",
       "      <td>98.15989</td>\n",
       "      <td>97.42044</td>\n",
       "      <td>2012-04-01</td>\n",
       "      <td>0.73945</td>\n",
       "      <td>4</td>\n",
       "      <td>2012</td>\n",
       "      <td>2012/4</td>\n",
       "    </tr>\n",
       "    <tr>\n",
       "      <th>2012-07-01</th>\n",
       "      <td>98.82568</td>\n",
       "      <td>98.15989</td>\n",
       "      <td>2012-07-01</td>\n",
       "      <td>0.66579</td>\n",
       "      <td>7</td>\n",
       "      <td>2012</td>\n",
       "      <td>2012/7</td>\n",
       "    </tr>\n",
       "    <tr>\n",
       "      <th>2012-10-01</th>\n",
       "      <td>100.45154</td>\n",
       "      <td>98.82568</td>\n",
       "      <td>2012-10-01</td>\n",
       "      <td>1.62586</td>\n",
       "      <td>10</td>\n",
       "      <td>2012</td>\n",
       "      <td>2012/10</td>\n",
       "    </tr>\n",
       "    <tr>\n",
       "      <th>2013-01-01</th>\n",
       "      <td>101.21783</td>\n",
       "      <td>100.45154</td>\n",
       "      <td>2013-01-01</td>\n",
       "      <td>0.76629</td>\n",
       "      <td>1</td>\n",
       "      <td>2013</td>\n",
       "      <td>2013/1</td>\n",
       "    </tr>\n",
       "    <tr>\n",
       "      <th>2013-04-01</th>\n",
       "      <td>100.60340</td>\n",
       "      <td>101.21783</td>\n",
       "      <td>2013-04-01</td>\n",
       "      <td>-0.61443</td>\n",
       "      <td>4</td>\n",
       "      <td>2013</td>\n",
       "      <td>2013/4</td>\n",
       "    </tr>\n",
       "    <tr>\n",
       "      <th>2013-07-01</th>\n",
       "      <td>99.34376</td>\n",
       "      <td>100.60340</td>\n",
       "      <td>2013-07-01</td>\n",
       "      <td>-1.25964</td>\n",
       "      <td>7</td>\n",
       "      <td>2013</td>\n",
       "      <td>2013/7</td>\n",
       "    </tr>\n",
       "    <tr>\n",
       "      <th>2013-10-01</th>\n",
       "      <td>100.42722</td>\n",
       "      <td>99.34376</td>\n",
       "      <td>2013-10-01</td>\n",
       "      <td>1.08346</td>\n",
       "      <td>10</td>\n",
       "      <td>2013</td>\n",
       "      <td>2013/10</td>\n",
       "    </tr>\n",
       "    <tr>\n",
       "      <th>2014-01-01</th>\n",
       "      <td>102.90374</td>\n",
       "      <td>100.42722</td>\n",
       "      <td>2014-01-01</td>\n",
       "      <td>2.47652</td>\n",
       "      <td>1</td>\n",
       "      <td>2014</td>\n",
       "      <td>2014/1</td>\n",
       "    </tr>\n",
       "    <tr>\n",
       "      <th>2014-04-01</th>\n",
       "      <td>101.14552</td>\n",
       "      <td>102.90374</td>\n",
       "      <td>2014-04-01</td>\n",
       "      <td>-1.75822</td>\n",
       "      <td>4</td>\n",
       "      <td>2014</td>\n",
       "      <td>2014/4</td>\n",
       "    </tr>\n",
       "    <tr>\n",
       "      <th>2014-07-01</th>\n",
       "      <td>100.57790</td>\n",
       "      <td>101.14552</td>\n",
       "      <td>2014-07-01</td>\n",
       "      <td>-0.56762</td>\n",
       "      <td>7</td>\n",
       "      <td>2014</td>\n",
       "      <td>2014/7</td>\n",
       "    </tr>\n",
       "    <tr>\n",
       "      <th>2014-10-01</th>\n",
       "      <td>101.63324</td>\n",
       "      <td>100.57790</td>\n",
       "      <td>2014-10-01</td>\n",
       "      <td>1.05534</td>\n",
       "      <td>10</td>\n",
       "      <td>2014</td>\n",
       "      <td>2014/10</td>\n",
       "    </tr>\n",
       "    <tr>\n",
       "      <th>2015-01-01</th>\n",
       "      <td>100.93348</td>\n",
       "      <td>101.63324</td>\n",
       "      <td>2015-01-01</td>\n",
       "      <td>-0.69976</td>\n",
       "      <td>1</td>\n",
       "      <td>2015</td>\n",
       "      <td>2015/1</td>\n",
       "    </tr>\n",
       "    <tr>\n",
       "      <th>2015-04-01</th>\n",
       "      <td>99.63003</td>\n",
       "      <td>100.93348</td>\n",
       "      <td>2015-04-01</td>\n",
       "      <td>-1.30345</td>\n",
       "      <td>4</td>\n",
       "      <td>2015</td>\n",
       "      <td>2015/4</td>\n",
       "    </tr>\n",
       "    <tr>\n",
       "      <th>2015-07-01</th>\n",
       "      <td>98.94196</td>\n",
       "      <td>99.63003</td>\n",
       "      <td>2015-07-01</td>\n",
       "      <td>-0.68807</td>\n",
       "      <td>7</td>\n",
       "      <td>2015</td>\n",
       "      <td>2015/7</td>\n",
       "    </tr>\n",
       "    <tr>\n",
       "      <th>2015-10-01</th>\n",
       "      <td>103.11351</td>\n",
       "      <td>98.94196</td>\n",
       "      <td>2015-10-01</td>\n",
       "      <td>4.17155</td>\n",
       "      <td>10</td>\n",
       "      <td>2015</td>\n",
       "      <td>2015/10</td>\n",
       "    </tr>\n",
       "    <tr>\n",
       "      <th>2016-01-01</th>\n",
       "      <td>104.56276</td>\n",
       "      <td>103.11351</td>\n",
       "      <td>2016-01-01</td>\n",
       "      <td>1.44925</td>\n",
       "      <td>1</td>\n",
       "      <td>2016</td>\n",
       "      <td>2016/1</td>\n",
       "    </tr>\n",
       "    <tr>\n",
       "      <th>2016-04-01</th>\n",
       "      <td>103.99382</td>\n",
       "      <td>104.56276</td>\n",
       "      <td>2016-04-01</td>\n",
       "      <td>-0.56894</td>\n",
       "      <td>4</td>\n",
       "      <td>2016</td>\n",
       "      <td>2016/4</td>\n",
       "    </tr>\n",
       "    <tr>\n",
       "      <th>2016-07-01</th>\n",
       "      <td>104.07674</td>\n",
       "      <td>103.99382</td>\n",
       "      <td>2016-07-01</td>\n",
       "      <td>0.08292</td>\n",
       "      <td>7</td>\n",
       "      <td>2016</td>\n",
       "      <td>2016/7</td>\n",
       "    </tr>\n",
       "    <tr>\n",
       "      <th>2016-10-01</th>\n",
       "      <td>105.18613</td>\n",
       "      <td>104.07674</td>\n",
       "      <td>2016-10-01</td>\n",
       "      <td>1.10939</td>\n",
       "      <td>10</td>\n",
       "      <td>2016</td>\n",
       "      <td>2016/10</td>\n",
       "    </tr>\n",
       "    <tr>\n",
       "      <th>2017-01-01</th>\n",
       "      <td>103.41831</td>\n",
       "      <td>105.18613</td>\n",
       "      <td>2017-01-01</td>\n",
       "      <td>-1.76782</td>\n",
       "      <td>1</td>\n",
       "      <td>2017</td>\n",
       "      <td>2017/1</td>\n",
       "    </tr>\n",
       "    <tr>\n",
       "      <th>2017-04-01</th>\n",
       "      <td>102.52061</td>\n",
       "      <td>103.41831</td>\n",
       "      <td>2017-04-01</td>\n",
       "      <td>-0.89770</td>\n",
       "      <td>4</td>\n",
       "      <td>2017</td>\n",
       "      <td>2017/4</td>\n",
       "    </tr>\n",
       "    <tr>\n",
       "      <th>2017-07-01</th>\n",
       "      <td>103.22866</td>\n",
       "      <td>102.52061</td>\n",
       "      <td>2017-07-01</td>\n",
       "      <td>0.70805</td>\n",
       "      <td>7</td>\n",
       "      <td>2017</td>\n",
       "      <td>2017/7</td>\n",
       "    </tr>\n",
       "    <tr>\n",
       "      <th>2017-10-01</th>\n",
       "      <td>102.88087</td>\n",
       "      <td>103.22866</td>\n",
       "      <td>2017-10-01</td>\n",
       "      <td>-0.34779</td>\n",
       "      <td>10</td>\n",
       "      <td>2017</td>\n",
       "      <td>2017/10</td>\n",
       "    </tr>\n",
       "    <tr>\n",
       "      <th>2018-01-01</th>\n",
       "      <td>104.59493</td>\n",
       "      <td>102.88087</td>\n",
       "      <td>2018-01-01</td>\n",
       "      <td>1.71406</td>\n",
       "      <td>1</td>\n",
       "      <td>2018</td>\n",
       "      <td>2018/1</td>\n",
       "    </tr>\n",
       "    <tr>\n",
       "      <th>2018-04-01</th>\n",
       "      <td>103.33928</td>\n",
       "      <td>104.59493</td>\n",
       "      <td>2018-04-01</td>\n",
       "      <td>-1.25565</td>\n",
       "      <td>4</td>\n",
       "      <td>2018</td>\n",
       "      <td>2018/4</td>\n",
       "    </tr>\n",
       "    <tr>\n",
       "      <th>2018-07-01</th>\n",
       "      <td>103.69309</td>\n",
       "      <td>103.33928</td>\n",
       "      <td>2018-07-01</td>\n",
       "      <td>0.35381</td>\n",
       "      <td>7</td>\n",
       "      <td>2018</td>\n",
       "      <td>2018/7</td>\n",
       "    </tr>\n",
       "    <tr>\n",
       "      <th>2018-10-01</th>\n",
       "      <td>105.15026</td>\n",
       "      <td>103.69309</td>\n",
       "      <td>2018-10-01</td>\n",
       "      <td>1.45717</td>\n",
       "      <td>10</td>\n",
       "      <td>2018</td>\n",
       "      <td>2018/10</td>\n",
       "    </tr>\n",
       "    <tr>\n",
       "      <th>2019-01-01</th>\n",
       "      <td>104.40334</td>\n",
       "      <td>105.15026</td>\n",
       "      <td>2019-01-01</td>\n",
       "      <td>-0.74692</td>\n",
       "      <td>1</td>\n",
       "      <td>2019</td>\n",
       "      <td>2019/1</td>\n",
       "    </tr>\n",
       "    <tr>\n",
       "      <th>2019-04-01</th>\n",
       "      <td>103.20060</td>\n",
       "      <td>104.40334</td>\n",
       "      <td>2019-04-01</td>\n",
       "      <td>-1.20274</td>\n",
       "      <td>4</td>\n",
       "      <td>2019</td>\n",
       "      <td>2019/4</td>\n",
       "    </tr>\n",
       "  </tbody>\n",
       "</table>\n",
       "<p>213 rows × 7 columns</p>\n",
       "</div>"
      ],
      "text/plain": [
       "                Value        lag       Date     diff  month  year monthyear\n",
       "Date                                                                       \n",
       "1966-04-01   39.26763   40.33999 1966-04-01 -1.07236      4  1966    1966/4\n",
       "1966-07-01   39.62091   39.26763 1966-07-01  0.35328      7  1966    1966/7\n",
       "1966-10-01   39.51977   39.62091 1966-10-01 -0.10114     10  1966   1966/10\n",
       "1967-01-01   39.20383   39.51977 1967-01-01 -0.31594      1  1967    1967/1\n",
       "1967-04-01   38.03292   39.20383 1967-04-01 -1.17091      4  1967    1967/4\n",
       "1967-07-01   38.82145   38.03292 1967-07-01  0.78853      7  1967    1967/7\n",
       "1967-10-01   39.10231   38.82145 1967-10-01  0.28086     10  1967   1967/10\n",
       "1968-01-01   38.42951   39.10231 1968-01-01 -0.67280      1  1968    1968/1\n",
       "1968-04-01   36.96379   38.42951 1968-04-01 -1.46572      4  1968    1968/4\n",
       "1968-07-01   37.30897   36.96379 1968-07-01  0.34518      7  1968    1968/7\n",
       "1968-10-01   36.98532   37.30897 1968-10-01 -0.32365     10  1968   1968/10\n",
       "1969-01-01   36.19577   36.98532 1969-01-01 -0.78955      1  1969    1969/1\n",
       "1969-04-01   34.97403   36.19577 1969-04-01 -1.22174      4  1969    1969/4\n",
       "1969-07-01   35.01946   34.97403 1969-07-01  0.04543      7  1969    1969/7\n",
       "1969-10-01   35.46954   35.01946 1969-10-01  0.45008     10  1969   1969/10\n",
       "1970-01-01   35.38879   35.46954 1970-01-01 -0.08075      1  1970    1970/1\n",
       "1970-04-01   34.67329   35.38879 1970-04-01 -0.71550      4  1970    1970/4\n",
       "1970-07-01   34.86717   34.67329 1970-07-01  0.19388      7  1970    1970/7\n",
       "1970-10-01   35.74822   34.86717 1970-10-01  0.88105     10  1970   1970/10\n",
       "1971-01-01   34.50345   35.74822 1971-01-01 -1.24477      1  1971    1971/1\n",
       "1971-04-01   34.36089   34.50345 1971-04-01 -0.14256      4  1971    1971/4\n",
       "1971-07-01   35.00694   34.36089 1971-07-01  0.64605      7  1971    1971/7\n",
       "1971-10-01   35.63237   35.00694 1971-10-01  0.62543     10  1971   1971/10\n",
       "1972-01-01   34.72622   35.63237 1972-01-01 -0.90615      1  1972    1972/1\n",
       "1972-04-01   33.67383   34.72622 1972-04-01 -1.05239      4  1972    1972/4\n",
       "1972-07-01   33.62447   33.67383 1972-07-01 -0.04936      7  1972    1972/7\n",
       "1972-10-01   33.74758   33.62447 1972-10-01  0.12311     10  1972   1972/10\n",
       "1973-01-01   33.29287   33.74758 1973-01-01 -0.45471      1  1973    1973/1\n",
       "1973-04-01   32.34466   33.29287 1973-04-01 -0.94821      4  1973    1973/4\n",
       "1973-07-01   32.12455   32.34466 1973-07-01 -0.22011      7  1973    1973/7\n",
       "...               ...        ...        ...      ...    ...   ...       ...\n",
       "2012-01-01   97.42044   96.36931 2012-01-01  1.05113      1  2012    2012/1\n",
       "2012-04-01   98.15989   97.42044 2012-04-01  0.73945      4  2012    2012/4\n",
       "2012-07-01   98.82568   98.15989 2012-07-01  0.66579      7  2012    2012/7\n",
       "2012-10-01  100.45154   98.82568 2012-10-01  1.62586     10  2012   2012/10\n",
       "2013-01-01  101.21783  100.45154 2013-01-01  0.76629      1  2013    2013/1\n",
       "2013-04-01  100.60340  101.21783 2013-04-01 -0.61443      4  2013    2013/4\n",
       "2013-07-01   99.34376  100.60340 2013-07-01 -1.25964      7  2013    2013/7\n",
       "2013-10-01  100.42722   99.34376 2013-10-01  1.08346     10  2013   2013/10\n",
       "2014-01-01  102.90374  100.42722 2014-01-01  2.47652      1  2014    2014/1\n",
       "2014-04-01  101.14552  102.90374 2014-04-01 -1.75822      4  2014    2014/4\n",
       "2014-07-01  100.57790  101.14552 2014-07-01 -0.56762      7  2014    2014/7\n",
       "2014-10-01  101.63324  100.57790 2014-10-01  1.05534     10  2014   2014/10\n",
       "2015-01-01  100.93348  101.63324 2015-01-01 -0.69976      1  2015    2015/1\n",
       "2015-04-01   99.63003  100.93348 2015-04-01 -1.30345      4  2015    2015/4\n",
       "2015-07-01   98.94196   99.63003 2015-07-01 -0.68807      7  2015    2015/7\n",
       "2015-10-01  103.11351   98.94196 2015-10-01  4.17155     10  2015   2015/10\n",
       "2016-01-01  104.56276  103.11351 2016-01-01  1.44925      1  2016    2016/1\n",
       "2016-04-01  103.99382  104.56276 2016-04-01 -0.56894      4  2016    2016/4\n",
       "2016-07-01  104.07674  103.99382 2016-07-01  0.08292      7  2016    2016/7\n",
       "2016-10-01  105.18613  104.07674 2016-10-01  1.10939     10  2016   2016/10\n",
       "2017-01-01  103.41831  105.18613 2017-01-01 -1.76782      1  2017    2017/1\n",
       "2017-04-01  102.52061  103.41831 2017-04-01 -0.89770      4  2017    2017/4\n",
       "2017-07-01  103.22866  102.52061 2017-07-01  0.70805      7  2017    2017/7\n",
       "2017-10-01  102.88087  103.22866 2017-10-01 -0.34779     10  2017   2017/10\n",
       "2018-01-01  104.59493  102.88087 2018-01-01  1.71406      1  2018    2018/1\n",
       "2018-04-01  103.33928  104.59493 2018-04-01 -1.25565      4  2018    2018/4\n",
       "2018-07-01  103.69309  103.33928 2018-07-01  0.35381      7  2018    2018/7\n",
       "2018-10-01  105.15026  103.69309 2018-10-01  1.45717     10  2018   2018/10\n",
       "2019-01-01  104.40334  105.15026 2019-01-01 -0.74692      1  2019    2019/1\n",
       "2019-04-01  103.20060  104.40334 2019-04-01 -1.20274      4  2019    2019/4\n",
       "\n",
       "[213 rows x 7 columns]"
      ]
     },
     "execution_count": 20,
     "metadata": {},
     "output_type": "execute_result"
    }
   ],
   "source": [
    "debt"
   ]
  },
  {
   "cell_type": "code",
   "execution_count": 21,
   "metadata": {},
   "outputs": [],
   "source": [
    "df_debt = debt.merge(presidents1, on= 'monthyear' , how='left')\n",
    "debt_p = df_debt[['Date_x', 'Value', 'diff','president']]\n",
    "debt_p['president'] = debt_p['president'].fillna(method = 'backfill')\n",
    "debt_p['president'].fillna('Donald Trump' , inplace= True)"
   ]
  },
  {
   "cell_type": "code",
   "execution_count": 22,
   "metadata": {},
   "outputs": [
    {
     "data": {
      "text/html": [
       "<div>\n",
       "<style scoped>\n",
       "    .dataframe tbody tr th:only-of-type {\n",
       "        vertical-align: middle;\n",
       "    }\n",
       "\n",
       "    .dataframe tbody tr th {\n",
       "        vertical-align: top;\n",
       "    }\n",
       "\n",
       "    .dataframe thead th {\n",
       "        text-align: right;\n",
       "    }\n",
       "</style>\n",
       "<table border=\"1\" class=\"dataframe\">\n",
       "  <thead>\n",
       "    <tr style=\"text-align: right;\">\n",
       "      <th></th>\n",
       "      <th>Date_x</th>\n",
       "      <th>Value</th>\n",
       "      <th>diff</th>\n",
       "      <th>president</th>\n",
       "    </tr>\n",
       "  </thead>\n",
       "  <tbody>\n",
       "    <tr>\n",
       "      <th>0</th>\n",
       "      <td>1966-04-01</td>\n",
       "      <td>39.26763</td>\n",
       "      <td>-1.07236</td>\n",
       "      <td>Lyndon B. Johnson</td>\n",
       "    </tr>\n",
       "    <tr>\n",
       "      <th>1</th>\n",
       "      <td>1966-07-01</td>\n",
       "      <td>39.62091</td>\n",
       "      <td>0.35328</td>\n",
       "      <td>Lyndon B. Johnson</td>\n",
       "    </tr>\n",
       "    <tr>\n",
       "      <th>2</th>\n",
       "      <td>1966-10-01</td>\n",
       "      <td>39.51977</td>\n",
       "      <td>-0.10114</td>\n",
       "      <td>Lyndon B. Johnson</td>\n",
       "    </tr>\n",
       "    <tr>\n",
       "      <th>3</th>\n",
       "      <td>1967-01-01</td>\n",
       "      <td>39.20383</td>\n",
       "      <td>-0.31594</td>\n",
       "      <td>Lyndon B. Johnson</td>\n",
       "    </tr>\n",
       "    <tr>\n",
       "      <th>4</th>\n",
       "      <td>1967-04-01</td>\n",
       "      <td>38.03292</td>\n",
       "      <td>-1.17091</td>\n",
       "      <td>Lyndon B. Johnson</td>\n",
       "    </tr>\n",
       "  </tbody>\n",
       "</table>\n",
       "</div>"
      ],
      "text/plain": [
       "      Date_x     Value     diff          president\n",
       "0 1966-04-01  39.26763 -1.07236  Lyndon B. Johnson\n",
       "1 1966-07-01  39.62091  0.35328  Lyndon B. Johnson\n",
       "2 1966-10-01  39.51977 -0.10114  Lyndon B. Johnson\n",
       "3 1967-01-01  39.20383 -0.31594  Lyndon B. Johnson\n",
       "4 1967-04-01  38.03292 -1.17091  Lyndon B. Johnson"
      ]
     },
     "execution_count": 22,
     "metadata": {},
     "output_type": "execute_result"
    }
   ],
   "source": [
    "debt_p.head()"
   ]
  },
  {
   "cell_type": "markdown",
   "metadata": {},
   "source": [
    "# creating new columns for Trump\n",
    "   where 0 = all other presidents and 1 = Trump\n"
   ]
  },
  {
   "cell_type": "code",
   "execution_count": 23,
   "metadata": {},
   "outputs": [],
   "source": [
    "debt_p['Trump'] = 0"
   ]
  },
  {
   "cell_type": "code",
   "execution_count": 24,
   "metadata": {},
   "outputs": [],
   "source": [
    "debt_p[debt_p.president == 'Donald Trump'] = debt_p[debt_p.president == 'Donald Trump'].assign(Trump = 1)"
   ]
  },
  {
   "cell_type": "code",
   "execution_count": 25,
   "metadata": {},
   "outputs": [],
   "source": [
    "group1 = debt_p[debt_p.Trump == 1]\n",
    "group2 = debt_p[debt_p.Trump == 0] # note group2 is all other presidents"
   ]
  },
  {
   "cell_type": "code",
   "execution_count": 26,
   "metadata": {},
   "outputs": [
    {
     "data": {
      "text/html": [
       "<div>\n",
       "<style scoped>\n",
       "    .dataframe tbody tr th:only-of-type {\n",
       "        vertical-align: middle;\n",
       "    }\n",
       "\n",
       "    .dataframe tbody tr th {\n",
       "        vertical-align: top;\n",
       "    }\n",
       "\n",
       "    .dataframe thead th {\n",
       "        text-align: right;\n",
       "    }\n",
       "</style>\n",
       "<table border=\"1\" class=\"dataframe\">\n",
       "  <thead>\n",
       "    <tr style=\"text-align: right;\">\n",
       "      <th></th>\n",
       "      <th>Date_x</th>\n",
       "      <th>Value</th>\n",
       "      <th>diff</th>\n",
       "      <th>president</th>\n",
       "      <th>Trump</th>\n",
       "    </tr>\n",
       "  </thead>\n",
       "  <tbody>\n",
       "    <tr>\n",
       "      <th>0</th>\n",
       "      <td>1966-04-01</td>\n",
       "      <td>39.26763</td>\n",
       "      <td>-1.07236</td>\n",
       "      <td>Lyndon B. Johnson</td>\n",
       "      <td>0</td>\n",
       "    </tr>\n",
       "    <tr>\n",
       "      <th>1</th>\n",
       "      <td>1966-07-01</td>\n",
       "      <td>39.62091</td>\n",
       "      <td>0.35328</td>\n",
       "      <td>Lyndon B. Johnson</td>\n",
       "      <td>0</td>\n",
       "    </tr>\n",
       "    <tr>\n",
       "      <th>2</th>\n",
       "      <td>1966-10-01</td>\n",
       "      <td>39.51977</td>\n",
       "      <td>-0.10114</td>\n",
       "      <td>Lyndon B. Johnson</td>\n",
       "      <td>0</td>\n",
       "    </tr>\n",
       "    <tr>\n",
       "      <th>3</th>\n",
       "      <td>1967-01-01</td>\n",
       "      <td>39.20383</td>\n",
       "      <td>-0.31594</td>\n",
       "      <td>Lyndon B. Johnson</td>\n",
       "      <td>0</td>\n",
       "    </tr>\n",
       "    <tr>\n",
       "      <th>4</th>\n",
       "      <td>1967-04-01</td>\n",
       "      <td>38.03292</td>\n",
       "      <td>-1.17091</td>\n",
       "      <td>Lyndon B. Johnson</td>\n",
       "      <td>0</td>\n",
       "    </tr>\n",
       "  </tbody>\n",
       "</table>\n",
       "</div>"
      ],
      "text/plain": [
       "      Date_x     Value     diff          president  Trump\n",
       "0 1966-04-01  39.26763 -1.07236  Lyndon B. Johnson      0\n",
       "1 1966-07-01  39.62091  0.35328  Lyndon B. Johnson      0\n",
       "2 1966-10-01  39.51977 -0.10114  Lyndon B. Johnson      0\n",
       "3 1967-01-01  39.20383 -0.31594  Lyndon B. Johnson      0\n",
       "4 1967-04-01  38.03292 -1.17091  Lyndon B. Johnson      0"
      ]
     },
     "execution_count": 26,
     "metadata": {},
     "output_type": "execute_result"
    }
   ],
   "source": [
    "debt_p.head()"
   ]
  },
  {
   "cell_type": "code",
   "execution_count": 27,
   "metadata": {},
   "outputs": [
    {
     "data": {
      "text/plain": [
       "array([[<matplotlib.axes._subplots.AxesSubplot object at 0x1c16e50f60>,\n",
       "        <matplotlib.axes._subplots.AxesSubplot object at 0x1c17c927b8>],\n",
       "       [<matplotlib.axes._subplots.AxesSubplot object at 0x1c17cb9d30>,\n",
       "        <matplotlib.axes._subplots.AxesSubplot object at 0x1c17ce72e8>]],\n",
       "      dtype=object)"
      ]
     },
     "execution_count": 27,
     "metadata": {},
     "output_type": "execute_result"
    },
    {
     "data": {
      "image/png": "[encoded data removed]",
      "text/plain": [
       "<Figure size 432x288 with 4 Axes>"
      ]
     },
     "metadata": {
      "needs_background": "light"
     },
     "output_type": "display_data"
    }
   ],
   "source": [
    "debt_p.hist()"
   ]
  },
  {
   "cell_type": "code",
   "execution_count": 29,
   "metadata": {
    "scrolled": true
   },
   "outputs": [
    {
     "data": {
      "text/plain": [
       "<matplotlib.axes._subplots.AxesSubplot at 0x1c17e7b668>"
      ]
     },
     "execution_count": 29,
     "metadata": {},
     "output_type": "execute_result"
    },
    {
     "data": {
      "image/png": "[encoded data removed]",
      "text/plain": [
       "<Figure size 432x288 with 1 Axes>"
      ]
     },
     "metadata": {
      "needs_background": "light"
     },
     "output_type": "display_data"
    }
   ],
   "source": [
    "plt.figure\n",
    "debt_p.boxplot(column=['diff'], by = 'Trump')"
   ]
  },
  {
   "cell_type": "markdown",
   "metadata": {},
   "source": [
    "# T-Test"
   ]
  },
  {
   "cell_type": "code",
   "execution_count": 30,
   "metadata": {},
   "outputs": [
    {
     "data": {
      "text/plain": [
       "(-0.9357147625199149, 0.35048975101582514, 211.0)"
      ]
     },
     "execution_count": 30,
     "metadata": {},
     "output_type": "execute_result"
    }
   ],
   "source": [
    "ttest_ind(group1['diff'], group2['diff'] , alternative = 'two-sided', value=0)"
   ]
  },
  {
   "cell_type": "markdown",
   "metadata": {},
   "source": [
    "# Welch T-Test"
   ]
  },
  {
   "cell_type": "code",
   "execution_count": 31,
   "metadata": {},
   "outputs": [
    {
     "data": {
      "text/plain": [
       "Ttest_indResult(statistic=-0.8699680785639797, pvalue=0.40790768309325953)"
      ]
     },
     "execution_count": 31,
     "metadata": {},
     "output_type": "execute_result"
    }
   ],
   "source": [
    "stats.ttest_ind(group1['diff'], group2['diff'], equal_var= False)"
   ]
  },
  {
   "cell_type": "code",
   "execution_count": null,
   "metadata": {},
   "outputs": [],
   "source": [
    "#note = ttest = -0.936\n",
    "#p-value = .35% thus there is a 35% chance that this is pure luck"
   ]
  },
  {
   "cell_type": "code",
   "execution_count": null,
   "metadata": {},
   "outputs": [],
   "source": [
    "#note divide p-value by 2 since its two sided."
   ]
  },
  {
   "cell_type": "code",
   "execution_count": null,
   "metadata": {},
   "outputs": [],
   "source": []
  },
  {
   "cell_type": "code",
   "execution_count": 32,
   "metadata": {},
   "outputs": [
    {
     "data": {
      "text/html": [
       "<div>\n",
       "<style scoped>\n",
       "    .dataframe tbody tr th:only-of-type {\n",
       "        vertical-align: middle;\n",
       "    }\n",
       "\n",
       "    .dataframe tbody tr th {\n",
       "        vertical-align: top;\n",
       "    }\n",
       "\n",
       "    .dataframe thead th {\n",
       "        text-align: right;\n",
       "    }\n",
       "</style>\n",
       "<table border=\"1\" class=\"dataframe\">\n",
       "  <thead>\n",
       "    <tr style=\"text-align: right;\">\n",
       "      <th></th>\n",
       "      <th>Value</th>\n",
       "      <th>diff</th>\n",
       "      <th>Trump</th>\n",
       "    </tr>\n",
       "  </thead>\n",
       "  <tbody>\n",
       "    <tr>\n",
       "      <th>count</th>\n",
       "      <td>213.000000</td>\n",
       "      <td>213.000000</td>\n",
       "      <td>213.000000</td>\n",
       "    </tr>\n",
       "    <tr>\n",
       "      <th>mean</th>\n",
       "      <td>57.458717</td>\n",
       "      <td>0.295120</td>\n",
       "      <td>0.042254</td>\n",
       "    </tr>\n",
       "    <tr>\n",
       "      <th>std</th>\n",
       "      <td>23.450910</td>\n",
       "      <td>1.045774</td>\n",
       "      <td>0.201641</td>\n",
       "    </tr>\n",
       "    <tr>\n",
       "      <th>min</th>\n",
       "      <td>30.603330</td>\n",
       "      <td>-2.232300</td>\n",
       "      <td>0.000000</td>\n",
       "    </tr>\n",
       "    <tr>\n",
       "      <th>25%</th>\n",
       "      <td>35.632370</td>\n",
       "      <td>-0.323650</td>\n",
       "      <td>0.000000</td>\n",
       "    </tr>\n",
       "    <tr>\n",
       "      <th>50%</th>\n",
       "      <td>56.036130</td>\n",
       "      <td>0.250300</td>\n",
       "      <td>0.000000</td>\n",
       "    </tr>\n",
       "    <tr>\n",
       "      <th>75%</th>\n",
       "      <td>64.307090</td>\n",
       "      <td>0.768900</td>\n",
       "      <td>0.000000</td>\n",
       "    </tr>\n",
       "    <tr>\n",
       "      <th>max</th>\n",
       "      <td>105.186130</td>\n",
       "      <td>5.916010</td>\n",
       "      <td>1.000000</td>\n",
       "    </tr>\n",
       "  </tbody>\n",
       "</table>\n",
       "</div>"
      ],
      "text/plain": [
       "            Value        diff       Trump\n",
       "count  213.000000  213.000000  213.000000\n",
       "mean    57.458717    0.295120    0.042254\n",
       "std     23.450910    1.045774    0.201641\n",
       "min     30.603330   -2.232300    0.000000\n",
       "25%     35.632370   -0.323650    0.000000\n",
       "50%     56.036130    0.250300    0.000000\n",
       "75%     64.307090    0.768900    0.000000\n",
       "max    105.186130    5.916010    1.000000"
      ]
     },
     "execution_count": 32,
     "metadata": {},
     "output_type": "execute_result"
    }
   ],
   "source": [
    "debt_p.describe()"
   ]
  },
  {
   "cell_type": "code",
   "execution_count": 33,
   "metadata": {},
   "outputs": [
    {
     "data": {
      "text/plain": [
       "array([[<matplotlib.axes._subplots.AxesSubplot object at 0x1c17f56a90>,\n",
       "        <matplotlib.axes._subplots.AxesSubplot object at 0x1c18006080>],\n",
       "       [<matplotlib.axes._subplots.AxesSubplot object at 0x1c1802b5f8>,\n",
       "        <matplotlib.axes._subplots.AxesSubplot object at 0x1c18055b70>],\n",
       "       [<matplotlib.axes._subplots.AxesSubplot object at 0x1c18087128>,\n",
       "        <matplotlib.axes._subplots.AxesSubplot object at 0x1c180ad6a0>]],\n",
       "      dtype=object)"
      ]
     },
     "execution_count": 33,
     "metadata": {},
     "output_type": "execute_result"
    },
    {
     "data": {
      "image/png": "[encoded data removed]",
      "text/plain": [
       "<Figure size 432x288 with 6 Axes>"
      ]
     },
     "metadata": {
      "needs_background": "light"
     },
     "output_type": "display_data"
    }
   ],
   "source": [
    "debt.hist()"
   ]
  },
  {
   "cell_type": "code",
   "execution_count": 34,
   "metadata": {},
   "outputs": [
    {
     "data": {
      "text/plain": [
       "<matplotlib.axes._subplots.AxesSubplot at 0x1c181e7e80>"
      ]
     },
     "execution_count": 34,
     "metadata": {},
     "output_type": "execute_result"
    },
    {
     "data": {
      "image/png": "[encoded data removed]",
      "text/plain": [
       "<Figure size 432x288 with 1 Axes>"
      ]
     },
     "metadata": {
      "needs_background": "light"
     },
     "output_type": "display_data"
    }
   ],
   "source": [
    "debt['diff'].plot()"
   ]
  },
  {
   "cell_type": "code",
   "execution_count": 35,
   "metadata": {},
   "outputs": [
    {
     "data": {
      "text/plain": [
       "<matplotlib.axes._subplots.AxesSubplot at 0x1c18190668>"
      ]
     },
     "execution_count": 35,
     "metadata": {},
     "output_type": "execute_result"
    },
    {
     "data": {
      "image/png": "[encoded data removed]",
      "text/plain": [
       "<Figure size 432x288 with 1 Axes>"
      ]
     },
     "metadata": {
      "needs_background": "light"
     },
     "output_type": "display_data"
    }
   ],
   "source": [
    "debt['diff'].hist(density=True)"
   ]
  },
  {
   "cell_type": "code",
   "execution_count": null,
   "metadata": {},
   "outputs": [],
   "source": []
  },
  {
   "cell_type": "code",
   "execution_count": null,
   "metadata": {},
   "outputs": [],
   "source": []
  },
  {
   "cell_type": "code",
   "execution_count": null,
   "metadata": {},
   "outputs": [],
   "source": [
    "# note that there is a median percentile of 50%"
   ]
  },
  {
   "cell_type": "code",
   "execution_count": 36,
   "metadata": {},
   "outputs": [],
   "source": [
    "#checking above median Value and below median Value in diff\n",
    "low_test = debt_p[debt_p['diff'] < 0.25]\n",
    "high_test = debt_p[debt_p['diff'] >= 0.25]"
   ]
  },
  {
   "cell_type": "markdown",
   "metadata": {},
   "source": [
    "#Normal T-test"
   ]
  },
  {
   "cell_type": "code",
   "execution_count": 37,
   "metadata": {},
   "outputs": [
    {
     "data": {
      "text/plain": [
       "(14.684939240414053, 4.216752722723922e-34, 211.0)"
      ]
     },
     "execution_count": 37,
     "metadata": {},
     "output_type": "execute_result"
    }
   ],
   "source": [
    "ttest_ind(high_test['diff'], low_test['diff'], alternative='two-sided', value=0)"
   ]
  },
  {
   "cell_type": "markdown",
   "metadata": {},
   "source": [
    "#Welch T-test"
   ]
  },
  {
   "cell_type": "code",
   "execution_count": 38,
   "metadata": {},
   "outputs": [
    {
     "data": {
      "text/plain": [
       "Ttest_indResult(statistic=14.720491265118273, pvalue=4.741262638135974e-32)"
      ]
     },
     "execution_count": 38,
     "metadata": {},
     "output_type": "execute_result"
    }
   ],
   "source": [
    "stats.ttest_ind(high_test['diff'] , low_test['diff'] , equal_var = False)"
   ]
  },
  {
   "cell_type": "code",
   "execution_count": 39,
   "metadata": {},
   "outputs": [
    {
     "data": {
      "text/html": [
       "<div>\n",
       "<style scoped>\n",
       "    .dataframe tbody tr th:only-of-type {\n",
       "        vertical-align: middle;\n",
       "    }\n",
       "\n",
       "    .dataframe tbody tr th {\n",
       "        vertical-align: top;\n",
       "    }\n",
       "\n",
       "    .dataframe thead th {\n",
       "        text-align: right;\n",
       "    }\n",
       "</style>\n",
       "<table border=\"1\" class=\"dataframe\">\n",
       "  <thead>\n",
       "    <tr style=\"text-align: right;\">\n",
       "      <th></th>\n",
       "      <th>Date_x</th>\n",
       "      <th>Value</th>\n",
       "      <th>diff</th>\n",
       "      <th>president</th>\n",
       "      <th>Trump</th>\n",
       "    </tr>\n",
       "  </thead>\n",
       "  <tbody>\n",
       "    <tr>\n",
       "      <th>0</th>\n",
       "      <td>1966-04-01</td>\n",
       "      <td>39.26763</td>\n",
       "      <td>-1.07236</td>\n",
       "      <td>Lyndon B. Johnson</td>\n",
       "      <td>0</td>\n",
       "    </tr>\n",
       "    <tr>\n",
       "      <th>1</th>\n",
       "      <td>1966-07-01</td>\n",
       "      <td>39.62091</td>\n",
       "      <td>0.35328</td>\n",
       "      <td>Lyndon B. Johnson</td>\n",
       "      <td>0</td>\n",
       "    </tr>\n",
       "    <tr>\n",
       "      <th>2</th>\n",
       "      <td>1966-10-01</td>\n",
       "      <td>39.51977</td>\n",
       "      <td>-0.10114</td>\n",
       "      <td>Lyndon B. Johnson</td>\n",
       "      <td>0</td>\n",
       "    </tr>\n",
       "    <tr>\n",
       "      <th>3</th>\n",
       "      <td>1967-01-01</td>\n",
       "      <td>39.20383</td>\n",
       "      <td>-0.31594</td>\n",
       "      <td>Lyndon B. Johnson</td>\n",
       "      <td>0</td>\n",
       "    </tr>\n",
       "    <tr>\n",
       "      <th>4</th>\n",
       "      <td>1967-04-01</td>\n",
       "      <td>38.03292</td>\n",
       "      <td>-1.17091</td>\n",
       "      <td>Lyndon B. Johnson</td>\n",
       "      <td>0</td>\n",
       "    </tr>\n",
       "  </tbody>\n",
       "</table>\n",
       "</div>"
      ],
      "text/plain": [
       "      Date_x     Value     diff          president  Trump\n",
       "0 1966-04-01  39.26763 -1.07236  Lyndon B. Johnson      0\n",
       "1 1966-07-01  39.62091  0.35328  Lyndon B. Johnson      0\n",
       "2 1966-10-01  39.51977 -0.10114  Lyndon B. Johnson      0\n",
       "3 1967-01-01  39.20383 -0.31594  Lyndon B. Johnson      0\n",
       "4 1967-04-01  38.03292 -1.17091  Lyndon B. Johnson      0"
      ]
     },
     "execution_count": 39,
     "metadata": {},
     "output_type": "execute_result"
    }
   ],
   "source": [
    "debt_p.head()"
   ]
  },
  {
   "cell_type": "code",
   "execution_count": 40,
   "metadata": {},
   "outputs": [],
   "source": [
    "DT =debt_p.loc[debt_p['president'] == 'Donald Trump']"
   ]
  },
  {
   "cell_type": "markdown",
   "metadata": {},
   "source": [
    "# Mean & STD OF Donald Trump's Debt"
   ]
  },
  {
   "cell_type": "code",
   "execution_count": 41,
   "metadata": {},
   "outputs": [
    {
     "data": {
      "text/plain": [
       "-0.024190000000001217"
      ]
     },
     "execution_count": 41,
     "metadata": {},
     "output_type": "execute_result"
    }
   ],
   "source": [
    "DT['diff'].mean()"
   ]
  },
  {
   "cell_type": "code",
   "execution_count": 42,
   "metadata": {},
   "outputs": [
    {
     "data": {
      "text/plain": [
       "1.1286357415481783"
      ]
     },
     "execution_count": 42,
     "metadata": {},
     "output_type": "execute_result"
    }
   ],
   "source": [
    "DT['diff'].std()"
   ]
  },
  {
   "cell_type": "code",
   "execution_count": 43,
   "metadata": {},
   "outputs": [
    {
     "data": {
      "text/plain": [
       "<matplotlib.axes._subplots.AxesSubplot at 0x1c183c2240>"
      ]
     },
     "execution_count": 43,
     "metadata": {},
     "output_type": "execute_result"
    },
    {
     "data": {
      "image/png": "[encoded data removed]",
      "text/plain": [
       "<Figure size 432x288 with 1 Axes>"
      ]
     },
     "metadata": {
      "needs_background": "light"
     },
     "output_type": "display_data"
    }
   ],
   "source": [
    "DT['diff'].hist(density= True)"
   ]
  },
  {
   "cell_type": "code",
   "execution_count": 44,
   "metadata": {},
   "outputs": [
    {
     "data": {
      "text/plain": [
       "<matplotlib.axes._subplots.AxesSubplot at 0x1c18480470>"
      ]
     },
     "execution_count": 44,
     "metadata": {},
     "output_type": "execute_result"
    },
    {
     "data": {
      "image/png": "[encoded data removed]",
      "text/plain": [
       "<Figure size 432x288 with 1 Axes>"
      ]
     },
     "metadata": {
      "needs_background": "light"
     },
     "output_type": "display_data"
    }
   ],
   "source": [
    "DT['Value'].hist()"
   ]
  },
  {
   "cell_type": "code",
   "execution_count": null,
   "metadata": {},
   "outputs": [],
   "source": []
  },
  {
   "cell_type": "code",
   "execution_count": 58,
   "metadata": {},
   "outputs": [],
   "source": [
    "OtherPresidents = debt_p.loc[debt_p['president'] != 'Donald Trump']"
   ]
  },
  {
   "cell_type": "code",
   "execution_count": 59,
   "metadata": {},
   "outputs": [
    {
     "data": {
      "text/html": [
       "<div>\n",
       "<style scoped>\n",
       "    .dataframe tbody tr th:only-of-type {\n",
       "        vertical-align: middle;\n",
       "    }\n",
       "\n",
       "    .dataframe tbody tr th {\n",
       "        vertical-align: top;\n",
       "    }\n",
       "\n",
       "    .dataframe thead th {\n",
       "        text-align: right;\n",
       "    }\n",
       "</style>\n",
       "<table border=\"1\" class=\"dataframe\">\n",
       "  <thead>\n",
       "    <tr style=\"text-align: right;\">\n",
       "      <th></th>\n",
       "      <th>Date_x</th>\n",
       "      <th>Value</th>\n",
       "      <th>diff</th>\n",
       "      <th>president</th>\n",
       "      <th>Trump</th>\n",
       "    </tr>\n",
       "  </thead>\n",
       "  <tbody>\n",
       "    <tr>\n",
       "      <th>0</th>\n",
       "      <td>1966-04-01</td>\n",
       "      <td>39.26763</td>\n",
       "      <td>-1.07236</td>\n",
       "      <td>Lyndon B. Johnson</td>\n",
       "      <td>0</td>\n",
       "    </tr>\n",
       "    <tr>\n",
       "      <th>1</th>\n",
       "      <td>1966-07-01</td>\n",
       "      <td>39.62091</td>\n",
       "      <td>0.35328</td>\n",
       "      <td>Lyndon B. Johnson</td>\n",
       "      <td>0</td>\n",
       "    </tr>\n",
       "    <tr>\n",
       "      <th>2</th>\n",
       "      <td>1966-10-01</td>\n",
       "      <td>39.51977</td>\n",
       "      <td>-0.10114</td>\n",
       "      <td>Lyndon B. Johnson</td>\n",
       "      <td>0</td>\n",
       "    </tr>\n",
       "    <tr>\n",
       "      <th>3</th>\n",
       "      <td>1967-01-01</td>\n",
       "      <td>39.20383</td>\n",
       "      <td>-0.31594</td>\n",
       "      <td>Lyndon B. Johnson</td>\n",
       "      <td>0</td>\n",
       "    </tr>\n",
       "    <tr>\n",
       "      <th>4</th>\n",
       "      <td>1967-04-01</td>\n",
       "      <td>38.03292</td>\n",
       "      <td>-1.17091</td>\n",
       "      <td>Lyndon B. Johnson</td>\n",
       "      <td>0</td>\n",
       "    </tr>\n",
       "  </tbody>\n",
       "</table>\n",
       "</div>"
      ],
      "text/plain": [
       "      Date_x     Value     diff          president  Trump\n",
       "0 1966-04-01  39.26763 -1.07236  Lyndon B. Johnson      0\n",
       "1 1966-07-01  39.62091  0.35328  Lyndon B. Johnson      0\n",
       "2 1966-10-01  39.51977 -0.10114  Lyndon B. Johnson      0\n",
       "3 1967-01-01  39.20383 -0.31594  Lyndon B. Johnson      0\n",
       "4 1967-04-01  38.03292 -1.17091  Lyndon B. Johnson      0"
      ]
     },
     "execution_count": 59,
     "metadata": {},
     "output_type": "execute_result"
    }
   ],
   "source": [
    "OtherPresidents.head()"
   ]
  },
  {
   "cell_type": "code",
   "execution_count": null,
   "metadata": {},
   "outputs": [],
   "source": [
    "#from matplotlib import pyplot as plt\n",
    "#import matplotlib.mlab as mlab\n",
    "\n",
    "#mu = -0.024190000000001217\n",
    "#sigma = 1.1286357415481783\n",
    "\n",
    "#n, bins, patches = plt.hist(bins = 50, normed=1)\n",
    "#mu = np.mean\n",
    "#sigma = np.std\n",
    "#plt.plot(bins, mlab.normpdf(bins, mu, sigma))\n"
   ]
  },
  {
   "cell_type": "markdown",
   "metadata": {},
   "source": [
    "# Boxplot of Difference And Value of Only Donald Trump"
   ]
  },
  {
   "cell_type": "code",
   "execution_count": 47,
   "metadata": {},
   "outputs": [
    {
     "data": {
      "text/plain": [
       "<matplotlib.axes._subplots.AxesSubplot at 0x1c182b9a20>"
      ]
     },
     "execution_count": 47,
     "metadata": {},
     "output_type": "execute_result"
    },
    {
     "data": {
      "image/png": "[encoded data removed]",
      "text/plain": [
       "<Figure size 432x288 with 1 Axes>"
      ]
     },
     "metadata": {
      "needs_background": "light"
     },
     "output_type": "display_data"
    }
   ],
   "source": [
    "sns.boxplot(DT['diff'])"
   ]
  },
  {
   "cell_type": "code",
   "execution_count": 48,
   "metadata": {
    "scrolled": true
   },
   "outputs": [
    {
     "data": {
      "text/plain": [
       "<matplotlib.axes._subplots.AxesSubplot at 0x1c1862def0>"
      ]
     },
     "execution_count": 48,
     "metadata": {},
     "output_type": "execute_result"
    },
    {
     "data": {
      "image/png": "[encoded data removed]",
      "text/plain": [
       "<Figure size 432x288 with 1 Axes>"
      ]
     },
     "metadata": {
      "needs_background": "light"
     },
     "output_type": "display_data"
    }
   ],
   "source": [
    "sns.boxplot(DT['Value'])"
   ]
  },
  {
   "cell_type": "markdown",
   "metadata": {},
   "source": [
    "# Boxplot for Difference of All other presidents"
   ]
  },
  {
   "cell_type": "code",
   "execution_count": 60,
   "metadata": {},
   "outputs": [
    {
     "data": {
      "text/plain": [
       "<matplotlib.axes._subplots.AxesSubplot at 0x1c1923b3c8>"
      ]
     },
     "execution_count": 60,
     "metadata": {},
     "output_type": "execute_result"
    },
    {
     "data": {
      "image/png": "[encoded data removed]",
      "text/plain": [
       "<Figure size 432x288 with 1 Axes>"
      ]
     },
     "metadata": {
      "needs_background": "light"
     },
     "output_type": "display_data"
    }
   ],
   "source": [
    "sns.boxplot(OtherPresidents['diff'])"
   ]
  },
  {
   "cell_type": "code",
   "execution_count": null,
   "metadata": {},
   "outputs": [],
   "source": []
  },
  {
   "cell_type": "code",
   "execution_count": null,
   "metadata": {},
   "outputs": [],
   "source": []
  }
 ],
 "metadata": {
  "kernelspec": {
   "display_name": "Python [conda env:learn-env] *",
   "language": "python",
   "name": "conda-env-learn-env-py"
  },
  "language_info": {
   "codemirror_mode": {
    "name": "ipython",
    "version": 3
   },
   "file_extension": ".py",
   "mimetype": "text/x-python",
   "name": "python",
   "nbconvert_exporter": "python",
   "pygments_lexer": "ipython3",
   "version": "3.6.6"
  }
 },
 "nbformat": 4,
 "nbformat_minor": 2
}
