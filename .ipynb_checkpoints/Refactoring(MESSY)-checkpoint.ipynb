{
 "cells": [
  {
   "cell_type": "code",
   "execution_count": 2,
   "metadata": {},
   "outputs": [],
   "source": [
    "import quandl\n",
    "import pandas as pd\n",
    "import requests\n",
    "import numpy as np\n",
    "import seaborn as sns\n",
    "import matplotlib.pyplot as plt \n",
    "import json\n",
    "import datetime as dt\n",
    "import json\n",
    "import pandas as pd\n",
    "import math\n",
    "from datetime import datetime"
   ]
  },
  {
   "cell_type": "code",
   "execution_count": 3,
   "metadata": {},
   "outputs": [],
   "source": [
    "sp500 = quandl.get(\"YALE/SPCOMP\", authtoken=\"ckJvd5G2a2dkK9nun3xS\")"
   ]
  },
  {
   "cell_type": "code",
   "execution_count": 4,
   "metadata": {},
   "outputs": [],
   "source": [
    "u = quandl.get(\"FRED/UNRATENSA\", authtoken=\"ckJvd5G2a2dkK9nun3xS\")"
   ]
  },
  {
   "cell_type": "code",
   "execution_count": 5,
   "metadata": {},
   "outputs": [],
   "source": [
    "def create_columns_rlchange(df):\n",
    "    df.reset_index(inplace = True)\n",
    "    df['lag'] = df.iloc[:,1].shift(1)\n",
    "    to_drop = df.iloc[:1]\n",
    "    df.drop(to_drop.index, axis=0, inplace=True)\n",
    "    df['real_change'] = ((df.iloc[:,1]-df.iloc[:,2]))\n",
    "    df['monthly_return_per'] = (((df.iloc[:,1]-df.iloc[:,2])/df.iloc[:,2])*100)\n",
    "    df['month'] = df.iloc[:, 0].dt.month\n",
    "    df['year'] = df.iloc[: ,0].dt.year\n",
    "    df['monthyear'] = df['year'].map(str) + '/' + df['month'].map(str)\n",
    "    return df"
   ]
  },
  {
   "cell_type": "code",
   "execution_count": 6,
   "metadata": {},
   "outputs": [],
   "source": [
    "sp500 = quandl.get(\"YALE/SPCOMP\", authtoken=\"ckJvd5G2a2dkK9nun3xS\")"
   ]
  },
  {
   "cell_type": "code",
   "execution_count": 7,
   "metadata": {},
   "outputs": [],
   "source": [
    "def create_columns_prcntchange(df):\n",
    "    df.reset_index(inplace = True)\n",
    "    df['lag'] = df.iloc[:,1].shift(1)\n",
    "    to_drop1 = sp500.iloc[:,2:10]\n",
    "    df.drop(to_drop1, axis=1, inplace=True)\n",
    "    to_drop = df.iloc[:1]\n",
    "    df.drop(to_drop.index, axis=0, inplace=True)\n",
    "    df['monthly_return_per'] = (((df.iloc[:,1]-df.iloc[:,2])/df.iloc[:,2])*100)\n",
    "    df['month'] = df.iloc[:, 0].dt.month\n",
    "    df['year'] = df.iloc[: ,0].dt.year\n",
    "    df['monthyear'] = df['year'].map(str) + '/' + df['month'].map(str)\n",
    "    return df"
   ]
  },
  {
   "cell_type": "code",
   "execution_count": 1,
   "metadata": {},
   "outputs": [],
   "source": [
    "def sp_add_presidents(df):\n",
    "    presidents = pd.read_csv('us_presidents.csv')\n",
    "    presidents = pd.DataFrame(presidents)\n",
    "    date_start_series = list(presidents['start'])\n",
    "    date_end_series = list(presidents['end'])\n",
    "    date_end_series[-2] = 'January 20, 2017'\n",
    "    date_end_series[-1] = 'November 12, 2019'\n",
    "    \n",
    "    new_date_end_series = []\n",
    "    for row in date_end_series:\n",
    "        date = dt.datetime.strptime(row,'%B %d, %Y').strftime('%Y-%m-%d')\n",
    "        datetime_object = datetime.strptime(date, '%Y-%m-%d')\n",
    "        new_date_end_series.append(datetime_object)\n",
    "        \n",
    "    presidents['end_date'] = new_date_end_series  \n",
    "    \n",
    "    new_president_df = presidents[['president', 'end_date']].copy()\n",
    "        \n",
    "    new_president_df['month'] = new_president_df['end_date'].dt.month\n",
    "    new_president_df['year'] = new_president_df['end_date'].dt.year\n",
    "    new_president_df['monthyear'] = new_president_df['year'].map(str) + '/' + new_president_df['month'].map(str)\n",
    "    \n",
    "    sp500['Value'] = sp500['S&P Composite']\n",
    "    sp500['Date'] = sp500['Year']\n",
    "    df_n = df.merge(new_president_df, on='monthyear', how='left')\n",
    "    df_new = df_n[['Date','Value','diff', 'president']]\n",
    "    df_new['president'] = df_n['president'].fillna(method='backfill')\n",
    "    df_new.president.fillna('Donald Trump', inplace = True)\n",
    "    \n",
    "    return df_new\n",
    "    "
   ]
  },
  {
   "cell_type": "code",
   "execution_count": null,
   "metadata": {},
   "outputs": [],
   "source": []
  }
 ],
 "metadata": {
  "kernelspec": {
   "display_name": "learn-env",
   "language": "python",
   "name": "learn-env"
  },
  "language_info": {
   "codemirror_mode": {
    "name": "ipython",
    "version": 3
   },
   "file_extension": ".py",
   "mimetype": "text/x-python",
   "name": "python",
   "nbconvert_exporter": "python",
   "pygments_lexer": "ipython3",
   "version": "3.6.9"
  }
 },
 "nbformat": 4,
 "nbformat_minor": 2
}
