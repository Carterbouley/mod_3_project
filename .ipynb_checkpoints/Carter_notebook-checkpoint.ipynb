{
 "cells": [
  {
   "cell_type": "code",
   "execution_count": 3,
   "metadata": {},
   "outputs": [],
   "source": [
    "import requests\n",
    "import json\n",
    "import pandas as pd"
   ]
  },
  {
   "cell_type": "code",
   "execution_count": 7,
   "metadata": {},
   "outputs": [],
   "source": [
    "test = requests.get(\"http://www.quandl.com/api/v3/datasets/YALE/SPCOMP?start_date=2019-12-20&end_date=2019-12-31&api_key=KZv99Dx6pP9M_zVY9SzW\")"
   ]
  },
  {
   "cell_type": "code",
   "execution_count": 8,
   "metadata": {},
   "outputs": [
    {
     "data": {
      "text/plain": [
       "<Response [200]>"
      ]
     },
     "execution_count": 8,
     "metadata": {},
     "output_type": "execute_result"
    }
   ],
   "source": [
    "test"
   ]
  },
  {
   "cell_type": "code",
   "execution_count": 10,
   "metadata": {},
   "outputs": [],
   "source": [
    "test = test.json()"
   ]
  },
  {
   "cell_type": "code",
   "execution_count": 12,
   "metadata": {},
   "outputs": [
    {
     "data": {
      "text/plain": [
       "{'dataset': {'id': 539984,\n",
       "  'dataset_code': 'SPCOMP',\n",
       "  'database_code': 'YALE',\n",
       "  'name': 'S&P Composite',\n",
       "  'description': 'This data set consists of monthly stock price, dividends, and earnings data and the consumer price index (to allow conversion to real values), all starting January 1871. Further info at http://www.econ.yale.edu/~shiller/data.htm.',\n",
       "  'refreshed_at': '2019-11-02T02:34:19.704Z',\n",
       "  'newest_available_date': '2019-08-31',\n",
       "  'oldest_available_date': '1871-01-31',\n",
       "  'column_names': ['Year',\n",
       "   'S&P Composite',\n",
       "   'Dividend',\n",
       "   'Earnings',\n",
       "   'CPI',\n",
       "   'Long Interest Rate',\n",
       "   'Real Price',\n",
       "   'Real Dividend',\n",
       "   'Real Earnings',\n",
       "   'Cyclically Adjusted PE Ratio'],\n",
       "  'frequency': 'monthly',\n",
       "  'type': 'Time Series',\n",
       "  'premium': False,\n",
       "  'limit': None,\n",
       "  'transform': None,\n",
       "  'column_index': None,\n",
       "  'start_date': '2019-12-20',\n",
       "  'end_date': '2019-08-31',\n",
       "  'data': [],\n",
       "  'collapse': None,\n",
       "  'order': None,\n",
       "  'database_id': 175}}"
      ]
     },
     "execution_count": 12,
     "metadata": {},
     "output_type": "execute_result"
    }
   ],
   "source": [
    "test\n"
   ]
  },
  {
   "cell_type": "code",
   "execution_count": null,
   "metadata": {},
   "outputs": [],
   "source": []
  },
  {
   "cell_type": "code",
   "execution_count": 16,
   "metadata": {},
   "outputs": [],
   "source": [
    "test_2 = requests.get(\"https://www.quandl.com/api/v3/datasets/ZILLOW/M1300_MPPRSF?start_date=2018-11-30&end_date=2019-01-31&api_key=KZv99Dx6pP9M_zVY9SzW\")"
   ]
  },
  {
   "cell_type": "code",
   "execution_count": null,
   "metadata": {},
   "outputs": [],
   "source": []
  },
  {
   "cell_type": "code",
   "execution_count": 18,
   "metadata": {},
   "outputs": [
    {
     "data": {
      "text/plain": [
       "{'dataset': {'id': 46183307,\n",
       "  'dataset_code': 'M1300_MPPRSF',\n",
       "  'database_code': 'ZILLOW',\n",
       "  'name': 'Zillow Home Value Index (Metro): Median Price Of Reduction - Single-Family Residence - Canon City, CO',\n",
       "  'description': \"The Zillow Home Value Index is Zillow's estimate of the median market value of median price of reduction - single-family residence within the metro of Canon City, CO. This data is calculated by Zillow Real Estate Research (www.zillow.com/research) using their database of 110 million homes.\",\n",
       "  'refreshed_at': '2019-03-06T06:12:50.469Z',\n",
       "  'newest_available_date': '2019-01-31',\n",
       "  'oldest_available_date': '2010-09-30',\n",
       "  'column_names': ['Date', 'Value'],\n",
       "  'frequency': 'monthly',\n",
       "  'type': 'Time Series',\n",
       "  'premium': False,\n",
       "  'limit': None,\n",
       "  'transform': None,\n",
       "  'column_index': None,\n",
       "  'start_date': '2018-11-30',\n",
       "  'end_date': '2019-01-31',\n",
       "  'data': [['2019-01-31', 3.258064516129],\n",
       "   ['2018-12-31', 2.710027100271],\n",
       "   ['2018-11-30', 3.0310380055711]],\n",
       "  'collapse': None,\n",
       "  'order': None,\n",
       "  'database_id': 15274}}"
      ]
     },
     "execution_count": 18,
     "metadata": {},
     "output_type": "execute_result"
    }
   ],
   "source": [
    "test_2.json()"
   ]
  },
  {
   "cell_type": "code",
   "execution_count": null,
   "metadata": {},
   "outputs": [],
   "source": []
  }
 ],
 "metadata": {
  "kernelspec": {
   "display_name": "learn-env",
   "language": "python",
   "name": "learn-env"
  },
  "language_info": {
   "codemirror_mode": {
    "name": "ipython",
    "version": 3
   },
   "file_extension": ".py",
   "mimetype": "text/x-python",
   "name": "python",
   "nbconvert_exporter": "python",
   "pygments_lexer": "ipython3",
   "version": "3.6.9"
  }
 },
 "nbformat": 4,
 "nbformat_minor": 2
}
